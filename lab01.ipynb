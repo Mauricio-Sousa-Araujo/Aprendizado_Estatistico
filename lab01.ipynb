{
  "nbformat": 4,
  "nbformat_minor": 0,
  "metadata": {
    "colab": {
      "name": "lab01",
      "provenance": [],
      "collapsed_sections": [],
      "toc_visible": true,
      "authorship_tag": "ABX9TyMWGwhDjzIxZYGfHGGI0b4r",
      "include_colab_link": true
    },
    "kernelspec": {
      "name": "python3",
      "display_name": "Python 3"
    }
  },
  "cells": [
    {
      "cell_type": "markdown",
      "metadata": {
        "id": "view-in-github",
        "colab_type": "text"
      },
      "source": [
        "<a href=\"https://colab.research.google.com/github/Mauricio-Sousa-Araujo/Aprendizado_Estatistico/blob/master/lab01.ipynb\" target=\"_parent\"><img src=\"https://colab.research.google.com/assets/colab-badge.svg\" alt=\"Open In Colab\"/></a>"
      ]
    },
    {
      "cell_type": "code",
      "metadata": {
        "id": "kx82lHhScaNH",
        "colab_type": "code",
        "colab": {
          "base_uri": "https://localhost:8080/",
          "height": 124
        },
        "outputId": "a5edb862-6f2c-442c-801f-f5a6b3523166"
      },
      "source": [
        "from google.colab import drive\n",
        "drive.mount('/content/drive/')"
      ],
      "execution_count": 24,
      "outputs": [
        {
          "output_type": "stream",
          "text": [
            "Go to this URL in a browser: https://accounts.google.com/o/oauth2/auth?client_id=947318989803-6bn6qk8qdgf4n4g3pfee6491hc0brc4i.apps.googleusercontent.com&redirect_uri=urn%3aietf%3awg%3aoauth%3a2.0%3aoob&response_type=code&scope=email%20https%3a%2f%2fwww.googleapis.com%2fauth%2fdocs.test%20https%3a%2f%2fwww.googleapis.com%2fauth%2fdrive%20https%3a%2f%2fwww.googleapis.com%2fauth%2fdrive.photos.readonly%20https%3a%2f%2fwww.googleapis.com%2fauth%2fpeopleapi.readonly\n",
            "\n",
            "Enter your authorization code:\n",
            "··········\n",
            "Mounted at /content/drive/\n"
          ],
          "name": "stdout"
        }
      ]
    },
    {
      "cell_type": "code",
      "metadata": {
        "id": "335izJxGeH_v",
        "colab_type": "code",
        "colab": {}
      },
      "source": [
        "import zipfile                    #Ler e extrair o arquivo zip\n",
        "from zipfile import ZipFile\n",
        "import pandas as pd               \n",
        "import numpy as np                #Para trabalhar com matrizes\n",
        "import matplotlib.pyplot as plt\n",
        "import sklearn \n",
        "from urllib.request import urlopen  \n",
        "import os\n",
        "\n",
        "\n"
      ],
      "execution_count": 26,
      "outputs": []
    },
    {
      "cell_type": "code",
      "metadata": {
        "id": "BeeXZRatj8Pk",
        "colab_type": "code",
        "colab": {}
      },
      "source": [
        "URL = 'https://github.com/Mauricio-Sousa-Araujo/Aprendizado_Estatistico/blob/master/housing.zip?raw=true'\n",
        "# open and save the zip file onto computer\n",
        "url = urlopen(URL)\n",
        "output = open('housing.zip', 'wb')    # note the flag:  \"wb\"        \n",
        "output.write(url.read())\n",
        "output.close()\n",
        "# read the zip file as a pandas dataframe\n",
        "df = pd.read_csv('housing.zip')   # pandas version 0.18.1 takes zip files       \n",
        "# if keeping on disk the zip file is not wanted, then:\n",
        "os.remove('housing.zip')   # remove the copy of the zipfile on disk\n",
        "data=df"
      ],
      "execution_count": 27,
      "outputs": []
    },
    {
      "cell_type": "markdown",
      "metadata": {
        "id": "ZPYp9mPa2owM",
        "colab_type": "text"
      },
      "source": [
        "\n",
        "\n",
        "##<h1><b>1. Get Data </b></h1>\n",
        "\n",
        "Extraindo e lendo os dados **negrito**"
      ]
    },
    {
      "cell_type": "code",
      "metadata": {
        "id": "-JEa-IbbdQQu",
        "colab_type": "code",
        "colab": {
          "base_uri": "https://localhost:8080/",
          "height": 358
        },
        "outputId": "2736843f-94c6-44d7-a3c5-7b79f40a9b94"
      },
      "source": [
        "#path_file='/content/drive/My Drive/Colab Notebooks/housing.zip'\n",
        "path_file=\"https://github.com/Mauricio-Sousa-Araujo/Aprendizado_Estatistico/blob/master/housing.zip?raw=true\"\n",
        "url = urlopen(path_file)\n",
        "\n",
        "with zipfile.ZipFile('housing.zip', 'r') as zip:\n",
        "    # printing all the contents of the zip file \n",
        "    zip.printdir() \n",
        "    # extracting all the files \n",
        "    print('Extracting all the files now...') \n",
        "    zip.extractall() \n",
        "    print('Done!')"
      ],
      "execution_count": null,
      "outputs": [
        {
          "output_type": "error",
          "ename": "FileNotFoundError",
          "evalue": "ignored",
          "traceback": [
            "\u001b[0;31m---------------------------------------------------------------------------\u001b[0m",
            "\u001b[0;31mFileNotFoundError\u001b[0m                         Traceback (most recent call last)",
            "\u001b[0;32m<ipython-input-31-cc5975c1d4a7>\u001b[0m in \u001b[0;36m<module>\u001b[0;34m()\u001b[0m\n\u001b[1;32m      3\u001b[0m \u001b[0murl\u001b[0m \u001b[0;34m=\u001b[0m \u001b[0murlopen\u001b[0m\u001b[0;34m(\u001b[0m\u001b[0mpath_file\u001b[0m\u001b[0;34m)\u001b[0m\u001b[0;34m\u001b[0m\u001b[0;34m\u001b[0m\u001b[0m\n\u001b[1;32m      4\u001b[0m \u001b[0;34m\u001b[0m\u001b[0m\n\u001b[0;32m----> 5\u001b[0;31m \u001b[0;32mwith\u001b[0m \u001b[0mzipfile\u001b[0m\u001b[0;34m.\u001b[0m\u001b[0mZipFile\u001b[0m\u001b[0;34m(\u001b[0m\u001b[0;34m'housing.zip'\u001b[0m\u001b[0;34m,\u001b[0m \u001b[0;34m'r'\u001b[0m\u001b[0;34m)\u001b[0m \u001b[0;32mas\u001b[0m \u001b[0mzip\u001b[0m\u001b[0;34m:\u001b[0m\u001b[0;34m\u001b[0m\u001b[0;34m\u001b[0m\u001b[0m\n\u001b[0m\u001b[1;32m      6\u001b[0m     \u001b[0;31m# printing all the contents of the zip file\u001b[0m\u001b[0;34m\u001b[0m\u001b[0;34m\u001b[0m\u001b[0;34m\u001b[0m\u001b[0m\n\u001b[1;32m      7\u001b[0m     \u001b[0mzip\u001b[0m\u001b[0;34m.\u001b[0m\u001b[0mprintdir\u001b[0m\u001b[0;34m(\u001b[0m\u001b[0;34m)\u001b[0m\u001b[0;34m\u001b[0m\u001b[0;34m\u001b[0m\u001b[0m\n",
            "\u001b[0;32m/usr/lib/python3.6/zipfile.py\u001b[0m in \u001b[0;36m__init__\u001b[0;34m(self, file, mode, compression, allowZip64)\u001b[0m\n\u001b[1;32m   1111\u001b[0m             \u001b[0;32mwhile\u001b[0m \u001b[0;32mTrue\u001b[0m\u001b[0;34m:\u001b[0m\u001b[0;34m\u001b[0m\u001b[0;34m\u001b[0m\u001b[0m\n\u001b[1;32m   1112\u001b[0m                 \u001b[0;32mtry\u001b[0m\u001b[0;34m:\u001b[0m\u001b[0;34m\u001b[0m\u001b[0;34m\u001b[0m\u001b[0m\n\u001b[0;32m-> 1113\u001b[0;31m                     \u001b[0mself\u001b[0m\u001b[0;34m.\u001b[0m\u001b[0mfp\u001b[0m \u001b[0;34m=\u001b[0m \u001b[0mio\u001b[0m\u001b[0;34m.\u001b[0m\u001b[0mopen\u001b[0m\u001b[0;34m(\u001b[0m\u001b[0mfile\u001b[0m\u001b[0;34m,\u001b[0m \u001b[0mfilemode\u001b[0m\u001b[0;34m)\u001b[0m\u001b[0;34m\u001b[0m\u001b[0;34m\u001b[0m\u001b[0m\n\u001b[0m\u001b[1;32m   1114\u001b[0m                 \u001b[0;32mexcept\u001b[0m \u001b[0mOSError\u001b[0m\u001b[0;34m:\u001b[0m\u001b[0;34m\u001b[0m\u001b[0;34m\u001b[0m\u001b[0m\n\u001b[1;32m   1115\u001b[0m                     \u001b[0;32mif\u001b[0m \u001b[0mfilemode\u001b[0m \u001b[0;32min\u001b[0m \u001b[0mmodeDict\u001b[0m\u001b[0;34m:\u001b[0m\u001b[0;34m\u001b[0m\u001b[0;34m\u001b[0m\u001b[0m\n",
            "\u001b[0;31mFileNotFoundError\u001b[0m: [Errno 2] No such file or directory: 'housing.zip'"
          ]
        }
      ]
    },
    {
      "cell_type": "code",
      "metadata": {
        "id": "aJjinjxVeE0P",
        "colab_type": "code",
        "colab": {
          "base_uri": "https://localhost:8080/",
          "height": 226
        },
        "outputId": "e42a9822-69b8-41ac-a6b5-7b6129b00dde"
      },
      "source": [
        "data_name=\"housing.csv\"\n",
        "data=pd.read_csv(data_name)\n",
        "data.tail()"
      ],
      "execution_count": null,
      "outputs": [
        {
          "output_type": "execute_result",
          "data": {
            "text/html": [
              "<div>\n",
              "<style scoped>\n",
              "    .dataframe tbody tr th:only-of-type {\n",
              "        vertical-align: middle;\n",
              "    }\n",
              "\n",
              "    .dataframe tbody tr th {\n",
              "        vertical-align: top;\n",
              "    }\n",
              "\n",
              "    .dataframe thead th {\n",
              "        text-align: right;\n",
              "    }\n",
              "</style>\n",
              "<table border=\"1\" class=\"dataframe\">\n",
              "  <thead>\n",
              "    <tr style=\"text-align: right;\">\n",
              "      <th></th>\n",
              "      <th>longitude</th>\n",
              "      <th>latitude</th>\n",
              "      <th>housing_median_age</th>\n",
              "      <th>total_rooms</th>\n",
              "      <th>total_bedrooms</th>\n",
              "      <th>population</th>\n",
              "      <th>households</th>\n",
              "      <th>median_income</th>\n",
              "      <th>median_house_value</th>\n",
              "      <th>ocean_proximity</th>\n",
              "    </tr>\n",
              "  </thead>\n",
              "  <tbody>\n",
              "    <tr>\n",
              "      <th>20635</th>\n",
              "      <td>-121.09</td>\n",
              "      <td>39.48</td>\n",
              "      <td>25.0</td>\n",
              "      <td>1665.0</td>\n",
              "      <td>374.0</td>\n",
              "      <td>845.0</td>\n",
              "      <td>330.0</td>\n",
              "      <td>1.5603</td>\n",
              "      <td>78100.0</td>\n",
              "      <td>INLAND</td>\n",
              "    </tr>\n",
              "    <tr>\n",
              "      <th>20636</th>\n",
              "      <td>-121.21</td>\n",
              "      <td>39.49</td>\n",
              "      <td>18.0</td>\n",
              "      <td>697.0</td>\n",
              "      <td>150.0</td>\n",
              "      <td>356.0</td>\n",
              "      <td>114.0</td>\n",
              "      <td>2.5568</td>\n",
              "      <td>77100.0</td>\n",
              "      <td>INLAND</td>\n",
              "    </tr>\n",
              "    <tr>\n",
              "      <th>20637</th>\n",
              "      <td>-121.22</td>\n",
              "      <td>39.43</td>\n",
              "      <td>17.0</td>\n",
              "      <td>2254.0</td>\n",
              "      <td>485.0</td>\n",
              "      <td>1007.0</td>\n",
              "      <td>433.0</td>\n",
              "      <td>1.7000</td>\n",
              "      <td>92300.0</td>\n",
              "      <td>INLAND</td>\n",
              "    </tr>\n",
              "    <tr>\n",
              "      <th>20638</th>\n",
              "      <td>-121.32</td>\n",
              "      <td>39.43</td>\n",
              "      <td>18.0</td>\n",
              "      <td>1860.0</td>\n",
              "      <td>409.0</td>\n",
              "      <td>741.0</td>\n",
              "      <td>349.0</td>\n",
              "      <td>1.8672</td>\n",
              "      <td>84700.0</td>\n",
              "      <td>INLAND</td>\n",
              "    </tr>\n",
              "    <tr>\n",
              "      <th>20639</th>\n",
              "      <td>-121.24</td>\n",
              "      <td>39.37</td>\n",
              "      <td>16.0</td>\n",
              "      <td>2785.0</td>\n",
              "      <td>616.0</td>\n",
              "      <td>1387.0</td>\n",
              "      <td>530.0</td>\n",
              "      <td>2.3886</td>\n",
              "      <td>89400.0</td>\n",
              "      <td>INLAND</td>\n",
              "    </tr>\n",
              "  </tbody>\n",
              "</table>\n",
              "</div>"
            ],
            "text/plain": [
              "       longitude  latitude  ...  median_house_value  ocean_proximity\n",
              "20635    -121.09     39.48  ...             78100.0           INLAND\n",
              "20636    -121.21     39.49  ...             77100.0           INLAND\n",
              "20637    -121.22     39.43  ...             92300.0           INLAND\n",
              "20638    -121.32     39.43  ...             84700.0           INLAND\n",
              "20639    -121.24     39.37  ...             89400.0           INLAND\n",
              "\n",
              "[5 rows x 10 columns]"
            ]
          },
          "metadata": {
            "tags": []
          },
          "execution_count": 45
        }
      ]
    },
    {
      "cell_type": "markdown",
      "metadata": {
        "id": "ovn_cZmm5A_h",
        "colab_type": "text"
      },
      "source": [
        "\n",
        "Vemos abaixo que o dataset possui 10 colunas(features) e um total de 20640 instâncias das quais 9 são do tipo float64 e uma é do tipo object(string nesse caso). Note também que o atributo total_bedrooms possui 20640-20433=207 instâncias não preenchidas(null). Chamando a função descripe, conseguimos mais informações sobre o data, como desvio padrão, média, min, max etc.\n"
      ]
    },
    {
      "cell_type": "code",
      "metadata": {
        "id": "VBm-yO15fREJ",
        "colab_type": "code",
        "colab": {
          "base_uri": "https://localhost:8080/",
          "height": 668
        },
        "outputId": "18de7194-f813-4b16-b01a-c152f9c145a6"
      },
      "source": [
        "print(\"Data info:\")\n",
        "data.info()\n",
        "print()\n",
        "print(\"Data Descripe:\")\n",
        "data.describe()"
      ],
      "execution_count": null,
      "outputs": [
        {
          "output_type": "stream",
          "text": [
            "Data info:\n",
            "<class 'pandas.core.frame.DataFrame'>\n",
            "RangeIndex: 20640 entries, 0 to 20639\n",
            "Data columns (total 10 columns):\n",
            " #   Column              Non-Null Count  Dtype  \n",
            "---  ------              --------------  -----  \n",
            " 0   longitude           20640 non-null  float64\n",
            " 1   latitude            20640 non-null  float64\n",
            " 2   housing_median_age  20640 non-null  float64\n",
            " 3   total_rooms         20640 non-null  float64\n",
            " 4   total_bedrooms      20433 non-null  float64\n",
            " 5   population          20640 non-null  float64\n",
            " 6   households          20640 non-null  float64\n",
            " 7   median_income       20640 non-null  float64\n",
            " 8   median_house_value  20640 non-null  float64\n",
            " 9   ocean_proximity     20640 non-null  object \n",
            "dtypes: float64(9), object(1)\n",
            "memory usage: 1.6+ MB\n",
            "\n",
            "Data Descripe:\n"
          ],
          "name": "stdout"
        },
        {
          "output_type": "execute_result",
          "data": {
            "text/html": [
              "<div>\n",
              "<style scoped>\n",
              "    .dataframe tbody tr th:only-of-type {\n",
              "        vertical-align: middle;\n",
              "    }\n",
              "\n",
              "    .dataframe tbody tr th {\n",
              "        vertical-align: top;\n",
              "    }\n",
              "\n",
              "    .dataframe thead th {\n",
              "        text-align: right;\n",
              "    }\n",
              "</style>\n",
              "<table border=\"1\" class=\"dataframe\">\n",
              "  <thead>\n",
              "    <tr style=\"text-align: right;\">\n",
              "      <th></th>\n",
              "      <th>longitude</th>\n",
              "      <th>latitude</th>\n",
              "      <th>housing_median_age</th>\n",
              "      <th>total_rooms</th>\n",
              "      <th>total_bedrooms</th>\n",
              "      <th>population</th>\n",
              "      <th>households</th>\n",
              "      <th>median_income</th>\n",
              "      <th>median_house_value</th>\n",
              "    </tr>\n",
              "  </thead>\n",
              "  <tbody>\n",
              "    <tr>\n",
              "      <th>count</th>\n",
              "      <td>20640.000000</td>\n",
              "      <td>20640.000000</td>\n",
              "      <td>20640.000000</td>\n",
              "      <td>20640.000000</td>\n",
              "      <td>20433.000000</td>\n",
              "      <td>20640.000000</td>\n",
              "      <td>20640.000000</td>\n",
              "      <td>20640.000000</td>\n",
              "      <td>20640.000000</td>\n",
              "    </tr>\n",
              "    <tr>\n",
              "      <th>mean</th>\n",
              "      <td>-119.569704</td>\n",
              "      <td>35.631861</td>\n",
              "      <td>28.639486</td>\n",
              "      <td>2635.763081</td>\n",
              "      <td>537.870553</td>\n",
              "      <td>1425.476744</td>\n",
              "      <td>499.539680</td>\n",
              "      <td>3.870671</td>\n",
              "      <td>206855.816909</td>\n",
              "    </tr>\n",
              "    <tr>\n",
              "      <th>std</th>\n",
              "      <td>2.003532</td>\n",
              "      <td>2.135952</td>\n",
              "      <td>12.585558</td>\n",
              "      <td>2181.615252</td>\n",
              "      <td>421.385070</td>\n",
              "      <td>1132.462122</td>\n",
              "      <td>382.329753</td>\n",
              "      <td>1.899822</td>\n",
              "      <td>115395.615874</td>\n",
              "    </tr>\n",
              "    <tr>\n",
              "      <th>min</th>\n",
              "      <td>-124.350000</td>\n",
              "      <td>32.540000</td>\n",
              "      <td>1.000000</td>\n",
              "      <td>2.000000</td>\n",
              "      <td>1.000000</td>\n",
              "      <td>3.000000</td>\n",
              "      <td>1.000000</td>\n",
              "      <td>0.499900</td>\n",
              "      <td>14999.000000</td>\n",
              "    </tr>\n",
              "    <tr>\n",
              "      <th>25%</th>\n",
              "      <td>-121.800000</td>\n",
              "      <td>33.930000</td>\n",
              "      <td>18.000000</td>\n",
              "      <td>1447.750000</td>\n",
              "      <td>296.000000</td>\n",
              "      <td>787.000000</td>\n",
              "      <td>280.000000</td>\n",
              "      <td>2.563400</td>\n",
              "      <td>119600.000000</td>\n",
              "    </tr>\n",
              "    <tr>\n",
              "      <th>50%</th>\n",
              "      <td>-118.490000</td>\n",
              "      <td>34.260000</td>\n",
              "      <td>29.000000</td>\n",
              "      <td>2127.000000</td>\n",
              "      <td>435.000000</td>\n",
              "      <td>1166.000000</td>\n",
              "      <td>409.000000</td>\n",
              "      <td>3.534800</td>\n",
              "      <td>179700.000000</td>\n",
              "    </tr>\n",
              "    <tr>\n",
              "      <th>75%</th>\n",
              "      <td>-118.010000</td>\n",
              "      <td>37.710000</td>\n",
              "      <td>37.000000</td>\n",
              "      <td>3148.000000</td>\n",
              "      <td>647.000000</td>\n",
              "      <td>1725.000000</td>\n",
              "      <td>605.000000</td>\n",
              "      <td>4.743250</td>\n",
              "      <td>264725.000000</td>\n",
              "    </tr>\n",
              "    <tr>\n",
              "      <th>max</th>\n",
              "      <td>-114.310000</td>\n",
              "      <td>41.950000</td>\n",
              "      <td>52.000000</td>\n",
              "      <td>39320.000000</td>\n",
              "      <td>6445.000000</td>\n",
              "      <td>35682.000000</td>\n",
              "      <td>6082.000000</td>\n",
              "      <td>15.000100</td>\n",
              "      <td>500001.000000</td>\n",
              "    </tr>\n",
              "  </tbody>\n",
              "</table>\n",
              "</div>"
            ],
            "text/plain": [
              "          longitude      latitude  ...  median_income  median_house_value\n",
              "count  20640.000000  20640.000000  ...   20640.000000        20640.000000\n",
              "mean    -119.569704     35.631861  ...       3.870671       206855.816909\n",
              "std        2.003532      2.135952  ...       1.899822       115395.615874\n",
              "min     -124.350000     32.540000  ...       0.499900        14999.000000\n",
              "25%     -121.800000     33.930000  ...       2.563400       119600.000000\n",
              "50%     -118.490000     34.260000  ...       3.534800       179700.000000\n",
              "75%     -118.010000     37.710000  ...       4.743250       264725.000000\n",
              "max     -114.310000     41.950000  ...      15.000100       500001.000000\n",
              "\n",
              "[8 rows x 9 columns]"
            ]
          },
          "metadata": {
            "tags": []
          },
          "execution_count": 46
        }
      ]
    },
    {
      "cell_type": "code",
      "metadata": {
        "id": "q4hiNmjWNe1L",
        "colab_type": "code",
        "colab": {
          "base_uri": "https://localhost:8080/",
          "height": 1000
        },
        "outputId": "5de0cf0d-3c8f-47d4-f1a3-617db23f7935"
      },
      "source": [
        "\n",
        "data.hist(bins=50, figsize=(20,15))"
      ],
      "execution_count": null,
      "outputs": [
        {
          "output_type": "execute_result",
          "data": {
            "text/plain": [
              "array([[<matplotlib.axes._subplots.AxesSubplot object at 0x7fcdba85f828>,\n",
              "        <matplotlib.axes._subplots.AxesSubplot object at 0x7fcdb8880ac8>,\n",
              "        <matplotlib.axes._subplots.AxesSubplot object at 0x7fcdb8876d30>],\n",
              "       [<matplotlib.axes._subplots.AxesSubplot object at 0x7fcdb8827f98>,\n",
              "        <matplotlib.axes._subplots.AxesSubplot object at 0x7fcdb5fe1240>,\n",
              "        <matplotlib.axes._subplots.AxesSubplot object at 0x7fcdb5f954a8>],\n",
              "       [<matplotlib.axes._subplots.AxesSubplot object at 0x7fcdb5f4a710>,\n",
              "        <matplotlib.axes._subplots.AxesSubplot object at 0x7fcdb5efc940>,\n",
              "        <matplotlib.axes._subplots.AxesSubplot object at 0x7fcdb5efc9b0>]],\n",
              "      dtype=object)"
            ]
          },
          "metadata": {
            "tags": []
          },
          "execution_count": 47
        },
        {
          "output_type": "display_data",
          "data": {
            "image/png": "[encoded data removed]",
            "text/plain": [
              "<Figure size 1440x1080 with 9 Axes>"
            ]
          },
          "metadata": {
            "tags": [],
            "needs_background": "light"
          }
        }
      ]
    },
    {
      "cell_type": "markdown",
      "metadata": {
        "id": "pNHw0K8AB8Eu",
        "colab_type": "text"
      },
      "source": [
        "##<h1><b>2. Creating Test set, Training set and Validation set     </b></h1>\n",
        "\n",
        "\n"
      ]
    },
    {
      "cell_type": "code",
      "metadata": {
        "id": "jV_uDe9NNyLG",
        "colab_type": "code",
        "colab": {}
      },
      "source": [
        "def split_data(data,percentual):\n",
        "  shuffled_indices = np.random.permutation(len(data))\n",
        "  tam = int(len(data) * percentual)\n",
        "  return data.iloc[shuffled_indices[:tam]] , data.iloc[shuffled_indices[tam:]]"
      ],
      "execution_count": 28,
      "outputs": []
    },
    {
      "cell_type": "code",
      "metadata": {
        "id": "xO1-MS6aUzaR",
        "colab_type": "code",
        "colab": {
          "base_uri": "https://localhost:8080/",
          "height": 69
        },
        "outputId": "415a44cb-a969-4bdc-be3f-9990ff8070ca"
      },
      "source": [
        "data_train,data_test= split_data(data,0.8)  #80% para treino e 20% para teste\n",
        "data_train,data_val = split_data(data_train,0.8)  #80% para treino e 20% para validação\n",
        "\n",
        "print(f'Data Training possui : {data_train.values.shape[0]} instâncias ')\n",
        "print(f'Data Validation possui : {data_val.values.shape[0]} instâncias ')\n",
        "print(f'Data Test possui : {data_test.values.shape[0]} instâncias ')"
      ],
      "execution_count": 29,
      "outputs": [
        {
          "output_type": "stream",
          "text": [
            "Data Training possui : 13209 instâncias \n",
            "Data Validation possui : 3303 instâncias \n",
            "Data Test possui : 4128 instâncias \n"
          ],
          "name": "stdout"
        }
      ]
    },
    {
      "cell_type": "markdown",
      "metadata": {
        "id": "g9VTiDqDHqqO",
        "colab_type": "text"
      },
      "source": [
        "##<h1><b>3. Discover and Visualize the Data to Gain Insights</b></h1>\n",
        "\n",
        "\n"
      ]
    },
    {
      "cell_type": "code",
      "metadata": {
        "id": "bIW3GICOWU06",
        "colab_type": "code",
        "colab": {
          "base_uri": "https://localhost:8080/",
          "height": 558
        },
        "outputId": "791346b0-e660-4c58-f53f-87bc9ce2fb81"
      },
      "source": [
        "#Mapa da california\n",
        "data.plot(kind=\"scatter\", x=\"longitude\", y=\"latitude\")\n",
        "data.plot(kind=\"scatter\", x=\"longitude\", y=\"latitude\",alpha=0.1)"
      ],
      "execution_count": null,
      "outputs": [
        {
          "output_type": "execute_result",
          "data": {
            "text/plain": [
              "<matplotlib.axes._subplots.AxesSubplot at 0x7fe5470ce208>"
            ]
          },
          "metadata": {
            "tags": []
          },
          "execution_count": 10
        },
        {
          "output_type": "display_data",
          "data": {
            "image/png": "[encoded data removed]",
            "text/plain": [
              "<Figure size 432x288 with 1 Axes>"
            ]
          },
          "metadata": {
            "tags": [],
            "needs_background": "light"
          }
        },
        {
          "output_type": "display_data",
          "data": {
            "image/png": "[encoded data removed]",
            "text/plain": [
              "<Figure size 432x288 with 1 Axes>"
            ]
          },
          "metadata": {
            "tags": [],
            "needs_background": "light"
          }
        }
      ]
    },
    {
      "cell_type": "code",
      "metadata": {
        "id": "g40Z2KcwU4uQ",
        "colab_type": "code",
        "colab": {
          "base_uri": "https://localhost:8080/",
          "height": 225
        },
        "outputId": "bd13359c-b159-42a0-a9e1-7656bae21405"
      },
      "source": [
        "data[\"population\"]"
      ],
      "execution_count": null,
      "outputs": [
        {
          "output_type": "execute_result",
          "data": {
            "text/plain": [
              "0         322.0\n",
              "1        2401.0\n",
              "2         496.0\n",
              "3         558.0\n",
              "4         565.0\n",
              "          ...  \n",
              "20635     845.0\n",
              "20636     356.0\n",
              "20637    1007.0\n",
              "20638     741.0\n",
              "20639    1387.0\n",
              "Name: population, Length: 20640, dtype: float64"
            ]
          },
          "metadata": {
            "tags": []
          },
          "execution_count": 11
        }
      ]
    },
    {
      "cell_type": "code",
      "metadata": {
        "id": "Ka6KeBrIVzjf",
        "colab_type": "code",
        "colab": {
          "base_uri": "https://localhost:8080/",
          "height": 273
        },
        "outputId": "38eae00f-f41b-42fd-e954-1669fa076095"
      },
      "source": [
        "data.plot(kind=\"scatter\", x=\"longitude\", y=\"latitude\", alpha=0.4,\n",
        "             s=data[\"population\"]/100, label=\"population\",\n",
        "             c=data[\"median_house_value\"], cmap=plt.get_cmap(\"jet\"), colorbar=True,)\n",
        "plt.legend()"
      ],
      "execution_count": null,
      "outputs": [
        {
          "output_type": "execute_result",
          "data": {
            "text/plain": [
              "<matplotlib.legend.Legend at 0x7fe5477e0f98>"
            ]
          },
          "metadata": {
            "tags": []
          },
          "execution_count": 12
        },
        {
          "output_type": "display_data",
          "data": {
            "image/png": "[encoded data removed]",
            "text/plain": [
              "<Figure size 432x288 with 2 Axes>"
            ]
          },
          "metadata": {
            "tags": [],
            "needs_background": "light"
          }
        }
      ]
    },
    {
      "cell_type": "code",
      "metadata": {
        "id": "XgTT7BOHW8gV",
        "colab_type": "code",
        "colab": {
          "base_uri": "https://localhost:8080/",
          "height": 273
        },
        "outputId": "56f559cf-f674-4f9c-89b9-3418af7d1af4"
      },
      "source": [
        "data.plot(kind=\"scatter\", x=\"longitude\", y=\"latitude\", alpha=0.4,\n",
        "             s=data[\"population\"]/100, label=\"population\",\n",
        "             c=\"median_house_value\", cmap=plt.get_cmap(\"jet\"), colorbar=True,)\n",
        "plt.legend()"
      ],
      "execution_count": null,
      "outputs": [
        {
          "output_type": "execute_result",
          "data": {
            "text/plain": [
              "<matplotlib.legend.Legend at 0x7fe546e6de48>"
            ]
          },
          "metadata": {
            "tags": []
          },
          "execution_count": 13
        },
        {
          "output_type": "display_data",
          "data": {
            "image/png": "[encoded data removed]",
            "text/plain": [
              "<Figure size 432x288 with 2 Axes>"
            ]
          },
          "metadata": {
            "tags": [],
            "needs_background": "light"
          }
        }
      ]
    },
    {
      "cell_type": "markdown",
      "metadata": {
        "id": "rdfrESJGvreE",
        "colab_type": "text"
      },
      "source": [
        "Quando estamos analisando dados, é importante não termos excesso de features, como features redundantes ou propriedades que não nos auxiliam para resolver o problema posto. Uma forma de calcularmos o quanto duas features estão \n",
        "relacionadas(por exemplo, se uma tem dependência linear da outra) é utilizar o Pearson's product-moment coefficient.\n",
        "\\begin{equation*}\n",
        " {\\rho _{X,Y}=\\operatorname {corr} (X,Y)={\\operatorname {cov} (X,Y) \\over \\sigma _{X}\\sigma _{Y}}={\\operatorname {E} [(X-\\mu _{X})(Y-\\mu _{Y})] \\over \\sigma _{X}\\sigma _{Y}}} \n",
        " {={\\operatorname {E} (XY)-\\operatorname {E} (X)\\operatorname {E} (Y) \\over {\\sqrt {\\operatorname {E} (X^{2})-\\operatorname {E} (X)^{2}}}\\cdot {\\sqrt {\\operatorname {E} (Y^{2})-\\operatorname {E} (Y)^{2}}}}}\n",
        "\\end{equation*}\n",
        "\n",
        "Podemos estimar tal coeficiente pela fórmula:\n",
        "\\begin{equation*}\n",
        "{\\ r_{xy}\\quad {\\overset {\\underset {\\mathrm {def} }{}}{=}}\\quad {\\frac {\\sum \\limits _{i=1}^{n}(x_{i}-{\\bar {x}})(y_{i}-{\\bar {y}})}{(n-1)s_{x}s_{y}}}={\\frac {\\sum \\limits _{i=1}^{n}(x_{i}-{\\bar {x}})(y_{i}-{\\bar {y}})}{\\sqrt {\\sum \\limits _{i=1}^{n}(x_{i}-{\\bar {x}})^{2}\\sum \\limits _{i=1}^{n}(y_{i}-{\\bar {y}})^{2}}}}} \n",
        "\\end{equation*}\n",
        "\n",
        "Pela\n",
        "\n"
      ]
    },
    {
      "cell_type": "code",
      "metadata": {
        "id": "sLaSm-4xXQiG",
        "colab_type": "code",
        "colab": {
          "base_uri": "https://localhost:8080/",
          "height": 352
        },
        "outputId": "64308fbf-802d-464b-86ce-497b268921ae"
      },
      "source": [
        "data.corr(method=\"pearson\")\n"
      ],
      "execution_count": null,
      "outputs": [
        {
          "output_type": "execute_result",
          "data": {
            "text/html": [
              "<div>\n",
              "<style scoped>\n",
              "    .dataframe tbody tr th:only-of-type {\n",
              "        vertical-align: middle;\n",
              "    }\n",
              "\n",
              "    .dataframe tbody tr th {\n",
              "        vertical-align: top;\n",
              "    }\n",
              "\n",
              "    .dataframe thead th {\n",
              "        text-align: right;\n",
              "    }\n",
              "</style>\n",
              "<table border=\"1\" class=\"dataframe\">\n",
              "  <thead>\n",
              "    <tr style=\"text-align: right;\">\n",
              "      <th></th>\n",
              "      <th>longitude</th>\n",
              "      <th>latitude</th>\n",
              "      <th>housing_median_age</th>\n",
              "      <th>total_rooms</th>\n",
              "      <th>total_bedrooms</th>\n",
              "      <th>population</th>\n",
              "      <th>households</th>\n",
              "      <th>median_income</th>\n",
              "      <th>median_house_value</th>\n",
              "    </tr>\n",
              "  </thead>\n",
              "  <tbody>\n",
              "    <tr>\n",
              "      <th>longitude</th>\n",
              "      <td>1.000000</td>\n",
              "      <td>-0.924664</td>\n",
              "      <td>-0.108197</td>\n",
              "      <td>0.044568</td>\n",
              "      <td>0.069608</td>\n",
              "      <td>0.099773</td>\n",
              "      <td>0.055310</td>\n",
              "      <td>-0.015176</td>\n",
              "      <td>-0.045967</td>\n",
              "    </tr>\n",
              "    <tr>\n",
              "      <th>latitude</th>\n",
              "      <td>-0.924664</td>\n",
              "      <td>1.000000</td>\n",
              "      <td>0.011173</td>\n",
              "      <td>-0.036100</td>\n",
              "      <td>-0.066983</td>\n",
              "      <td>-0.108785</td>\n",
              "      <td>-0.071035</td>\n",
              "      <td>-0.079809</td>\n",
              "      <td>-0.144160</td>\n",
              "    </tr>\n",
              "    <tr>\n",
              "      <th>housing_median_age</th>\n",
              "      <td>-0.108197</td>\n",
              "      <td>0.011173</td>\n",
              "      <td>1.000000</td>\n",
              "      <td>-0.361262</td>\n",
              "      <td>-0.320451</td>\n",
              "      <td>-0.296244</td>\n",
              "      <td>-0.302916</td>\n",
              "      <td>-0.119034</td>\n",
              "      <td>0.105623</td>\n",
              "    </tr>\n",
              "    <tr>\n",
              "      <th>total_rooms</th>\n",
              "      <td>0.044568</td>\n",
              "      <td>-0.036100</td>\n",
              "      <td>-0.361262</td>\n",
              "      <td>1.000000</td>\n",
              "      <td>0.930380</td>\n",
              "      <td>0.857126</td>\n",
              "      <td>0.918484</td>\n",
              "      <td>0.198050</td>\n",
              "      <td>0.134153</td>\n",
              "    </tr>\n",
              "    <tr>\n",
              "      <th>total_bedrooms</th>\n",
              "      <td>0.069608</td>\n",
              "      <td>-0.066983</td>\n",
              "      <td>-0.320451</td>\n",
              "      <td>0.930380</td>\n",
              "      <td>1.000000</td>\n",
              "      <td>0.877747</td>\n",
              "      <td>0.979728</td>\n",
              "      <td>-0.007723</td>\n",
              "      <td>0.049686</td>\n",
              "    </tr>\n",
              "    <tr>\n",
              "      <th>population</th>\n",
              "      <td>0.099773</td>\n",
              "      <td>-0.108785</td>\n",
              "      <td>-0.296244</td>\n",
              "      <td>0.857126</td>\n",
              "      <td>0.877747</td>\n",
              "      <td>1.000000</td>\n",
              "      <td>0.907222</td>\n",
              "      <td>0.004834</td>\n",
              "      <td>-0.024650</td>\n",
              "    </tr>\n",
              "    <tr>\n",
              "      <th>households</th>\n",
              "      <td>0.055310</td>\n",
              "      <td>-0.071035</td>\n",
              "      <td>-0.302916</td>\n",
              "      <td>0.918484</td>\n",
              "      <td>0.979728</td>\n",
              "      <td>0.907222</td>\n",
              "      <td>1.000000</td>\n",
              "      <td>0.013033</td>\n",
              "      <td>0.065843</td>\n",
              "    </tr>\n",
              "    <tr>\n",
              "      <th>median_income</th>\n",
              "      <td>-0.015176</td>\n",
              "      <td>-0.079809</td>\n",
              "      <td>-0.119034</td>\n",
              "      <td>0.198050</td>\n",
              "      <td>-0.007723</td>\n",
              "      <td>0.004834</td>\n",
              "      <td>0.013033</td>\n",
              "      <td>1.000000</td>\n",
              "      <td>0.688075</td>\n",
              "    </tr>\n",
              "    <tr>\n",
              "      <th>median_house_value</th>\n",
              "      <td>-0.045967</td>\n",
              "      <td>-0.144160</td>\n",
              "      <td>0.105623</td>\n",
              "      <td>0.134153</td>\n",
              "      <td>0.049686</td>\n",
              "      <td>-0.024650</td>\n",
              "      <td>0.065843</td>\n",
              "      <td>0.688075</td>\n",
              "      <td>1.000000</td>\n",
              "    </tr>\n",
              "  </tbody>\n",
              "</table>\n",
              "</div>"
            ],
            "text/plain": [
              "                    longitude  latitude  ...  median_income  median_house_value\n",
              "longitude            1.000000 -0.924664  ...      -0.015176           -0.045967\n",
              "latitude            -0.924664  1.000000  ...      -0.079809           -0.144160\n",
              "housing_median_age  -0.108197  0.011173  ...      -0.119034            0.105623\n",
              "total_rooms          0.044568 -0.036100  ...       0.198050            0.134153\n",
              "total_bedrooms       0.069608 -0.066983  ...      -0.007723            0.049686\n",
              "population           0.099773 -0.108785  ...       0.004834           -0.024650\n",
              "households           0.055310 -0.071035  ...       0.013033            0.065843\n",
              "median_income       -0.015176 -0.079809  ...       1.000000            0.688075\n",
              "median_house_value  -0.045967 -0.144160  ...       0.688075            1.000000\n",
              "\n",
              "[9 rows x 9 columns]"
            ]
          },
          "metadata": {
            "tags": []
          },
          "execution_count": 14
        }
      ]
    },
    {
      "cell_type": "markdown",
      "metadata": {
        "id": "5OMWfu7FMrwc",
        "colab_type": "text"
      },
      "source": [
        "Data Cleaning"
      ]
    },
    {
      "cell_type": "code",
      "metadata": {
        "id": "QPuLS0_ujmuO",
        "colab_type": "code",
        "colab": {}
      },
      "source": [
        "\n",
        "housing = data.drop(\"median_house_value\", axis=1)#\n",
        "housing_labels = data[\"median_house_value\"].copy()\n"
      ],
      "execution_count": null,
      "outputs": []
    },
    {
      "cell_type": "code",
      "metadata": {
        "id": "tl8dmZLcxqvi",
        "colab_type": "code",
        "colab": {
          "base_uri": "https://localhost:8080/",
          "height": 225
        },
        "outputId": "4de7145a-c7d9-4a2a-d5b2-72c160b404e4"
      },
      "source": [
        "housing.dropna(subset=[\"total_bedrooms\"])    # option 1\n",
        "housing.drop(\"total_bedrooms\", axis=1)       # option 2\n",
        "median = housing[\"total_bedrooms\"].median()\n",
        "housing[\"total_bedrooms\"].fillna(median)     # option 3"
      ],
      "execution_count": null,
      "outputs": [
        {
          "output_type": "execute_result",
          "data": {
            "text/plain": [
              "0         129.0\n",
              "1        1106.0\n",
              "2         190.0\n",
              "3         235.0\n",
              "4         280.0\n",
              "          ...  \n",
              "20635     374.0\n",
              "20636     150.0\n",
              "20637     485.0\n",
              "20638     409.0\n",
              "20639     616.0\n",
              "Name: total_bedrooms, Length: 20640, dtype: float64"
            ]
          },
          "metadata": {
            "tags": []
          },
          "execution_count": 16
        }
      ]
    },
    {
      "cell_type": "markdown",
      "metadata": {
        "id": "GCmd8LisVKtL",
        "colab_type": "text"
      },
      "source": [
        "Handling Text and Categorical Attributes"
      ]
    },
    {
      "cell_type": "code",
      "metadata": {
        "id": "FfmKfGQqx475",
        "colab_type": "code",
        "colab": {
          "base_uri": "https://localhost:8080/",
          "height": 132
        },
        "outputId": "86a8ac3a-2a7c-4120-fe79-05fe9641e9a6"
      },
      "source": [
        "from sklearn.preprocessingimport LabelEncoder\n",
        "encoder = LabelEncoder()\n",
        "housing_cat = housing[\"ocean_proximity\"]\n",
        "housing_cat_encoded = encoder.fit_transform(housing_cat)\n",
        "housing_cat_encoded\n",
        "print(encoder.classes_)"
      ],
      "execution_count": null,
      "outputs": [
        {
          "output_type": "error",
          "ename": "SyntaxError",
          "evalue": "ignored",
          "traceback": [
            "\u001b[0;36m  File \u001b[0;32m\"<ipython-input-17-f0d319c286f2>\"\u001b[0;36m, line \u001b[0;32m1\u001b[0m\n\u001b[0;31m    from sklearn.preprocessingimport LabelEncoder\u001b[0m\n\u001b[0m                                                ^\u001b[0m\n\u001b[0;31mSyntaxError\u001b[0m\u001b[0;31m:\u001b[0m invalid syntax\n"
          ]
        }
      ]
    },
    {
      "cell_type": "code",
      "metadata": {
        "id": "CLwnwDCAWNDM",
        "colab_type": "code",
        "colab": {
          "base_uri": "https://localhost:8080/",
          "height": 132
        },
        "outputId": "83683ac6-3677-49a2-8484-f6c5e4ac8f0c"
      },
      "source": [
        "from sklearn.preprocessingimport OneHotEncoder\n",
        "encoder = OneHotEncoder()\n",
        "housing_cat_1hot = encoder.fit_transform(housing_cat_encoded.reshape(-1,1))\n",
        "housing_cat_1hot"
      ],
      "execution_count": null,
      "outputs": [
        {
          "output_type": "error",
          "ename": "SyntaxError",
          "evalue": "ignored",
          "traceback": [
            "\u001b[0;36m  File \u001b[0;32m\"<ipython-input-17-9025f78219be>\"\u001b[0;36m, line \u001b[0;32m1\u001b[0m\n\u001b[0;31m    from sklearn.preprocessingimport OneHotEncoder\u001b[0m\n\u001b[0m                                                 ^\u001b[0m\n\u001b[0;31mSyntaxError\u001b[0m\u001b[0;31m:\u001b[0m invalid syntax\n"
          ]
        }
      ]
    },
    {
      "cell_type": "markdown",
      "metadata": {
        "id": "u6jip1KCboMx",
        "colab_type": "text"
      },
      "source": [
        "##<h1><b>4. Prepare the Data for Machine Learning Algorithms </b></h1>\n",
        "Como supracitado, existem instâncias que não estão completamente preenchidas, então necessitamos tratar esses casos para que possamos dar como input para Machine Learning Algorithms(em sua grande maioria não trabalham com datasets com lacunas).\n",
        "\n",
        "Podemos tratar esse problema com as seguintes abordagens:\n",
        "1.   Livrar-se das instâncias que não estão completamente preenchidas.\n",
        "2.   Livrar-se de todo a/o feature/atributo.\n",
        "3.   Definir os valores que faltam para algum valor.No geral, temos dois tipos de abordagens:\n",
        "  1.   Univariate Imputation: Nessa primeira abordagem, substituimos todos as lacunas de um atributo com simples valor, como a média, mediana ,zero etc.\n",
        "  2.   Multivariate Imputation : Já nessa abordagem nós utilizamos o próprio dataset(as outras features) para estimar as lacunas.\n",
        "  \n",
        "Geralmente a abordagem mais utilizada é a 3, pois nas outras há perca de dados e para alguns problemas, os dados são escassos e valiosos.\n",
        "\n",
        "\n",
        "\n",
        "\n",
        "\n",
        "\n",
        "\n",
        "\n"
      ]
    },
    {
      "cell_type": "code",
      "metadata": {
        "id": "tduI78oEGGYy",
        "colab_type": "code",
        "colab": {}
      },
      "source": [
        "#Exemplo simples\n",
        "data_train.dropna(subset=[\"total_bedrooms\"])    # Primeira opção\n",
        "data_train.drop(\"total_bedrooms\", axis=1)       # Segunda opção\n",
        "median = data_train[\"total_bedrooms\"].median()\n",
        "data_train[\"total_bedrooms\"].fillna(median)     # Terceira opção Univariate Imputation"
      ],
      "execution_count": null,
      "outputs": []
    },
    {
      "cell_type": "markdown",
      "metadata": {
        "id": "0PsZmiKruUuy",
        "colab_type": "text"
      },
      "source": [
        "<h3><b>Utilizando a opção 3 </b></h3>\n",
        "\n",
        "Note que se optarmos pela terceiro opção, quando tivermos novos dados, precisaremos preencher esse novo dado adequadamente para introduzi-lo como input de um determinado algortimo. Podemos fazer isso utilizando  [Imputation of missing values](https://scikit-learn.org/stable/modules/impute.html#impute) da biblioteca [sklearn](https://scikit-learn.org/stable/)\n",
        "\n",
        "To apply MICE, create 5 copies (say) of this simple data set and cycle multiple times through the steps below for each copy:\n",
        "\n",
        "Step 1: Replace (or impute) the missing values in each variable with temporary \"place holder\" values derived solely from the non-missing values available for that variable. For example, replace the missing age value with the mean age value observed in the data, replace the missing income values with the mean income value observed in the data, etc.\n",
        "\n",
        "Step 2 Set back to missing the “place holder” imputations for the age variable only. This way, the current data copy contains missing values for age, but not for income and gender.\n",
        "\n",
        "Step 3: Regress age on income and gender via a linear regression model (though it is possible to also regress age on only one of these variables); to be able to fit the model to the current data copy, drop all the records where age is missing during the model fitting process. In this model, age is the dependent variable and income and gender are the independent variables.\n",
        "\n",
        "Step 4 Use the fitted regression model in the previous step to predict the missing age values. (When age will be subsequently used as an independent variable in the regression models for other variables, both the observed values of age and these predicted values will be used.) The article doesn't make it clear that a random component should be added to these predictions.\n",
        "\n",
        "Step 5: Repeat Steps 2–4 separately for each variable that has missing data, namely income and gender.\n",
        "\n",
        "Cycling through Steps 1 - 5 once for each of the variables age, income and gender constitutes one cycle. At the end of this cycle, all of the missing values in age, income an gender will have been replaced with predictions from regression models that reflect the relationships observed in the data between these variables."
      ]
    },
    {
      "cell_type": "code",
      "metadata": {
        "id": "YFfAG8vagUJ7",
        "colab_type": "code",
        "colab": {
          "base_uri": "https://localhost:8080/",
          "height": 312
        },
        "outputId": "8061a823-6d5a-40ae-981f-81047fae7ffe"
      },
      "source": [
        "import numpy as np\n",
        "from sklearn.experimental import enable_iterative_imputer\n",
        "from sklearn.impute import IterativeImputer\n",
        "imp = IterativeImputer(max_iter=10, random_state=0)\n",
        "data_aux=data_train.drop(\"ocean_proximity\",axis=1)\n",
        "imp.fit(data_aux)\n",
        "data_aux=pd.DataFrame(imp.transform(data_aux),columns=data_aux.columns)\n",
        "data_aux[\"ocean_proximity\"]=data_train[\"ocean_proximity\"].values\n",
        "data_aux.info()"
      ],
      "execution_count": 30,
      "outputs": [
        {
          "output_type": "stream",
          "text": [
            "<class 'pandas.core.frame.DataFrame'>\n",
            "RangeIndex: 13209 entries, 0 to 13208\n",
            "Data columns (total 10 columns):\n",
            " #   Column              Non-Null Count  Dtype  \n",
            "---  ------              --------------  -----  \n",
            " 0   longitude           13209 non-null  float64\n",
            " 1   latitude            13209 non-null  float64\n",
            " 2   housing_median_age  13209 non-null  float64\n",
            " 3   total_rooms         13209 non-null  float64\n",
            " 4   total_bedrooms      13209 non-null  float64\n",
            " 5   population          13209 non-null  float64\n",
            " 6   households          13209 non-null  float64\n",
            " 7   median_income       13209 non-null  float64\n",
            " 8   median_house_value  13209 non-null  float64\n",
            " 9   ocean_proximity     13209 non-null  object \n",
            "dtypes: float64(9), object(1)\n",
            "memory usage: 1.0+ MB\n"
          ],
          "name": "stdout"
        }
      ]
    },
    {
      "cell_type": "code",
      "metadata": {
        "id": "JwzK327SuTQn",
        "colab_type": "code",
        "colab": {
          "base_uri": "https://localhost:8080/",
          "height": 295
        },
        "outputId": "38a32ebf-b7ec-44f7-fff8-a250cf2e9c79"
      },
      "source": [
        "\n",
        "from sklearn.impute import SimpleImputer\n",
        "imputer = SimpleImputer(missing_values=np.nan, strategy='mean')\n",
        "data_train_fill=data_train.drop(\"ocean_proximity\", axis=1)\n",
        "columns=data_train_fill.columns\n",
        "imputer.fit(data_train_fill)\n",
        "data_train_fill=imputer.transform(data_train_fill)\n",
        "data_train_fill = pd.DataFrame(data_train_fill, columns=columns)\n",
        "data_train_fill.info()"
      ],
      "execution_count": null,
      "outputs": [
        {
          "output_type": "stream",
          "text": [
            "<class 'pandas.core.frame.DataFrame'>\n",
            "RangeIndex: 13209 entries, 0 to 13208\n",
            "Data columns (total 9 columns):\n",
            " #   Column              Non-Null Count  Dtype  \n",
            "---  ------              --------------  -----  \n",
            " 0   longitude           13209 non-null  float64\n",
            " 1   latitude            13209 non-null  float64\n",
            " 2   housing_median_age  13209 non-null  float64\n",
            " 3   total_rooms         13209 non-null  float64\n",
            " 4   total_bedrooms      13209 non-null  float64\n",
            " 5   population          13209 non-null  float64\n",
            " 6   households          13209 non-null  float64\n",
            " 7   median_income       13209 non-null  float64\n",
            " 8   median_house_value  13209 non-null  float64\n",
            "dtypes: float64(9)\n",
            "memory usage: 928.9 KB\n"
          ],
          "name": "stdout"
        }
      ]
    },
    {
      "cell_type": "markdown",
      "metadata": {
        "id": "CTPx6di45Lmb",
        "colab_type": "text"
      },
      "source": [
        "Label Encoder"
      ]
    },
    {
      "cell_type": "code",
      "metadata": {
        "id": "fDnPvnAzx90G",
        "colab_type": "code",
        "colab": {
          "base_uri": "https://localhost:8080/",
          "height": 312
        },
        "outputId": "620c8353-e0a1-4040-ae3f-3ef45a2010dc"
      },
      "source": [
        "from sklearn import preprocessing\n",
        "le = preprocessing.LabelEncoder()\n",
        "le.fit(data_aux['ocean_proximity'])\n",
        "le.transform(data_aux['ocean_proximity'])\n",
        "data_train_labeled=data_aux.copy()\n",
        "data_train_labeled['ocean_proximity']=le.transform(data_train_labeled['ocean_proximity'])\n",
        "data_train_labeled.info()"
      ],
      "execution_count": 31,
      "outputs": [
        {
          "output_type": "stream",
          "text": [
            "<class 'pandas.core.frame.DataFrame'>\n",
            "RangeIndex: 13209 entries, 0 to 13208\n",
            "Data columns (total 10 columns):\n",
            " #   Column              Non-Null Count  Dtype  \n",
            "---  ------              --------------  -----  \n",
            " 0   longitude           13209 non-null  float64\n",
            " 1   latitude            13209 non-null  float64\n",
            " 2   housing_median_age  13209 non-null  float64\n",
            " 3   total_rooms         13209 non-null  float64\n",
            " 4   total_bedrooms      13209 non-null  float64\n",
            " 5   population          13209 non-null  float64\n",
            " 6   households          13209 non-null  float64\n",
            " 7   median_income       13209 non-null  float64\n",
            " 8   median_house_value  13209 non-null  float64\n",
            " 9   ocean_proximity     13209 non-null  int64  \n",
            "dtypes: float64(9), int64(1)\n",
            "memory usage: 1.0 MB\n"
          ],
          "name": "stdout"
        }
      ]
    },
    {
      "cell_type": "markdown",
      "metadata": {
        "id": "ob9WeIa35MZ9",
        "colab_type": "text"
      },
      "source": [
        "One Hot Encoder"
      ]
    },
    {
      "cell_type": "code",
      "metadata": {
        "id": "Rrf6lHSy5LSs",
        "colab_type": "code",
        "colab": {
          "base_uri": "https://localhost:8080/",
          "height": 444
        },
        "outputId": "294722d4-75d7-41b0-e7c5-8f8e3e3bd32e"
      },
      "source": [
        "from sklearn.preprocessing import OneHotEncoder\n",
        "ohe = OneHotEncoder(handle_unknown='ignore',sparse=False )\n",
        "data_aux=np.resize(data_train[\"ocean_proximity\"].values,(len(data_train[\"ocean_proximity\"]),1))\n",
        "ohe.fit(data_aux)\n",
        "data_aux=np.resize(data_train[\"ocean_proximity\"].values,(len(data_train[\"ocean_proximity\"]),1)) #\n",
        "ohe.transform(data_aux)\n",
        "data_train_ohe=data_train.drop(\"ocean_proximity\",axis=1)\n",
        "data_aux=ohe.transform(data_aux)\n",
        "for i in range(data_aux.shape[1]):\n",
        "  data_train_ohe[f\"ocean_proximity_{i}\"]=data_aux[:,i]\n",
        "data_train_ohe"
      ],
      "execution_count": null,
      "outputs": [
        {
          "output_type": "execute_result",
          "data": {
            "text/html": [
              "<div>\n",
              "<style scoped>\n",
              "    .dataframe tbody tr th:only-of-type {\n",
              "        vertical-align: middle;\n",
              "    }\n",
              "\n",
              "    .dataframe tbody tr th {\n",
              "        vertical-align: top;\n",
              "    }\n",
              "\n",
              "    .dataframe thead th {\n",
              "        text-align: right;\n",
              "    }\n",
              "</style>\n",
              "<table border=\"1\" class=\"dataframe\">\n",
              "  <thead>\n",
              "    <tr style=\"text-align: right;\">\n",
              "      <th></th>\n",
              "      <th>longitude</th>\n",
              "      <th>latitude</th>\n",
              "      <th>housing_median_age</th>\n",
              "      <th>total_rooms</th>\n",
              "      <th>total_bedrooms</th>\n",
              "      <th>population</th>\n",
              "      <th>households</th>\n",
              "      <th>median_income</th>\n",
              "      <th>median_house_value</th>\n",
              "      <th>ocean_proximity_0</th>\n",
              "      <th>ocean_proximity_1</th>\n",
              "      <th>ocean_proximity_2</th>\n",
              "      <th>ocean_proximity_3</th>\n",
              "      <th>ocean_proximity_4</th>\n",
              "    </tr>\n",
              "  </thead>\n",
              "  <tbody>\n",
              "    <tr>\n",
              "      <th>15583</th>\n",
              "      <td>-116.68</td>\n",
              "      <td>33.16</td>\n",
              "      <td>26.0</td>\n",
              "      <td>1820.0</td>\n",
              "      <td>374.0</td>\n",
              "      <td>1001.0</td>\n",
              "      <td>324.0</td>\n",
              "      <td>2.1797</td>\n",
              "      <td>156300.0</td>\n",
              "      <td>0.0</td>\n",
              "      <td>1.0</td>\n",
              "      <td>0.0</td>\n",
              "      <td>0.0</td>\n",
              "      <td>0.0</td>\n",
              "    </tr>\n",
              "    <tr>\n",
              "      <th>2316</th>\n",
              "      <td>-119.69</td>\n",
              "      <td>36.85</td>\n",
              "      <td>20.0</td>\n",
              "      <td>2655.0</td>\n",
              "      <td>432.0</td>\n",
              "      <td>1081.0</td>\n",
              "      <td>379.0</td>\n",
              "      <td>4.5398</td>\n",
              "      <td>143100.0</td>\n",
              "      <td>0.0</td>\n",
              "      <td>1.0</td>\n",
              "      <td>0.0</td>\n",
              "      <td>0.0</td>\n",
              "      <td>0.0</td>\n",
              "    </tr>\n",
              "    <tr>\n",
              "      <th>2869</th>\n",
              "      <td>-118.94</td>\n",
              "      <td>35.37</td>\n",
              "      <td>23.0</td>\n",
              "      <td>1106.0</td>\n",
              "      <td>252.0</td>\n",
              "      <td>790.0</td>\n",
              "      <td>230.0</td>\n",
              "      <td>1.8523</td>\n",
              "      <td>59700.0</td>\n",
              "      <td>0.0</td>\n",
              "      <td>1.0</td>\n",
              "      <td>0.0</td>\n",
              "      <td>0.0</td>\n",
              "      <td>0.0</td>\n",
              "    </tr>\n",
              "    <tr>\n",
              "      <th>18436</th>\n",
              "      <td>-121.84</td>\n",
              "      <td>37.25</td>\n",
              "      <td>17.0</td>\n",
              "      <td>2363.0</td>\n",
              "      <td>473.0</td>\n",
              "      <td>1369.0</td>\n",
              "      <td>442.0</td>\n",
              "      <td>4.8355</td>\n",
              "      <td>141600.0</td>\n",
              "      <td>1.0</td>\n",
              "      <td>0.0</td>\n",
              "      <td>0.0</td>\n",
              "      <td>0.0</td>\n",
              "      <td>0.0</td>\n",
              "    </tr>\n",
              "    <tr>\n",
              "      <th>17760</th>\n",
              "      <td>-121.83</td>\n",
              "      <td>37.33</td>\n",
              "      <td>27.0</td>\n",
              "      <td>3127.0</td>\n",
              "      <td>610.0</td>\n",
              "      <td>3257.0</td>\n",
              "      <td>604.0</td>\n",
              "      <td>4.6333</td>\n",
              "      <td>173600.0</td>\n",
              "      <td>1.0</td>\n",
              "      <td>0.0</td>\n",
              "      <td>0.0</td>\n",
              "      <td>0.0</td>\n",
              "      <td>0.0</td>\n",
              "    </tr>\n",
              "    <tr>\n",
              "      <th>...</th>\n",
              "      <td>...</td>\n",
              "      <td>...</td>\n",
              "      <td>...</td>\n",
              "      <td>...</td>\n",
              "      <td>...</td>\n",
              "      <td>...</td>\n",
              "      <td>...</td>\n",
              "      <td>...</td>\n",
              "      <td>...</td>\n",
              "      <td>...</td>\n",
              "      <td>...</td>\n",
              "      <td>...</td>\n",
              "      <td>...</td>\n",
              "      <td>...</td>\n",
              "    </tr>\n",
              "    <tr>\n",
              "      <th>7810</th>\n",
              "      <td>-118.10</td>\n",
              "      <td>33.90</td>\n",
              "      <td>37.0</td>\n",
              "      <td>796.0</td>\n",
              "      <td>175.0</td>\n",
              "      <td>740.0</td>\n",
              "      <td>183.0</td>\n",
              "      <td>3.6000</td>\n",
              "      <td>156400.0</td>\n",
              "      <td>1.0</td>\n",
              "      <td>0.0</td>\n",
              "      <td>0.0</td>\n",
              "      <td>0.0</td>\n",
              "      <td>0.0</td>\n",
              "    </tr>\n",
              "    <tr>\n",
              "      <th>461</th>\n",
              "      <td>-122.26</td>\n",
              "      <td>37.87</td>\n",
              "      <td>52.0</td>\n",
              "      <td>2773.0</td>\n",
              "      <td>998.0</td>\n",
              "      <td>1721.0</td>\n",
              "      <td>949.0</td>\n",
              "      <td>1.1859</td>\n",
              "      <td>241700.0</td>\n",
              "      <td>0.0</td>\n",
              "      <td>0.0</td>\n",
              "      <td>0.0</td>\n",
              "      <td>1.0</td>\n",
              "      <td>0.0</td>\n",
              "    </tr>\n",
              "    <tr>\n",
              "      <th>12942</th>\n",
              "      <td>-121.27</td>\n",
              "      <td>38.65</td>\n",
              "      <td>25.0</td>\n",
              "      <td>2787.0</td>\n",
              "      <td>601.0</td>\n",
              "      <td>1247.0</td>\n",
              "      <td>522.0</td>\n",
              "      <td>2.9016</td>\n",
              "      <td>159800.0</td>\n",
              "      <td>0.0</td>\n",
              "      <td>1.0</td>\n",
              "      <td>0.0</td>\n",
              "      <td>0.0</td>\n",
              "      <td>0.0</td>\n",
              "    </tr>\n",
              "    <tr>\n",
              "      <th>6657</th>\n",
              "      <td>-118.12</td>\n",
              "      <td>34.15</td>\n",
              "      <td>19.0</td>\n",
              "      <td>557.0</td>\n",
              "      <td>216.0</td>\n",
              "      <td>673.0</td>\n",
              "      <td>212.0</td>\n",
              "      <td>2.1763</td>\n",
              "      <td>168800.0</td>\n",
              "      <td>1.0</td>\n",
              "      <td>0.0</td>\n",
              "      <td>0.0</td>\n",
              "      <td>0.0</td>\n",
              "      <td>0.0</td>\n",
              "    </tr>\n",
              "    <tr>\n",
              "      <th>6248</th>\n",
              "      <td>-117.97</td>\n",
              "      <td>34.05</td>\n",
              "      <td>34.0</td>\n",
              "      <td>2050.0</td>\n",
              "      <td>495.0</td>\n",
              "      <td>1832.0</td>\n",
              "      <td>465.0</td>\n",
              "      <td>2.8333</td>\n",
              "      <td>155700.0</td>\n",
              "      <td>1.0</td>\n",
              "      <td>0.0</td>\n",
              "      <td>0.0</td>\n",
              "      <td>0.0</td>\n",
              "      <td>0.0</td>\n",
              "    </tr>\n",
              "  </tbody>\n",
              "</table>\n",
              "<p>13209 rows × 14 columns</p>\n",
              "</div>"
            ],
            "text/plain": [
              "       longitude  latitude  ...  ocean_proximity_3  ocean_proximity_4\n",
              "15583    -116.68     33.16  ...                0.0                0.0\n",
              "2316     -119.69     36.85  ...                0.0                0.0\n",
              "2869     -118.94     35.37  ...                0.0                0.0\n",
              "18436    -121.84     37.25  ...                0.0                0.0\n",
              "17760    -121.83     37.33  ...                0.0                0.0\n",
              "...          ...       ...  ...                ...                ...\n",
              "7810     -118.10     33.90  ...                0.0                0.0\n",
              "461      -122.26     37.87  ...                1.0                0.0\n",
              "12942    -121.27     38.65  ...                0.0                0.0\n",
              "6657     -118.12     34.15  ...                0.0                0.0\n",
              "6248     -117.97     34.05  ...                0.0                0.0\n",
              "\n",
              "[13209 rows x 14 columns]"
            ]
          },
          "metadata": {
            "tags": []
          },
          "execution_count": 124
        }
      ]
    },
    {
      "cell_type": "markdown",
      "metadata": {
        "id": "pFO01cSVu4v9",
        "colab_type": "text"
      },
      "source": [
        ""
      ]
    },
    {
      "cell_type": "markdown",
      "metadata": {
        "id": "RnMsRlP8rb0i",
        "colab_type": "text"
      },
      "source": [
        "\n",
        "\n",
        "<h1><b>. Feature Scaling </b></h1>\n",
        "\n",
        "\n"
      ]
    },
    {
      "cell_type": "code",
      "metadata": {
        "id": "nmSsvY-x-qOg",
        "colab_type": "code",
        "colab": {
          "base_uri": "https://localhost:8080/",
          "height": 34
        },
        "outputId": "7a70976e-613f-4ee1-c8ce-036e64adbeaf"
      },
      "source": [
        ""
      ],
      "execution_count": null,
      "outputs": [
        {
          "output_type": "execute_result",
          "data": {
            "text/plain": [
              "5"
            ]
          },
          "metadata": {
            "tags": []
          },
          "execution_count": 122
        }
      ]
    },
    {
      "cell_type": "code",
      "metadata": {
        "id": "OXJmchmn2OAF",
        "colab_type": "code",
        "colab": {}
      },
      "source": [
        "class Framework():\n",
        "  def __init__(self): \n",
        "  \n",
        "    '''Data'''\n",
        "    self.data=None\n",
        "    self.data_train=None\n",
        "    self.data_val=None\n",
        "    self.data_test=None\n",
        "\n",
        "    '''Tratamento de strings'''\n",
        "    self.label_encoders=dict()\n",
        "    self.one_hot_encoder=dict()\n",
        "\n",
        "  def extracting_data(self,path_file='/content/drive/My Drive/Colab Notebooks/housing.zip'):\n",
        "    with zipfile.ZipFile(path_file, 'r') as zip:\n",
        "      # printing all the contents of the zip file \n",
        "      zip.printdir() \n",
        "      # extracting all the files \n",
        "      print('Extracting all the files now...') \n",
        "      zip.extractall() \n",
        "      print('Done!')\n",
        "  \n",
        "  def  get_data(self,data_name=\"housing.csv\"):\n",
        "    self.data=pd.read_csv(data_name)\n",
        "\n",
        "  def  split_data(self,percentual_train=0.7275,percentual_val=0.1275,percentual_test=0.15):#85% para treino e 15% para teste\n",
        "    self.data_train,self.data_test= self.split(data,percentual_train+percentual_val)        \n",
        "    self.data_train,self.data_val = self.split(data_train,percentual_train/(percentual_train+percentual_val))                              #85% para train  e 20% para validação\n",
        "    print(f'Data Training possui : {data_train.values.shape[0]} instâncias ')\n",
        "    print(f'Data Validation possui : {data_val.values.shape[0]} instâncias ')\n",
        "    print(f'Data Test possui : {data_test.values.shape[0]} instâncias ')\n",
        "\n",
        "  def split(data,percentual):\n",
        "    shuffled_indices = np.random.permutation(len(data))\n",
        "    tam = int(len(data) * percentual)\n",
        "    return data.iloc[shuffled_indices[:tam]] , data.iloc[shuffled_indices[tam:]]\n",
        "\n",
        "  def treat_missing_values(self):\n",
        "    pass\n",
        "    \n",
        "  def label_encoder_fit(self,feature_name_encoder='ocean_proximity'):\n",
        "    le = sklearn.preprocessing.LabelEncoder()\n",
        "    le.fit(data_train[feature_name_encoder])\n",
        "    self.label_encoders[feature_name_encoder]=le\n",
        "\n",
        "  def label_encoder_transform(self,feature_name_transform='ocean_proximity'):\n",
        "    #self.label_encoders[feature_name_encoder]=le\n",
        "    pass\n",
        "  def one_hot_encoder_fit(self,feature_name_encoder='ocean_proximity'):\n",
        "    pass\n",
        "  def one_hot_encoder_transform(self,feature_name_encoder='ocean_proximity'):\n",
        "    pass\n"
      ],
      "execution_count": null,
      "outputs": []
    },
    {
      "cell_type": "code",
      "metadata": {
        "id": "UfcAILODIRtp",
        "colab_type": "code",
        "colab": {}
      },
      "source": [
        ""
      ],
      "execution_count": null,
      "outputs": []
    },
    {
      "cell_type": "markdown",
      "metadata": {
        "id": "pwkahJC8hWJL",
        "colab_type": "text"
      },
      "source": [
        "De forma simplificada, temos que a ideia da regressão linear é reduzir o Mean  Square  Error(MSE). Essa equação mede o quão bom o nosso modelo se ajusta aos dados.\n",
        "\\begin{equation*}\n",
        "MSE(\\theta)= \\frac{\\sum^{m}_{i=1}[(\\sum^{n}_{j=0}\\theta_{j}x^{(i)}_{j})-y^{(i)}]^2}{m}\n",
        "\\end{equation*}, onde $\\theta_js$ são os hiperparâmetros que serão ajustados para o modelo, $x_j^{(i)}$ é a entrada do modelo representando a j-ésima feature e a i-ésima instância, $y^{(i)}$ representa a variável que estamos tentando predizer. Além disso, $x_0^{(i)}$ é sempre igual a 1  para que bias term($\\theta_0$) esteja sempre presente. Para acharmos o mínimo dessa função, podemos derivar em relação da cada $\\theta$ e igualar a zero para achar o ponto mínimo, então:\n",
        "\\begin{equation*}\n",
        "\\frac{\\partial MSE(\\theta)}{\\partial\\theta_k}=\\frac{\\sum_{i=1}^{m}2x_k^{(i)}[(\\sum^{n}_{j=0}\\theta_{j}x^{(i)}_{j})-y^{(i)}]}{m} = \\frac{2\\sum_{i=1}^{m}x_k^{(i)}\\sum_{j=0}^{n}\\theta_jx^{(i)}_j-2\\sum_{i=1}^m x_{k}^{(i)}y^{(i)}}{m}=0\n",
        "\\end{equation*} \n",
        "Portanto,\n",
        "\\begin{equation*}\n",
        "\\sum_{i=1}^{m}x_k^{(i)}\\sum_{j=0}^{n}\\theta_jx^{(i)}_j-\\sum_{i=1}^m x_{k}^{(i)}y^{(i)}=0\n",
        "\\end{equation*} \n",
        "\n",
        "Repara que temos n+1 incógnitas($\\theta s$) e n+1 equações, podemos recrever tais equações em notação matricial\n",
        "\\begin{equation*}\n",
        "X^TX \\theta =X^{T}Y\n",
        "\\end{equation*}\n",
        "então:\n",
        "$$\\theta=((X^TX))^{-1}X^TY$$\n",
        " Onde X representa nossa matriz de entrada com a cada coluna representando uma feature e cada linha representando uma instância, Y(nosso Target) uma matriz com 1 coluna e cada linha representando uma instância e $\\theta$ nosso hiperparâmetro de uma coluna e n linhas. \n",
        " Tal equação é mais conhecida como a equação normal e com auxílio de bibliotecas o problema fica facilmente resolvível,resolvemos apenas com algumas linhas de código, como abaixo:"
      ]
    },
    {
      "cell_type": "code",
      "metadata": {
        "id": "pdIvkRSwISQe",
        "colab_type": "code",
        "colab": {}
      },
      "source": [
        "n_rows=len(data_train_labeled)\n",
        "X= data_train_labeled.drop(\"median_income\",axis=1).values\n",
        "X =np.column_stack( [np.ones(n_rows),  X])\n",
        "Y=np.resize( data_train_labeled[\"median_income\"].values,(n_rows,1) )\n",
        "    \n",
        "def fit(X,Y):\n",
        "  return np.dot( np.dot( np.linalg.inv( np.dot( X.T,X ) ), X.T) ,Y) #Equação"
      ],
      "execution_count": 46,
      "outputs": []
    },
    {
      "cell_type": "code",
      "metadata": {
        "id": "7859PbCS0ZEo",
        "colab_type": "code",
        "colab": {
          "base_uri": "https://localhost:8080/",
          "height": 191
        },
        "outputId": "98444243-0d1a-4d9a-8cf6-3e6ee1cee7a4"
      },
      "source": [
        "Theta=fit(X,Y)\n",
        "Theta"
      ],
      "execution_count": 49,
      "outputs": [
        {
          "output_type": "execute_result",
          "data": {
            "text/plain": [
              "array([[ 4.26259265e+00],\n",
              "       [ 1.28015197e-02],\n",
              "       [-3.86423475e-03],\n",
              "       [-2.11494048e-02],\n",
              "       [ 8.76038266e-04],\n",
              "       [-5.16343592e-03],\n",
              "       [-2.95457609e-05],\n",
              "       [ 7.28583444e-04],\n",
              "       [ 1.01551195e-05],\n",
              "       [-5.79925051e-02]])"
            ]
          },
          "metadata": {
            "tags": []
          },
          "execution_count": 49
        }
      ]
    },
    {
      "cell_type": "markdown",
      "metadata": {
        "id": "4uT5PoZe6MPO",
        "colab_type": "text"
      },
      "source": [
        "Também podemos utilizar a biblioteca sklearn para tal tarefa\n",
        "\n",
        "---\n",
        "\n"
      ]
    },
    {
      "cell_type": "code",
      "metadata": {
        "id": "5binO0t46LFM",
        "colab_type": "code",
        "colab": {
          "base_uri": "https://localhost:8080/",
          "height": 86
        },
        "outputId": "add438f3-283a-4df4-f9a8-91bb5c3a8347"
      },
      "source": [
        "from sklearn.linear_model import LinearRegression\n",
        "n_rows=len(data_train_labeled)\n",
        "X= data_train_labeled.drop(\"median_income\",axis=1).values\n",
        "Y=np.resize( data_train_labeled[\"median_income\"].values,(n_rows,1) )\n",
        "reg = LinearRegression()\n",
        "reg.fit(X,Y)\n",
        "print(reg.intercept_)\n",
        "reg.coef_\n"
      ],
      "execution_count": 57,
      "outputs": [
        {
          "output_type": "stream",
          "text": [
            "[4.26259265]\n"
          ],
          "name": "stdout"
        },
        {
          "output_type": "execute_result",
          "data": {
            "text/plain": [
              "array([[ 1.28015197e-02, -3.86423475e-03, -2.11494048e-02,\n",
              "         8.76038266e-04, -5.16343592e-03, -2.95457609e-05,\n",
              "         7.28583444e-04,  1.01551195e-05, -5.79925051e-02]])"
            ]
          },
          "metadata": {
            "tags": []
          },
          "execution_count": 57
        }
      ]
    },
    {
      "cell_type": "markdown",
      "metadata": {
        "id": "Xysf-rSjBhUi",
        "colab_type": "text"
      },
      "source": [
        "##<h1><b> Feature Scaling  </b></h1>\n",
        "\n",
        "Temos que para <b>Padronizar</b> os dados  aplicamos a fórmula $$x_{changed}=\\frac{x-\\mu}{\\sigma}$$\n",
        "\n",
        "Já para <b>Normalizar</b> os dados podemos fazer de algumas fórmulas, por exemplo, podemos usar Min-Max:\n",
        "$$x_{changed}=\\frac{x- x_{min}}{x_{max}-x{min}} $$ Para mais informações sobre qual modelo é melhor [aqui](https://medium.com/data-hackers/normalizar-ou-padronizar-as-vari%C3%A1veis-3b619876ccc9). Mas de forma resumida,as duas técnicas tem o mesmo objetivo: transformar todas as variáveis na mesma ordem de grandeza. E a diferença básica é que padronizar as variáveis irá resultar em uma média igual a 0 e um desvio padrão igual a 1. Já normalizar tem como objetivo colocar as variáveis dentro do intervalo de 0 e 1, caso tenha resultado negativo -1 e 1.Na dúvida de qual modelo escolher, teste os dois modelos. Podemos aplicar tais fórmulas facilmente usando a biblioteca sklearn, respectivamente:\n",
        "\n",
        "\n"
      ]
    },
    {
      "cell_type": "code",
      "metadata": {
        "id": "A6KuRTij7AmH",
        "colab_type": "code",
        "colab": {
          "base_uri": "https://localhost:8080/",
          "height": 243
        },
        "outputId": "5c1f0827-b996-49fd-cb08-9190a90397a2"
      },
      "source": [
        "from sklearn import preprocessing\n",
        "scaler = preprocessing.StandardScaler().fit(data_train_labeled)\n",
        "scaler.transform(data_train_labeled)"
      ],
      "execution_count": 68,
      "outputs": [
        {
          "output_type": "execute_result",
          "data": {
            "text/plain": [
              "array([[ 1.3038378 , -1.24824087, -0.83441124, ...,  0.32315839,\n",
              "         0.12900355, -0.82037622],\n",
              "       [ 0.56655946, -0.77993343, -0.99331291, ...,  0.64226804,\n",
              "         0.65241337, -0.82037622],\n",
              "       [ 1.17929754, -1.29975468, -0.51660789, ...,  0.47529328,\n",
              "         0.7569226 ,  1.98878762],\n",
              "       ...,\n",
              "       [-2.24805039,  2.07674192, -0.91386208, ..., -0.66353455,\n",
              "        -0.6224264 ,  1.98878762],\n",
              "       [-1.33143409,  1.01836712,  1.46966306, ..., -0.66132435,\n",
              "        -0.21561777,  1.28649666],\n",
              "       [ 0.65124684, -0.70500424,  1.86691725, ..., -0.60575381,\n",
              "         0.01240235, -0.82037622]])"
            ]
          },
          "metadata": {
            "tags": []
          },
          "execution_count": 68
        }
      ]
    },
    {
      "cell_type": "code",
      "metadata": {
        "id": "RhhKW47TIOvQ",
        "colab_type": "code",
        "colab": {
          "base_uri": "https://localhost:8080/",
          "height": 243
        },
        "outputId": "24bb6817-fc9d-47e3-8d06-07354bc7a046"
      },
      "source": [
        "from sklearn import preprocessing\n",
        "scaler = preprocessing.MinMaxScaler().fit(data_train_labeled)\n",
        "scaler.transform(data_train_labeled)\n"
      ],
      "execution_count": 61,
      "outputs": [
        {
          "output_type": "execute_result",
          "data": {
            "text/plain": [
              "array([[0.73705179, 0.04361702, 0.33333333, ..., 0.27586516, 0.42804153,\n",
              "        0.        ],\n",
              "       [0.58964143, 0.15      , 0.29411765, ..., 0.31768527, 0.55298947,\n",
              "        0.        ],\n",
              "       [0.71215139, 0.03191489, 0.41176471, ..., 0.29580282, 0.57793782,\n",
              "        1.        ],\n",
              "       ...,\n",
              "       [0.02689243, 0.79893617, 0.31372549, ..., 0.1465566 , 0.24866083,\n",
              "        1.        ],\n",
              "       [0.21015936, 0.55851064, 0.90196078, ..., 0.14684625, 0.34577383,\n",
              "        0.75      ],\n",
              "       [0.60657371, 0.16702128, 1.        , ..., 0.15412891, 0.4002066 ,\n",
              "        0.        ]])"
            ]
          },
          "metadata": {
            "tags": []
          },
          "execution_count": 61
        }
      ]
    },
    {
      "cell_type": "code",
      "metadata": {
        "id": "1N2HOCxNI17z",
        "colab_type": "code",
        "colab": {}
      },
      "source": [
        ""
      ],
      "execution_count": 69,
      "outputs": []
    },
    {
      "cell_type": "code",
      "metadata": {
        "id": "CkHESrlbJ5hm",
        "colab_type": "code",
        "colab": {}
      },
      "source": [
        ""
      ],
      "execution_count": null,
      "outputs": []
    }
  ]
}