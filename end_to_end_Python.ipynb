{
  "nbformat": 4,
  "nbformat_minor": 0,
  "metadata": {
    "colab": {
      "name": "end_to_end_Python.ipynb",
      "provenance": [],
      "collapsed_sections": [
        "0wxniCOUJlPu"
      ],
      "authorship_tag": "ABX9TyOLx5SuCf28B2i/swyBIECW",
      "include_colab_link": true
    },
    "kernelspec": {
      "name": "python3",
      "display_name": "Python 3"
    }
  },
  "cells": [
    {
      "cell_type": "markdown",
      "metadata": {
        "id": "view-in-github",
        "colab_type": "text"
      },
      "source": [
        "<a href=\"https://colab.research.google.com/github/Mauricio-Sousa-Araujo/Aprendizado_Estatistico/blob/master/end_to_end_Python.ipynb\" target=\"_parent\"><img src=\"https://colab.research.google.com/assets/colab-badge.svg\" alt=\"Open In Colab\"/></a>"
      ]
    },
    {
      "cell_type": "markdown",
      "metadata": {
        "id": "HRouEKoe3HJ-",
        "colab_type": "text"
      },
      "source": [
        "##<h1><b>Introdução</b></h1>\n",
        "\n",
        "Esse Colab tem como objetivo exemplicar um projeto de Machine Learning(ML) end to end mostrando os frequentes problemas que nos deparamos ao analisar um dataset. O método aplicado de ML será simples (Regressão linear), mas tão importante quanto o método usado, é o caminho que precisamos passar para colocarmos os dados de fato em um algoritmo. Exploraremos o dataset [California Housing Prices](https://www.kaggle.com/camnugent/california-housing-prices)(1990). Você pode utilizá-lo como um tool para seus projetos mais avançado.\n",
        "Ele está dividido da seguinte forma:\n",
        "1.   Get Data\n",
        "2.   Criando os conjuntos de Test, Training e Validation.\n",
        "3.   Conhecendo os dados\n",
        "4.   Preparando os dados algoritmos de Machine Learning \n",
        "  1.   Lidando com variáveis do tipo string\n",
        "5.   Feature Scaling\n",
        "6.   Trabalhando com o primeiro modelo: Regressão Linear\n",
        "7.   Motivação para a existência do conjunto de validação\n",
        "8.   Organizando o código\n",
        "\n",
        "\n",
        "\n"
      ]
    },
    {
      "cell_type": "code",
      "metadata": {
        "id": "_7F6tj2S3IJ1",
        "colab_type": "code",
        "colab": {}
      },
      "source": [
        "#Bibliotecas usadas\n",
        "import pandas as pd                 #Para trabalhar com DataFrame\n",
        "import numpy as np                  #Para trabalhar com matrizes\n",
        "import matplotlib.pyplot as plt     #Para plotagem dos dados\n",
        "import sklearn                      #Para os algoritmos de Machine Learning\n",
        "from urllib.request import urlopen  #Para leitura de dados pelo URL(dataset presente no GitHub)\n",
        "import os                           #Para trabalhar com diretórios\n"
      ],
      "execution_count": null,
      "outputs": []
    },
    {
      "cell_type": "markdown",
      "metadata": {
        "id": "BP42GGmsM6Ry",
        "colab_type": "text"
      },
      "source": [
        "\n",
        "##<h1><b>1. Get Data </b></h1>\n",
        "\n",
        "Download e leitura dos dados "
      ]
    },
    {
      "cell_type": "code",
      "metadata": {
        "id": "BeeXZRatj8Pk",
        "colab_type": "code",
        "colab": {
          "base_uri": "https://localhost:8080/",
          "height": 226
        },
        "outputId": "cff911cc-5153-4f61-820b-158a170bac3c"
      },
      "source": [
        "URL = 'https://github.com/Mauricio-Sousa-Araujo/Aprendizado_Estatistico/blob/master/housing.zip?raw=true'\n",
        "# open and save the zip file onto computer\n",
        "url = urlopen(URL)\n",
        "output = open('housing.zip', 'wb')  # note the flag:  \"wb\"        \n",
        "output.write(url.read())\n",
        "output.close()\n",
        "# read the zip file as a pandas dataframe\n",
        "data = pd.read_csv('housing.zip')   # pandas version 0.18.1 takes zip files       \n",
        "# if keeping on disk the zip file is not wanted, then:\n",
        "os.remove('housing.zip')            # remove the copy of the zipfile on disk\n",
        "data.tail()"
      ],
      "execution_count": null,
      "outputs": [
        {
          "output_type": "execute_result",
          "data": {
            "text/html": [
              "<div>\n",
              "<style scoped>\n",
              "    .dataframe tbody tr th:only-of-type {\n",
              "        vertical-align: middle;\n",
              "    }\n",
              "\n",
              "    .dataframe tbody tr th {\n",
              "        vertical-align: top;\n",
              "    }\n",
              "\n",
              "    .dataframe thead th {\n",
              "        text-align: right;\n",
              "    }\n",
              "</style>\n",
              "<table border=\"1\" class=\"dataframe\">\n",
              "  <thead>\n",
              "    <tr style=\"text-align: right;\">\n",
              "      <th></th>\n",
              "      <th>longitude</th>\n",
              "      <th>latitude</th>\n",
              "      <th>housing_median_age</th>\n",
              "      <th>total_rooms</th>\n",
              "      <th>total_bedrooms</th>\n",
              "      <th>population</th>\n",
              "      <th>households</th>\n",
              "      <th>median_income</th>\n",
              "      <th>median_house_value</th>\n",
              "      <th>ocean_proximity</th>\n",
              "    </tr>\n",
              "  </thead>\n",
              "  <tbody>\n",
              "    <tr>\n",
              "      <th>20635</th>\n",
              "      <td>-121.09</td>\n",
              "      <td>39.48</td>\n",
              "      <td>25.0</td>\n",
              "      <td>1665.0</td>\n",
              "      <td>374.0</td>\n",
              "      <td>845.0</td>\n",
              "      <td>330.0</td>\n",
              "      <td>1.5603</td>\n",
              "      <td>78100.0</td>\n",
              "      <td>INLAND</td>\n",
              "    </tr>\n",
              "    <tr>\n",
              "      <th>20636</th>\n",
              "      <td>-121.21</td>\n",
              "      <td>39.49</td>\n",
              "      <td>18.0</td>\n",
              "      <td>697.0</td>\n",
              "      <td>150.0</td>\n",
              "      <td>356.0</td>\n",
              "      <td>114.0</td>\n",
              "      <td>2.5568</td>\n",
              "      <td>77100.0</td>\n",
              "      <td>INLAND</td>\n",
              "    </tr>\n",
              "    <tr>\n",
              "      <th>20637</th>\n",
              "      <td>-121.22</td>\n",
              "      <td>39.43</td>\n",
              "      <td>17.0</td>\n",
              "      <td>2254.0</td>\n",
              "      <td>485.0</td>\n",
              "      <td>1007.0</td>\n",
              "      <td>433.0</td>\n",
              "      <td>1.7000</td>\n",
              "      <td>92300.0</td>\n",
              "      <td>INLAND</td>\n",
              "    </tr>\n",
              "    <tr>\n",
              "      <th>20638</th>\n",
              "      <td>-121.32</td>\n",
              "      <td>39.43</td>\n",
              "      <td>18.0</td>\n",
              "      <td>1860.0</td>\n",
              "      <td>409.0</td>\n",
              "      <td>741.0</td>\n",
              "      <td>349.0</td>\n",
              "      <td>1.8672</td>\n",
              "      <td>84700.0</td>\n",
              "      <td>INLAND</td>\n",
              "    </tr>\n",
              "    <tr>\n",
              "      <th>20639</th>\n",
              "      <td>-121.24</td>\n",
              "      <td>39.37</td>\n",
              "      <td>16.0</td>\n",
              "      <td>2785.0</td>\n",
              "      <td>616.0</td>\n",
              "      <td>1387.0</td>\n",
              "      <td>530.0</td>\n",
              "      <td>2.3886</td>\n",
              "      <td>89400.0</td>\n",
              "      <td>INLAND</td>\n",
              "    </tr>\n",
              "  </tbody>\n",
              "</table>\n",
              "</div>"
            ],
            "text/plain": [
              "       longitude  latitude  ...  median_house_value  ocean_proximity\n",
              "20635    -121.09     39.48  ...             78100.0           INLAND\n",
              "20636    -121.21     39.49  ...             77100.0           INLAND\n",
              "20637    -121.22     39.43  ...             92300.0           INLAND\n",
              "20638    -121.32     39.43  ...             84700.0           INLAND\n",
              "20639    -121.24     39.37  ...             89400.0           INLAND\n",
              "\n",
              "[5 rows x 10 columns]"
            ]
          },
          "metadata": {
            "tags": []
          },
          "execution_count": 190
        }
      ]
    },
    {
      "cell_type": "markdown",
      "metadata": {
        "id": "ovn_cZmm5A_h",
        "colab_type": "text"
      },
      "source": [
        "Vemos abaixo que o dataset possui 10 colunas(features) e um total de 20640 instâncias das quais 9 são do tipo float64 e uma é do tipo object(string nesse caso). Note também que o atributo total_bedrooms possui 20640-20433=207 instâncias não preenchidas(null). Chamando a função descripe, conseguimos mais informações sobre o data, como desvio padrão, média, min, max etc.\n"
      ]
    },
    {
      "cell_type": "code",
      "metadata": {
        "id": "VBm-yO15fREJ",
        "colab_type": "code",
        "colab": {
          "base_uri": "https://localhost:8080/",
          "height": 668
        },
        "outputId": "56e36c80-502e-4829-a430-84899156b864"
      },
      "source": [
        "print(\"Data info:\")\n",
        "data.info()\n",
        "print()\n",
        "print(\"Data Descripe:\")\n",
        "data.describe()"
      ],
      "execution_count": null,
      "outputs": [
        {
          "output_type": "stream",
          "text": [
            "Data info:\n",
            "<class 'pandas.core.frame.DataFrame'>\n",
            "RangeIndex: 20640 entries, 0 to 20639\n",
            "Data columns (total 10 columns):\n",
            " #   Column              Non-Null Count  Dtype  \n",
            "---  ------              --------------  -----  \n",
            " 0   longitude           20640 non-null  float64\n",
            " 1   latitude            20640 non-null  float64\n",
            " 2   housing_median_age  20640 non-null  float64\n",
            " 3   total_rooms         20640 non-null  float64\n",
            " 4   total_bedrooms      20433 non-null  float64\n",
            " 5   population          20640 non-null  float64\n",
            " 6   households          20640 non-null  float64\n",
            " 7   median_income       20640 non-null  float64\n",
            " 8   median_house_value  20640 non-null  float64\n",
            " 9   ocean_proximity     20640 non-null  object \n",
            "dtypes: float64(9), object(1)\n",
            "memory usage: 1.6+ MB\n",
            "\n",
            "Data Descripe:\n"
          ],
          "name": "stdout"
        },
        {
          "output_type": "execute_result",
          "data": {
            "text/html": [
              "<div>\n",
              "<style scoped>\n",
              "    .dataframe tbody tr th:only-of-type {\n",
              "        vertical-align: middle;\n",
              "    }\n",
              "\n",
              "    .dataframe tbody tr th {\n",
              "        vertical-align: top;\n",
              "    }\n",
              "\n",
              "    .dataframe thead th {\n",
              "        text-align: right;\n",
              "    }\n",
              "</style>\n",
              "<table border=\"1\" class=\"dataframe\">\n",
              "  <thead>\n",
              "    <tr style=\"text-align: right;\">\n",
              "      <th></th>\n",
              "      <th>longitude</th>\n",
              "      <th>latitude</th>\n",
              "      <th>housing_median_age</th>\n",
              "      <th>total_rooms</th>\n",
              "      <th>total_bedrooms</th>\n",
              "      <th>population</th>\n",
              "      <th>households</th>\n",
              "      <th>median_income</th>\n",
              "      <th>median_house_value</th>\n",
              "    </tr>\n",
              "  </thead>\n",
              "  <tbody>\n",
              "    <tr>\n",
              "      <th>count</th>\n",
              "      <td>20640.000000</td>\n",
              "      <td>20640.000000</td>\n",
              "      <td>20640.000000</td>\n",
              "      <td>20640.000000</td>\n",
              "      <td>20433.000000</td>\n",
              "      <td>20640.000000</td>\n",
              "      <td>20640.000000</td>\n",
              "      <td>20640.000000</td>\n",
              "      <td>20640.000000</td>\n",
              "    </tr>\n",
              "    <tr>\n",
              "      <th>mean</th>\n",
              "      <td>-119.569704</td>\n",
              "      <td>35.631861</td>\n",
              "      <td>28.639486</td>\n",
              "      <td>2635.763081</td>\n",
              "      <td>537.870553</td>\n",
              "      <td>1425.476744</td>\n",
              "      <td>499.539680</td>\n",
              "      <td>3.870671</td>\n",
              "      <td>206855.816909</td>\n",
              "    </tr>\n",
              "    <tr>\n",
              "      <th>std</th>\n",
              "      <td>2.003532</td>\n",
              "      <td>2.135952</td>\n",
              "      <td>12.585558</td>\n",
              "      <td>2181.615252</td>\n",
              "      <td>421.385070</td>\n",
              "      <td>1132.462122</td>\n",
              "      <td>382.329753</td>\n",
              "      <td>1.899822</td>\n",
              "      <td>115395.615874</td>\n",
              "    </tr>\n",
              "    <tr>\n",
              "      <th>min</th>\n",
              "      <td>-124.350000</td>\n",
              "      <td>32.540000</td>\n",
              "      <td>1.000000</td>\n",
              "      <td>2.000000</td>\n",
              "      <td>1.000000</td>\n",
              "      <td>3.000000</td>\n",
              "      <td>1.000000</td>\n",
              "      <td>0.499900</td>\n",
              "      <td>14999.000000</td>\n",
              "    </tr>\n",
              "    <tr>\n",
              "      <th>25%</th>\n",
              "      <td>-121.800000</td>\n",
              "      <td>33.930000</td>\n",
              "      <td>18.000000</td>\n",
              "      <td>1447.750000</td>\n",
              "      <td>296.000000</td>\n",
              "      <td>787.000000</td>\n",
              "      <td>280.000000</td>\n",
              "      <td>2.563400</td>\n",
              "      <td>119600.000000</td>\n",
              "    </tr>\n",
              "    <tr>\n",
              "      <th>50%</th>\n",
              "      <td>-118.490000</td>\n",
              "      <td>34.260000</td>\n",
              "      <td>29.000000</td>\n",
              "      <td>2127.000000</td>\n",
              "      <td>435.000000</td>\n",
              "      <td>1166.000000</td>\n",
              "      <td>409.000000</td>\n",
              "      <td>3.534800</td>\n",
              "      <td>179700.000000</td>\n",
              "    </tr>\n",
              "    <tr>\n",
              "      <th>75%</th>\n",
              "      <td>-118.010000</td>\n",
              "      <td>37.710000</td>\n",
              "      <td>37.000000</td>\n",
              "      <td>3148.000000</td>\n",
              "      <td>647.000000</td>\n",
              "      <td>1725.000000</td>\n",
              "      <td>605.000000</td>\n",
              "      <td>4.743250</td>\n",
              "      <td>264725.000000</td>\n",
              "    </tr>\n",
              "    <tr>\n",
              "      <th>max</th>\n",
              "      <td>-114.310000</td>\n",
              "      <td>41.950000</td>\n",
              "      <td>52.000000</td>\n",
              "      <td>39320.000000</td>\n",
              "      <td>6445.000000</td>\n",
              "      <td>35682.000000</td>\n",
              "      <td>6082.000000</td>\n",
              "      <td>15.000100</td>\n",
              "      <td>500001.000000</td>\n",
              "    </tr>\n",
              "  </tbody>\n",
              "</table>\n",
              "</div>"
            ],
            "text/plain": [
              "          longitude      latitude  ...  median_income  median_house_value\n",
              "count  20640.000000  20640.000000  ...   20640.000000        20640.000000\n",
              "mean    -119.569704     35.631861  ...       3.870671       206855.816909\n",
              "std        2.003532      2.135952  ...       1.899822       115395.615874\n",
              "min     -124.350000     32.540000  ...       0.499900        14999.000000\n",
              "25%     -121.800000     33.930000  ...       2.563400       119600.000000\n",
              "50%     -118.490000     34.260000  ...       3.534800       179700.000000\n",
              "75%     -118.010000     37.710000  ...       4.743250       264725.000000\n",
              "max     -114.310000     41.950000  ...      15.000100       500001.000000\n",
              "\n",
              "[8 rows x 9 columns]"
            ]
          },
          "metadata": {
            "tags": []
          },
          "execution_count": 126
        }
      ]
    },
    {
      "cell_type": "markdown",
      "metadata": {
        "id": "pNHw0K8AB8Eu",
        "colab_type": "text"
      },
      "source": [
        "##<h1><b>2. Criando os conjuntos de Test, Training e Validation.     </b></h1>\n",
        "\n",
        "\n",
        "\n"
      ]
    },
    {
      "cell_type": "code",
      "metadata": {
        "id": "jV_uDe9NNyLG",
        "colab_type": "code",
        "colab": {}
      },
      "source": [
        "def split_data(data,percentual):\n",
        "  shuffled_indices = np.random.permutation(len(data)) \n",
        "  tam = int(len(data) * percentual)\n",
        "  return data.iloc[shuffled_indices[:tam]] , data.iloc[shuffled_indices[tam:]]"
      ],
      "execution_count": null,
      "outputs": []
    },
    {
      "cell_type": "code",
      "metadata": {
        "id": "xO1-MS6aUzaR",
        "colab_type": "code",
        "colab": {
          "base_uri": "https://localhost:8080/",
          "height": 69
        },
        "outputId": "5e52e595-5e77-45e0-f776-9814d1a85bdf"
      },
      "source": [
        "data_train,data_test= split_data(data,0.8)        #80% para treino e 20% para teste\n",
        "data_train,data_val = split_data(data_train,0.8)  #80% para treino e 20% para validação\n",
        "\n",
        "print(f'Data Training possui : {data_train.values.shape[0]} instâncias ')\n",
        "print(f'Data Validation possui : {data_val.values.shape[0]} instâncias ')\n",
        "print(f'Data Test possui : {data_test.values.shape[0]} instâncias ')"
      ],
      "execution_count": null,
      "outputs": [
        {
          "output_type": "stream",
          "text": [
            "Data Training possui : 13209 instâncias \n",
            "Data Validation possui : 3303 instâncias \n",
            "Data Test possui : 4128 instâncias \n"
          ],
          "name": "stdout"
        }
      ]
    },
    {
      "cell_type": "markdown",
      "metadata": {
        "id": "g9VTiDqDHqqO",
        "colab_type": "text"
      },
      "source": [
        "##<h1><b>3. Conhecendo os dados</b></h1>\n",
        "\n"
      ]
    },
    {
      "cell_type": "code",
      "metadata": {
        "id": "je1xRHRpOISl",
        "colab_type": "code",
        "colab": {}
      },
      "source": [
        "#Histograma para cada feature com 50 intervalos\n",
        "data.hist(bins=50, figsize=(20,15))"
      ],
      "execution_count": null,
      "outputs": []
    },
    {
      "cell_type": "markdown",
      "metadata": {
        "id": "owhR9CtTe3FJ",
        "colab_type": "text"
      },
      "source": [
        "Podemos também plotar longitude por latitude para vermos as regiões"
      ]
    },
    {
      "cell_type": "code",
      "metadata": {
        "id": "bIW3GICOWU06",
        "colab_type": "code",
        "colab": {}
      },
      "source": [
        "#Mapa da california\n",
        "data.plot(kind=\"scatter\", x=\"longitude\", y=\"latitude\")"
      ],
      "execution_count": null,
      "outputs": []
    },
    {
      "cell_type": "markdown",
      "metadata": {
        "id": "Y3oAKuQrfUg1",
        "colab_type": "text"
      },
      "source": [
        "Se baixarmos o grau de opacidade, iremos ver as regiões com alta densidade"
      ]
    },
    {
      "cell_type": "code",
      "metadata": {
        "id": "cSfEJ7a9fW8_",
        "colab_type": "code",
        "colab": {}
      },
      "source": [
        "data.plot(kind=\"scatter\", x=\"longitude\", y=\"latitude\",alpha=0.1)"
      ],
      "execution_count": null,
      "outputs": []
    },
    {
      "cell_type": "markdown",
      "metadata": {
        "id": "HskEaotqo7Cf",
        "colab_type": "text"
      },
      "source": [
        "Podemos também ver o valor médio das casas por região com a densidade da população."
      ]
    },
    {
      "cell_type": "code",
      "metadata": {
        "id": "XgTT7BOHW8gV",
        "colab_type": "code",
        "colab": {
          "base_uri": "https://localhost:8080/",
          "height": 273
        },
        "outputId": "41f10ba9-a2c3-44c3-c9ee-b855076d33bf"
      },
      "source": [
        "data.plot(kind=\"scatter\", x=\"longitude\", y=\"latitude\", alpha=0.4,\n",
        "             s=data[\"population\"]/100, label=\"population\",\n",
        "             c=\"median_house_value\", cmap=plt.get_cmap(\"jet\"), colorbar=True,)\n",
        "plt.legend()"
      ],
      "execution_count": null,
      "outputs": [
        {
          "output_type": "execute_result",
          "data": {
            "text/plain": [
              "<matplotlib.legend.Legend at 0x7f96e167b198>"
            ]
          },
          "metadata": {
            "tags": []
          },
          "execution_count": 209
        },
        {
          "output_type": "display_data",
          "data": {
            "image/png": "[encoded data removed]",
            "text/plain": [
              "<Figure size 432x288 with 2 Axes>"
            ]
          },
          "metadata": {
            "tags": [],
            "needs_background": "light"
          }
        }
      ]
    },
    {
      "cell_type": "markdown",
      "metadata": {
        "id": "rdfrESJGvreE",
        "colab_type": "text"
      },
      "source": [
        "Quando estamos analisando dados, é importante não termos excesso de features, como features redundantes ou propriedades que não nos auxiliam para resolver o problema posto. Uma forma de calcularmos o quanto duas features estão \n",
        "relacionadas(por exemplo, se uma tem dependência linear da outra) é utilizar o Pearson's product-moment coefficient.\n",
        "$$\n",
        "{\\rho _{X,Y}=\\operatorname {corr} (X,Y)={\\operatorname {cov} (X,Y) \\over \\sigma _{X}\\sigma _{Y}}={\\operatorname {E} [(X-\\mu _{X})(Y-\\mu _{Y})] \\over \\sigma _{X}\\sigma _{Y}}} \n",
        " {={\\operatorname {E} (XY)-\\operatorname {E} (X)\\operatorname {E} (Y) \\over {\\sqrt {\\operatorname {E} (X^{2})-\\operatorname {E} (X)^{2}}}\\cdot {\\sqrt {\\operatorname {E} (Y^{2})-\\operatorname {E} (Y)^{2}}}}}\n",
        "$$\n",
        "Podemos estimar tal coeficiente pela fórmula:\n",
        "$$\n",
        "{\\ r_{xy}\\quad {\\overset {\\underset {\\mathrm {def} }{}}{=}}\\quad {\\frac {\\sum \\limits _{i=1}^{n}(x_{i}-{\\bar {x}})(y_{i}-{\\bar {y}})}{(n-1)s_{x}s_{y}}}={\\frac {\\sum \\limits _{i=1}^{n}(x_{i}-{\\bar {x}})(y_{i}-{\\bar {y}})}{\\sqrt {\\sum \\limits _{i=1}^{n}(x_{i}-{\\bar {x}})^{2}\\sum \\limits _{i=1}^{n}(y_{i}-{\\bar {y}})^{2}}}}} \n",
        "$$\n",
        "\n"
      ]
    },
    {
      "cell_type": "code",
      "metadata": {
        "id": "sLaSm-4xXQiG",
        "colab_type": "code",
        "colab": {
          "base_uri": "https://localhost:8080/",
          "height": 352
        },
        "outputId": "9ac37f07-b303-4226-b15a-37b55c148625"
      },
      "source": [
        "data.corr(method=\"pearson\")\n"
      ],
      "execution_count": null,
      "outputs": [
        {
          "output_type": "execute_result",
          "data": {
            "text/html": [
              "<div>\n",
              "<style scoped>\n",
              "    .dataframe tbody tr th:only-of-type {\n",
              "        vertical-align: middle;\n",
              "    }\n",
              "\n",
              "    .dataframe tbody tr th {\n",
              "        vertical-align: top;\n",
              "    }\n",
              "\n",
              "    .dataframe thead th {\n",
              "        text-align: right;\n",
              "    }\n",
              "</style>\n",
              "<table border=\"1\" class=\"dataframe\">\n",
              "  <thead>\n",
              "    <tr style=\"text-align: right;\">\n",
              "      <th></th>\n",
              "      <th>longitude</th>\n",
              "      <th>latitude</th>\n",
              "      <th>housing_median_age</th>\n",
              "      <th>total_rooms</th>\n",
              "      <th>total_bedrooms</th>\n",
              "      <th>population</th>\n",
              "      <th>households</th>\n",
              "      <th>median_income</th>\n",
              "      <th>median_house_value</th>\n",
              "    </tr>\n",
              "  </thead>\n",
              "  <tbody>\n",
              "    <tr>\n",
              "      <th>longitude</th>\n",
              "      <td>1.000000</td>\n",
              "      <td>-0.924664</td>\n",
              "      <td>-0.108197</td>\n",
              "      <td>0.044568</td>\n",
              "      <td>0.069608</td>\n",
              "      <td>0.099773</td>\n",
              "      <td>0.055310</td>\n",
              "      <td>-0.015176</td>\n",
              "      <td>-0.045967</td>\n",
              "    </tr>\n",
              "    <tr>\n",
              "      <th>latitude</th>\n",
              "      <td>-0.924664</td>\n",
              "      <td>1.000000</td>\n",
              "      <td>0.011173</td>\n",
              "      <td>-0.036100</td>\n",
              "      <td>-0.066983</td>\n",
              "      <td>-0.108785</td>\n",
              "      <td>-0.071035</td>\n",
              "      <td>-0.079809</td>\n",
              "      <td>-0.144160</td>\n",
              "    </tr>\n",
              "    <tr>\n",
              "      <th>housing_median_age</th>\n",
              "      <td>-0.108197</td>\n",
              "      <td>0.011173</td>\n",
              "      <td>1.000000</td>\n",
              "      <td>-0.361262</td>\n",
              "      <td>-0.320451</td>\n",
              "      <td>-0.296244</td>\n",
              "      <td>-0.302916</td>\n",
              "      <td>-0.119034</td>\n",
              "      <td>0.105623</td>\n",
              "    </tr>\n",
              "    <tr>\n",
              "      <th>total_rooms</th>\n",
              "      <td>0.044568</td>\n",
              "      <td>-0.036100</td>\n",
              "      <td>-0.361262</td>\n",
              "      <td>1.000000</td>\n",
              "      <td>0.930380</td>\n",
              "      <td>0.857126</td>\n",
              "      <td>0.918484</td>\n",
              "      <td>0.198050</td>\n",
              "      <td>0.134153</td>\n",
              "    </tr>\n",
              "    <tr>\n",
              "      <th>total_bedrooms</th>\n",
              "      <td>0.069608</td>\n",
              "      <td>-0.066983</td>\n",
              "      <td>-0.320451</td>\n",
              "      <td>0.930380</td>\n",
              "      <td>1.000000</td>\n",
              "      <td>0.877747</td>\n",
              "      <td>0.979728</td>\n",
              "      <td>-0.007723</td>\n",
              "      <td>0.049686</td>\n",
              "    </tr>\n",
              "    <tr>\n",
              "      <th>population</th>\n",
              "      <td>0.099773</td>\n",
              "      <td>-0.108785</td>\n",
              "      <td>-0.296244</td>\n",
              "      <td>0.857126</td>\n",
              "      <td>0.877747</td>\n",
              "      <td>1.000000</td>\n",
              "      <td>0.907222</td>\n",
              "      <td>0.004834</td>\n",
              "      <td>-0.024650</td>\n",
              "    </tr>\n",
              "    <tr>\n",
              "      <th>households</th>\n",
              "      <td>0.055310</td>\n",
              "      <td>-0.071035</td>\n",
              "      <td>-0.302916</td>\n",
              "      <td>0.918484</td>\n",
              "      <td>0.979728</td>\n",
              "      <td>0.907222</td>\n",
              "      <td>1.000000</td>\n",
              "      <td>0.013033</td>\n",
              "      <td>0.065843</td>\n",
              "    </tr>\n",
              "    <tr>\n",
              "      <th>median_income</th>\n",
              "      <td>-0.015176</td>\n",
              "      <td>-0.079809</td>\n",
              "      <td>-0.119034</td>\n",
              "      <td>0.198050</td>\n",
              "      <td>-0.007723</td>\n",
              "      <td>0.004834</td>\n",
              "      <td>0.013033</td>\n",
              "      <td>1.000000</td>\n",
              "      <td>0.688075</td>\n",
              "    </tr>\n",
              "    <tr>\n",
              "      <th>median_house_value</th>\n",
              "      <td>-0.045967</td>\n",
              "      <td>-0.144160</td>\n",
              "      <td>0.105623</td>\n",
              "      <td>0.134153</td>\n",
              "      <td>0.049686</td>\n",
              "      <td>-0.024650</td>\n",
              "      <td>0.065843</td>\n",
              "      <td>0.688075</td>\n",
              "      <td>1.000000</td>\n",
              "    </tr>\n",
              "  </tbody>\n",
              "</table>\n",
              "</div>"
            ],
            "text/plain": [
              "                    longitude  latitude  ...  median_income  median_house_value\n",
              "longitude            1.000000 -0.924664  ...      -0.015176           -0.045967\n",
              "latitude            -0.924664  1.000000  ...      -0.079809           -0.144160\n",
              "housing_median_age  -0.108197  0.011173  ...      -0.119034            0.105623\n",
              "total_rooms          0.044568 -0.036100  ...       0.198050            0.134153\n",
              "total_bedrooms       0.069608 -0.066983  ...      -0.007723            0.049686\n",
              "population           0.099773 -0.108785  ...       0.004834           -0.024650\n",
              "households           0.055310 -0.071035  ...       0.013033            0.065843\n",
              "median_income       -0.015176 -0.079809  ...       1.000000            0.688075\n",
              "median_house_value  -0.045967 -0.144160  ...       0.688075            1.000000\n",
              "\n",
              "[9 rows x 9 columns]"
            ]
          },
          "metadata": {
            "tags": []
          },
          "execution_count": 122
        }
      ]
    },
    {
      "cell_type": "markdown",
      "metadata": {
        "id": "q_nGA36Yj4jh",
        "colab_type": "text"
      },
      "source": [
        "Podemos notar na tabela acima que total_rooms possui uma relação quase que linear com total_bedrooms(por conta do coeficiente ser aproximadamente 1). Além disso, latitude e longitude possui o coeficiente próximo de -1(reta com coefiente negativo).O comando utilizado abaixo plota um atributo contra todos os restantes atributos e assim conseguimos ver as relações. "
      ]
    },
    {
      "cell_type": "code",
      "metadata": {
        "id": "Z-gf3UzMh1M1",
        "colab_type": "code",
        "colab": {
          "base_uri": "https://localhost:8080/",
          "height": 813
        },
        "outputId": "f41e9b49-8abc-43cd-fc51-78dfeb5e30c8"
      },
      "source": [
        "from pandas.plotting import scatter_matrix\n",
        "attributes = [\"latitude\", \"total_bedrooms\", \"total_rooms\",\"longitude\"]\n",
        "scatter_matrix(data[attributes], figsize=(12, 8))"
      ],
      "execution_count": null,
      "outputs": [
        {
          "output_type": "execute_result",
          "data": {
            "text/plain": [
              "array([[<matplotlib.axes._subplots.AxesSubplot object at 0x7f0b579832e8>,\n",
              "        <matplotlib.axes._subplots.AxesSubplot object at 0x7f0b579ab6d8>,\n",
              "        <matplotlib.axes._subplots.AxesSubplot object at 0x7f0b57952940>,\n",
              "        <matplotlib.axes._subplots.AxesSubplot object at 0x7f0b57906ba8>],\n",
              "       [<matplotlib.axes._subplots.AxesSubplot object at 0x7f0b5793be10>,\n",
              "        <matplotlib.axes._subplots.AxesSubplot object at 0x7f0b578fc0b8>,\n",
              "        <matplotlib.axes._subplots.AxesSubplot object at 0x7f0b578ad320>,\n",
              "        <matplotlib.axes._subplots.AxesSubplot object at 0x7f0b57863550>],\n",
              "       [<matplotlib.axes._subplots.AxesSubplot object at 0x7f0b578635c0>,\n",
              "        <matplotlib.axes._subplots.AxesSubplot object at 0x7f0b577c9a58>,\n",
              "        <matplotlib.axes._subplots.AxesSubplot object at 0x7f0b5777ecc0>,\n",
              "        <matplotlib.axes._subplots.AxesSubplot object at 0x7f0b577b3f28>],\n",
              "       [<matplotlib.axes._subplots.AxesSubplot object at 0x7f0b577741d0>,\n",
              "        <matplotlib.axes._subplots.AxesSubplot object at 0x7f0b57726438>,\n",
              "        <matplotlib.axes._subplots.AxesSubplot object at 0x7f0b576da6a0>,\n",
              "        <matplotlib.axes._subplots.AxesSubplot object at 0x7f0b5768da20>]],\n",
              "      dtype=object)"
            ]
          },
          "metadata": {
            "tags": []
          },
          "execution_count": 137
        },
        {
          "output_type": "display_data",
          "data": {
            "image/png": "[encoded data removed]",
            "text/plain": [
              "<Figure size 864x576 with 16 Axes>"
            ]
          },
          "metadata": {
            "tags": [],
            "needs_background": "light"
          }
        }
      ]
    },
    {
      "cell_type": "markdown",
      "metadata": {
        "id": "u6jip1KCboMx",
        "colab_type": "text"
      },
      "source": [
        "##<h1><b>4. Preparandos os dados algoritmos de Machine Learning </b></h1>\n",
        "Como supracitado, existem instâncias que não estão completamente preenchidas, então necessitamos tratar esses casos para que possamos dar como input para Machine Learning Algorithms(em sua grande maioria não trabalham com datasets com lacunas).\n",
        "\n",
        "Podemos tratar esse problema com as seguintes abordagens:\n",
        "1.   Livrar-se das instâncias que não estão completamente preenchidas.\n",
        "2.   Livrar-se de todo a/o feature/atributo.\n",
        "3.   Definir os valores que faltam para algum valor.No geral, temos dois tipos de abordagens:\n",
        "  1.   Univariate Imputation: Nessa primeira abordagem, substituimos todos as lacunas de um atributo com simples valor, como a média, mediana ,zero etc.\n",
        "  2.   Multivariate Imputation : Já nessa abordagem nós utilizamos o próprio dataset(as outras features) para estimar as lacunas.\n",
        "  \n",
        "Geralmente a abordagem mais utilizada é a 3, pois nas outras há perca de dados e para alguns problemas, os dados são escassos e valiosos.\n",
        "\n",
        "\n",
        "\n",
        "\n",
        "\n",
        "\n",
        "\n",
        "\n"
      ]
    },
    {
      "cell_type": "code",
      "metadata": {
        "id": "tduI78oEGGYy",
        "colab_type": "code",
        "colab": {}
      },
      "source": [
        "#Exemplo simples\n",
        "# Primeira opção\n",
        "data_train_dropna=data_train.dropna(subset=[\"total_bedrooms\"]) \n",
        "   \n",
        "# Segunda opção\n",
        "data_train_feature=data_train.drop(\"total_bedrooms\", axis=1)  \n",
        "\n",
        "#Terceira opção Univariate Imputation\n",
        "median = data_train[\"total_bedrooms\"].median()\n",
        "data_train_fill = data_train[\"total_bedrooms\"].fillna(median) # Terceira opção Univariate Imputation"
      ],
      "execution_count": null,
      "outputs": []
    },
    {
      "cell_type": "markdown",
      "metadata": {
        "id": "0PsZmiKruUuy",
        "colab_type": "text"
      },
      "source": [
        "<h3><b>Univariate e Multivariate Imputation </b></h3>\n",
        "<h5><b>Observação:</b> Se você é muito iniciante e ainda não conhece nenhum modelo de ML, pule esse tema.</h5>\n",
        "\n",
        "Podemos empregar essa abordagem utilizando  [Imputation of missing values](https://scikit-learn.org/stable/modules/impute.html) da biblioteca [sklearn](https://scikit-learn.org/stable/). Ela é inspirada no pacote MICE do R. Segue abaixo uma explicação resumida:\n",
        "\n",
        "To apply MICE, create 5 copies (say) of this simple data set and cycle multiple times through the steps below for each copy:\n",
        "\n",
        "Step 1: Replace (or impute) the missing values in each variable with temporary \"place holder\" values derived solely from the non-missing values available for that variable. For example, replace the missing age value with the mean age value observed in the data, replace the missing income values with the mean income value observed in the data, etc.\n",
        "\n",
        "Step 2 Set back to missing the “place holder” imputations for the age variable only. This way, the current data copy contains missing values for age, but not for income and gender.\n",
        "\n",
        "Step 3: Regress age on income and gender via a linear regression model (though it is possible to also regress age on only one of these variables); to be able to fit the model to the current data copy, drop all the records where age is missing during the model fitting process. In this model, age is the dependent variable and income and gender are the independent variables.\n",
        "\n",
        "Step 4 Use the fitted regression model in the previous step to predict the missing age values. (When age will be subsequently used as an independent variable in the regression models for other variables, both the observed values of age and these predicted values will be used.) The article doesn't make it clear that a random component should be added to these predictions.\n",
        "\n",
        "Step 5: Repeat Steps 2–4 separately for each variable that has missing data, namely income and gender.\n",
        "\n",
        "Cycling through Steps 1 - 5 once for each of the variables age, income and gender constitutes one cycle. At the end of this cycle, all of the missing values in age, income an gender will have been replaced with predictions from regression models that reflect the relationships observed in the data between these variables."
      ]
    },
    {
      "cell_type": "code",
      "metadata": {
        "id": "YFfAG8vagUJ7",
        "colab_type": "code",
        "colab": {
          "base_uri": "https://localhost:8080/",
          "height": 312
        },
        "outputId": "0518e84a-f91c-48c4-f72f-48e8a9685d32"
      },
      "source": [
        "#Multivariate Imputation MICE\n",
        "from sklearn.experimental import enable_iterative_imputer\n",
        "from sklearn.impute import IterativeImputer\n",
        "imp = IterativeImputer(max_iter=10, random_state=0)\n",
        "data_aux=data_train.drop(\"ocean_proximity\",axis=1)\n",
        "imp=imp.fit(data_aux)\n",
        "data_aux=pd.DataFrame(imp.transform(data_aux),columns=data_aux.columns)\n",
        "data_aux[\"ocean_proximity\"]=data_train[\"ocean_proximity\"].values\n",
        "data_train_mice=data_aux\n",
        "data_train_mice.info()"
      ],
      "execution_count": null,
      "outputs": [
        {
          "output_type": "stream",
          "text": [
            "<class 'pandas.core.frame.DataFrame'>\n",
            "RangeIndex: 13209 entries, 0 to 13208\n",
            "Data columns (total 10 columns):\n",
            " #   Column              Non-Null Count  Dtype  \n",
            "---  ------              --------------  -----  \n",
            " 0   longitude           13209 non-null  float64\n",
            " 1   latitude            13209 non-null  float64\n",
            " 2   housing_median_age  13209 non-null  float64\n",
            " 3   total_rooms         13209 non-null  float64\n",
            " 4   total_bedrooms      13209 non-null  float64\n",
            " 5   population          13209 non-null  float64\n",
            " 6   households          13209 non-null  float64\n",
            " 7   median_income       13209 non-null  float64\n",
            " 8   median_house_value  13209 non-null  float64\n",
            " 9   ocean_proximity     13209 non-null  object \n",
            "dtypes: float64(9), object(1)\n",
            "memory usage: 1.0+ MB\n"
          ],
          "name": "stdout"
        }
      ]
    },
    {
      "cell_type": "markdown",
      "metadata": {
        "id": "e_n1JS9WINtS",
        "colab_type": "text"
      },
      "source": [
        "Já mostramos anteriormente como fazer Univariate Imputation, mas a biblioteca sklearn também cobre esse tema, como segue abaixo:\n"
      ]
    },
    {
      "cell_type": "code",
      "metadata": {
        "id": "JwzK327SuTQn",
        "colab_type": "code",
        "colab": {
          "base_uri": "https://localhost:8080/",
          "height": 312
        },
        "outputId": "9f0cec48-b5ac-4b79-8884-c5140be4c068"
      },
      "source": [
        "#Univariate Imputation\n",
        "from sklearn.impute import SimpleImputer\n",
        "imputer = SimpleImputer(missing_values=np.nan, strategy='mean')\n",
        "data_train_fill_mean=data_train.drop(\"ocean_proximity\", axis=1)\n",
        "columns=data_train_fill_mean.columns\n",
        "imputer.fit(data_train_fill_mean)\n",
        "data_train_fill_mean=imputer.transform(data_train_fill_mean)\n",
        "data_train_fill_mean = pd.DataFrame(data_train_fill_mean, columns=columns)\n",
        "data_train_fill_mean[\"ocean_proximity\"] = data_train[\"ocean_proximity\"].values\n",
        "data_train_fill_mean.info()"
      ],
      "execution_count": null,
      "outputs": [
        {
          "output_type": "stream",
          "text": [
            "<class 'pandas.core.frame.DataFrame'>\n",
            "RangeIndex: 13209 entries, 0 to 13208\n",
            "Data columns (total 10 columns):\n",
            " #   Column              Non-Null Count  Dtype  \n",
            "---  ------              --------------  -----  \n",
            " 0   longitude           13209 non-null  float64\n",
            " 1   latitude            13209 non-null  float64\n",
            " 2   housing_median_age  13209 non-null  float64\n",
            " 3   total_rooms         13209 non-null  float64\n",
            " 4   total_bedrooms      13209 non-null  float64\n",
            " 5   population          13209 non-null  float64\n",
            " 6   households          13209 non-null  float64\n",
            " 7   median_income       13209 non-null  float64\n",
            " 8   median_house_value  13209 non-null  float64\n",
            " 9   ocean_proximity     13209 non-null  object \n",
            "dtypes: float64(9), object(1)\n",
            "memory usage: 1.0+ MB\n"
          ],
          "name": "stdout"
        }
      ]
    },
    {
      "cell_type": "markdown",
      "metadata": {
        "id": "Um7KSX5jC04Y",
        "colab_type": "text"
      },
      "source": [
        "###<h2><b>4.1 Lidando com variáveis do tipo string(texto)</b></h2>\n",
        "\n"
      ]
    },
    {
      "cell_type": "markdown",
      "metadata": {
        "id": "MgfEgVU5QWF0",
        "colab_type": "text"
      },
      "source": [
        "<h3><b>Label Encoder</b></h3>\n",
        "Label Encoder consiste basicamente em transformar cada string em um número correspondente. Por exemplo,  suponha que tenhamos os seguintes dados \n",
        "data=[\"cachorro\",\"gato\",\"cachorro\",\"cobra\"]. Se aplicassemos tal abordagem, poderiamos ter o seguinte resultado: data_labeled = [1,2,1,3], ou seja, cachorro receberia o número 1, gato o número 2 e cobra 3. Temos que a biblioteca sklear também faz esse trabalho, como abaixo:"
      ]
    },
    {
      "cell_type": "code",
      "metadata": {
        "id": "fDnPvnAzx90G",
        "colab_type": "code",
        "colab": {
          "base_uri": "https://localhost:8080/",
          "height": 312
        },
        "outputId": "650f16ff-af6f-4abe-e927-751af1832a27"
      },
      "source": [
        "from sklearn import preprocessing\n",
        "le = preprocessing.LabelEncoder()\n",
        "le.fit(data_train_fill_mean['ocean_proximity'])\n",
        "le.transform(data_train_fill_mean['ocean_proximity'])\n",
        "data_train_fill_mean_le=data_train_fill_mean.copy()\n",
        "data_train_fill_mean_le['ocean_proximity'] =le.transform(data_train_fill_mean_le['ocean_proximity'])\n",
        "data_train_fill_mean_le.info()"
      ],
      "execution_count": null,
      "outputs": [
        {
          "output_type": "stream",
          "text": [
            "<class 'pandas.core.frame.DataFrame'>\n",
            "RangeIndex: 13209 entries, 0 to 13208\n",
            "Data columns (total 10 columns):\n",
            " #   Column              Non-Null Count  Dtype  \n",
            "---  ------              --------------  -----  \n",
            " 0   longitude           13209 non-null  float64\n",
            " 1   latitude            13209 non-null  float64\n",
            " 2   housing_median_age  13209 non-null  float64\n",
            " 3   total_rooms         13209 non-null  float64\n",
            " 4   total_bedrooms      13209 non-null  float64\n",
            " 5   population          13209 non-null  float64\n",
            " 6   households          13209 non-null  float64\n",
            " 7   median_income       13209 non-null  float64\n",
            " 8   median_house_value  13209 non-null  float64\n",
            " 9   ocean_proximity     13209 non-null  int64  \n",
            "dtypes: float64(9), int64(1)\n",
            "memory usage: 1.0 MB\n"
          ],
          "name": "stdout"
        }
      ]
    },
    {
      "cell_type": "markdown",
      "metadata": {
        "id": "ob9WeIa35MZ9",
        "colab_type": "text"
      },
      "source": [
        "<h3><b>One Hot Encoder</b></h3>\n",
        "Label Encoder pode incluir novas características indesejadas ao nosso modelo, como uma relação de proporcionalidade entre features que não deveria existir. Já One Hot Encoder tenta contornar esse problema, no entanto, ele acrescenta novas features ao modelo. Se pegarmos o mesmo exemplo data=[\"cachorro\",\"gato\",\"cachorro\",\"cobra\"], poderiamos ter o seguinte resultado:\n",
        "  data_ohe={ [1,0,0] , [0,1,0] , [1,0,0] , [0,0,1] }\n",
        "Note que temos 3 categorias(cachorro, gato e cobra) e por isso cada vetor tem dimensão 3.Além disso, note que cachorro equivale a [1,0,0], gato a [0,1,0] e cobra a [0,0,1]."
      ]
    },
    {
      "cell_type": "code",
      "metadata": {
        "id": "Rrf6lHSy5LSs",
        "colab_type": "code",
        "colab": {
          "base_uri": "https://localhost:8080/",
          "height": 226
        },
        "outputId": "99adffbf-07e4-4ab4-c474-3f43dca15cbc"
      },
      "source": [
        "from sklearn.preprocessing import OneHotEncoder\n",
        "ohe = OneHotEncoder(handle_unknown='ignore',sparse=False )\n",
        "data_aux=np.resize(data_train[\"ocean_proximity\"].values,(len(data_train[\"ocean_proximity\"]),1))\n",
        "ohe.fit(data_aux)\n",
        "data_aux=np.resize(data_train[\"ocean_proximity\"].values,(len(data_train[\"ocean_proximity\"]),1)) #\n",
        "ohe.transform(data_aux)\n",
        "data_train_ohe=data_train.drop(\"ocean_proximity\",axis=1)\n",
        "data_aux=ohe.transform(data_aux)\n",
        "for i in range(data_aux.shape[1]):\n",
        "  data_train_ohe[f\"ocean_proximity_{i}\"]=data_aux[:,i]\n",
        "data_train_ohe.tail()"
      ],
      "execution_count": null,
      "outputs": [
        {
          "output_type": "execute_result",
          "data": {
            "text/html": [
              "<div>\n",
              "<style scoped>\n",
              "    .dataframe tbody tr th:only-of-type {\n",
              "        vertical-align: middle;\n",
              "    }\n",
              "\n",
              "    .dataframe tbody tr th {\n",
              "        vertical-align: top;\n",
              "    }\n",
              "\n",
              "    .dataframe thead th {\n",
              "        text-align: right;\n",
              "    }\n",
              "</style>\n",
              "<table border=\"1\" class=\"dataframe\">\n",
              "  <thead>\n",
              "    <tr style=\"text-align: right;\">\n",
              "      <th></th>\n",
              "      <th>longitude</th>\n",
              "      <th>latitude</th>\n",
              "      <th>housing_median_age</th>\n",
              "      <th>total_rooms</th>\n",
              "      <th>total_bedrooms</th>\n",
              "      <th>population</th>\n",
              "      <th>households</th>\n",
              "      <th>median_income</th>\n",
              "      <th>median_house_value</th>\n",
              "      <th>ocean_proximity_0</th>\n",
              "      <th>ocean_proximity_1</th>\n",
              "      <th>ocean_proximity_2</th>\n",
              "      <th>ocean_proximity_3</th>\n",
              "      <th>ocean_proximity_4</th>\n",
              "    </tr>\n",
              "  </thead>\n",
              "  <tbody>\n",
              "    <tr>\n",
              "      <th>13204</th>\n",
              "      <td>-119.91</td>\n",
              "      <td>36.83</td>\n",
              "      <td>29.0</td>\n",
              "      <td>2205.0</td>\n",
              "      <td>366.0</td>\n",
              "      <td>1072.0</td>\n",
              "      <td>345.0</td>\n",
              "      <td>3.8056</td>\n",
              "      <td>165400.0</td>\n",
              "      <td>0.0</td>\n",
              "      <td>1.0</td>\n",
              "      <td>0.0</td>\n",
              "      <td>0.0</td>\n",
              "      <td>0.0</td>\n",
              "    </tr>\n",
              "    <tr>\n",
              "      <th>13205</th>\n",
              "      <td>-120.94</td>\n",
              "      <td>37.59</td>\n",
              "      <td>16.0</td>\n",
              "      <td>3964.0</td>\n",
              "      <td>824.0</td>\n",
              "      <td>2622.0</td>\n",
              "      <td>766.0</td>\n",
              "      <td>2.3152</td>\n",
              "      <td>111300.0</td>\n",
              "      <td>0.0</td>\n",
              "      <td>1.0</td>\n",
              "      <td>0.0</td>\n",
              "      <td>0.0</td>\n",
              "      <td>0.0</td>\n",
              "    </tr>\n",
              "    <tr>\n",
              "      <th>13206</th>\n",
              "      <td>-119.53</td>\n",
              "      <td>37.34</td>\n",
              "      <td>26.0</td>\n",
              "      <td>4047.0</td>\n",
              "      <td>702.0</td>\n",
              "      <td>571.0</td>\n",
              "      <td>199.0</td>\n",
              "      <td>2.3482</td>\n",
              "      <td>179500.0</td>\n",
              "      <td>0.0</td>\n",
              "      <td>1.0</td>\n",
              "      <td>0.0</td>\n",
              "      <td>0.0</td>\n",
              "      <td>0.0</td>\n",
              "    </tr>\n",
              "    <tr>\n",
              "      <th>13207</th>\n",
              "      <td>-118.35</td>\n",
              "      <td>33.85</td>\n",
              "      <td>34.0</td>\n",
              "      <td>1770.0</td>\n",
              "      <td>291.0</td>\n",
              "      <td>916.0</td>\n",
              "      <td>289.0</td>\n",
              "      <td>5.0000</td>\n",
              "      <td>354200.0</td>\n",
              "      <td>1.0</td>\n",
              "      <td>0.0</td>\n",
              "      <td>0.0</td>\n",
              "      <td>0.0</td>\n",
              "      <td>0.0</td>\n",
              "    </tr>\n",
              "    <tr>\n",
              "      <th>13208</th>\n",
              "      <td>-118.24</td>\n",
              "      <td>34.24</td>\n",
              "      <td>31.0</td>\n",
              "      <td>3812.0</td>\n",
              "      <td>595.0</td>\n",
              "      <td>1645.0</td>\n",
              "      <td>591.0</td>\n",
              "      <td>7.5850</td>\n",
              "      <td>380100.0</td>\n",
              "      <td>1.0</td>\n",
              "      <td>0.0</td>\n",
              "      <td>0.0</td>\n",
              "      <td>0.0</td>\n",
              "      <td>0.0</td>\n",
              "    </tr>\n",
              "  </tbody>\n",
              "</table>\n",
              "</div>"
            ],
            "text/plain": [
              "       longitude  latitude  ...  ocean_proximity_3  ocean_proximity_4\n",
              "13204    -119.91     36.83  ...                0.0                0.0\n",
              "13205    -120.94     37.59  ...                0.0                0.0\n",
              "13206    -119.53     37.34  ...                0.0                0.0\n",
              "13207    -118.35     33.85  ...                0.0                0.0\n",
              "13208    -118.24     34.24  ...                0.0                0.0\n",
              "\n",
              "[5 rows x 14 columns]"
            ]
          },
          "metadata": {
            "tags": []
          },
          "execution_count": 126
        }
      ]
    },
    {
      "cell_type": "markdown",
      "metadata": {
        "id": "SEMDzYr_RfZt",
        "colab_type": "text"
      },
      "source": [
        "##<h1><b>5. Feature Scaling  </b></h1>\n",
        "\n",
        "Temos que para <b>Padronizar</b> os dados  aplicamos a fórmula $$x_{changed}=\\frac{x-\\mu}{\\sigma}$$\n",
        "\n",
        "Já para <b>Normalizar</b> os dados podemos fazer de algumas fórmulas, por exemplo, podemos usar Min-Max:\n",
        "$$x_{changed}=\\frac{x- x_{min}}{x_{max}-x{min}} $$ Para mais informações sobre qual modelo é melhor [aqui](https://medium.com/data-hackers/normalizar-ou-padronizar-as-vari%C3%A1veis-3b619876ccc9). Mas de forma resumida,as duas técnicas tem o mesmo objetivo: transformar todas as variáveis na mesma ordem de grandeza. E a diferença básica é que padronizar as variáveis irá resultar em uma média igual a 0 e um desvio padrão igual a 1. Já normalizar tem como objetivo colocar as variáveis dentro do intervalo de 0 e 1, caso tenha resultado negativo -1 e 1.Na dúvida de qual modelo escolher, teste os dois modelos. Podemos aplicar tais fórmulas facilmente usando a biblioteca sklearn, respectivamente:\n",
        "\n",
        "\n"
      ]
    },
    {
      "cell_type": "code",
      "metadata": {
        "id": "OOU0XfM0RZ4v",
        "colab_type": "code",
        "colab": {
          "base_uri": "https://localhost:8080/",
          "height": 226
        },
        "outputId": "5e1da2d7-f0fe-4b74-9de2-bf60e608e10d"
      },
      "source": [
        "from sklearn import preprocessing\n",
        "scaler = preprocessing.StandardScaler().fit(data_train_labeled)\n",
        "data_train_labeled_std = pd.DataFrame( scaler.transform(data_train_labeled), columns=data_train_labeled.columns)\n",
        "data_train_labeled_std.tail()"
      ],
      "execution_count": null,
      "outputs": [
        {
          "output_type": "execute_result",
          "data": {
            "text/html": [
              "<div>\n",
              "<style scoped>\n",
              "    .dataframe tbody tr th:only-of-type {\n",
              "        vertical-align: middle;\n",
              "    }\n",
              "\n",
              "    .dataframe tbody tr th {\n",
              "        vertical-align: top;\n",
              "    }\n",
              "\n",
              "    .dataframe thead th {\n",
              "        text-align: right;\n",
              "    }\n",
              "</style>\n",
              "<table border=\"1\" class=\"dataframe\">\n",
              "  <thead>\n",
              "    <tr style=\"text-align: right;\">\n",
              "      <th></th>\n",
              "      <th>longitude</th>\n",
              "      <th>latitude</th>\n",
              "      <th>housing_median_age</th>\n",
              "      <th>total_rooms</th>\n",
              "      <th>total_bedrooms</th>\n",
              "      <th>population</th>\n",
              "      <th>households</th>\n",
              "      <th>median_income</th>\n",
              "      <th>median_house_value</th>\n",
              "      <th>ocean_proximity</th>\n",
              "    </tr>\n",
              "  </thead>\n",
              "  <tbody>\n",
              "    <tr>\n",
              "      <th>13204</th>\n",
              "      <td>0.736339</td>\n",
              "      <td>-0.844543</td>\n",
              "      <td>-0.674985</td>\n",
              "      <td>1.665744</td>\n",
              "      <td>0.935735</td>\n",
              "      <td>0.743632</td>\n",
              "      <td>0.968579</td>\n",
              "      <td>1.940141</td>\n",
              "      <td>1.669785</td>\n",
              "      <td>-0.816962</td>\n",
              "    </tr>\n",
              "    <tr>\n",
              "      <th>13205</th>\n",
              "      <td>0.575974</td>\n",
              "      <td>-0.684749</td>\n",
              "      <td>1.231712</td>\n",
              "      <td>-0.059497</td>\n",
              "      <td>-0.069461</td>\n",
              "      <td>-0.400443</td>\n",
              "      <td>-0.043617</td>\n",
              "      <td>0.619889</td>\n",
              "      <td>1.429591</td>\n",
              "      <td>-0.816962</td>\n",
              "    </tr>\n",
              "    <tr>\n",
              "      <th>13206</th>\n",
              "      <td>1.297617</td>\n",
              "      <td>-0.933840</td>\n",
              "      <td>-1.628333</td>\n",
              "      <td>-0.749594</td>\n",
              "      <td>-0.876914</td>\n",
              "      <td>-0.900383</td>\n",
              "      <td>-0.936425</td>\n",
              "      <td>0.211408</td>\n",
              "      <td>0.120531</td>\n",
              "      <td>-0.114818</td>\n",
              "    </tr>\n",
              "    <tr>\n",
              "      <th>13207</th>\n",
              "      <td>1.563222</td>\n",
              "      <td>-0.872742</td>\n",
              "      <td>-0.357202</td>\n",
              "      <td>-0.022528</td>\n",
              "      <td>-0.238956</td>\n",
              "      <td>-0.826989</td>\n",
              "      <td>-0.684674</td>\n",
              "      <td>-0.059106</td>\n",
              "      <td>2.506185</td>\n",
              "      <td>-0.114818</td>\n",
              "    </tr>\n",
              "    <tr>\n",
              "      <th>13208</th>\n",
              "      <td>1.117206</td>\n",
              "      <td>-0.515556</td>\n",
              "      <td>-0.992767</td>\n",
              "      <td>0.194725</td>\n",
              "      <td>0.170656</td>\n",
              "      <td>-0.127592</td>\n",
              "      <td>0.267828</td>\n",
              "      <td>-0.517676</td>\n",
              "      <td>-0.791350</td>\n",
              "      <td>-0.114818</td>\n",
              "    </tr>\n",
              "  </tbody>\n",
              "</table>\n",
              "</div>"
            ],
            "text/plain": [
              "       longitude  latitude  ...  median_house_value  ocean_proximity\n",
              "13204   0.736339 -0.844543  ...            1.669785        -0.816962\n",
              "13205   0.575974 -0.684749  ...            1.429591        -0.816962\n",
              "13206   1.297617 -0.933840  ...            0.120531        -0.114818\n",
              "13207   1.563222 -0.872742  ...            2.506185        -0.114818\n",
              "13208   1.117206 -0.515556  ...           -0.791350        -0.114818\n",
              "\n",
              "[5 rows x 10 columns]"
            ]
          },
          "metadata": {
            "tags": []
          },
          "execution_count": 130
        }
      ]
    },
    {
      "cell_type": "code",
      "metadata": {
        "id": "zy_gN4pBRZ9H",
        "colab_type": "code",
        "colab": {
          "base_uri": "https://localhost:8080/",
          "height": 226
        },
        "outputId": "ae79d87d-5b07-42cb-8672-3958a3923c64"
      },
      "source": [
        "from sklearn import preprocessing\n",
        "scaler = preprocessing.MinMaxScaler().fit(data_train_labeled)\n",
        "pd.DataFrame(scaler.transform(data_train_labeled),columns=data_train_labeled.columns).tail()\n"
      ],
      "execution_count": null,
      "outputs": [
        {
          "output_type": "execute_result",
          "data": {
            "text/html": [
              "<div>\n",
              "<style scoped>\n",
              "    .dataframe tbody tr th:only-of-type {\n",
              "        vertical-align: middle;\n",
              "    }\n",
              "\n",
              "    .dataframe tbody tr th {\n",
              "        vertical-align: top;\n",
              "    }\n",
              "\n",
              "    .dataframe thead th {\n",
              "        text-align: right;\n",
              "    }\n",
              "</style>\n",
              "<table border=\"1\" class=\"dataframe\">\n",
              "  <thead>\n",
              "    <tr style=\"text-align: right;\">\n",
              "      <th></th>\n",
              "      <th>longitude</th>\n",
              "      <th>latitude</th>\n",
              "      <th>housing_median_age</th>\n",
              "      <th>total_rooms</th>\n",
              "      <th>total_bedrooms</th>\n",
              "      <th>population</th>\n",
              "      <th>households</th>\n",
              "      <th>median_income</th>\n",
              "      <th>median_house_value</th>\n",
              "      <th>ocean_proximity</th>\n",
              "    </tr>\n",
              "  </thead>\n",
              "  <tbody>\n",
              "    <tr>\n",
              "      <th>13204</th>\n",
              "      <td>0.439439</td>\n",
              "      <td>0.455319</td>\n",
              "      <td>0.54</td>\n",
              "      <td>0.058073</td>\n",
              "      <td>0.073203</td>\n",
              "      <td>0.037426</td>\n",
              "      <td>0.056570</td>\n",
              "      <td>0.227976</td>\n",
              "      <td>0.310104</td>\n",
              "      <td>0.25</td>\n",
              "    </tr>\n",
              "    <tr>\n",
              "      <th>13205</th>\n",
              "      <td>0.336336</td>\n",
              "      <td>0.536170</td>\n",
              "      <td>0.28</td>\n",
              "      <td>0.104442</td>\n",
              "      <td>0.143029</td>\n",
              "      <td>0.091692</td>\n",
              "      <td>0.125802</td>\n",
              "      <td>0.125191</td>\n",
              "      <td>0.198558</td>\n",
              "      <td>0.25</td>\n",
              "    </tr>\n",
              "    <tr>\n",
              "      <th>13206</th>\n",
              "      <td>0.477477</td>\n",
              "      <td>0.509574</td>\n",
              "      <td>0.48</td>\n",
              "      <td>0.106630</td>\n",
              "      <td>0.124429</td>\n",
              "      <td>0.019886</td>\n",
              "      <td>0.032560</td>\n",
              "      <td>0.127467</td>\n",
              "      <td>0.339176</td>\n",
              "      <td>0.25</td>\n",
              "    </tr>\n",
              "    <tr>\n",
              "      <th>13207</th>\n",
              "      <td>0.595596</td>\n",
              "      <td>0.138298</td>\n",
              "      <td>0.64</td>\n",
              "      <td>0.046606</td>\n",
              "      <td>0.061768</td>\n",
              "      <td>0.031964</td>\n",
              "      <td>0.047361</td>\n",
              "      <td>0.310347</td>\n",
              "      <td>0.699381</td>\n",
              "      <td>0.00</td>\n",
              "    </tr>\n",
              "    <tr>\n",
              "      <th>13208</th>\n",
              "      <td>0.606607</td>\n",
              "      <td>0.179787</td>\n",
              "      <td>0.58</td>\n",
              "      <td>0.100435</td>\n",
              "      <td>0.108116</td>\n",
              "      <td>0.057487</td>\n",
              "      <td>0.097024</td>\n",
              "      <td>0.488621</td>\n",
              "      <td>0.752782</td>\n",
              "      <td>0.00</td>\n",
              "    </tr>\n",
              "  </tbody>\n",
              "</table>\n",
              "</div>"
            ],
            "text/plain": [
              "       longitude  latitude  ...  median_house_value  ocean_proximity\n",
              "13204   0.439439  0.455319  ...            0.310104             0.25\n",
              "13205   0.336336  0.536170  ...            0.198558             0.25\n",
              "13206   0.477477  0.509574  ...            0.339176             0.25\n",
              "13207   0.595596  0.138298  ...            0.699381             0.00\n",
              "13208   0.606607  0.179787  ...            0.752782             0.00\n",
              "\n",
              "[5 rows x 10 columns]"
            ]
          },
          "metadata": {
            "tags": []
          },
          "execution_count": 129
        }
      ]
    },
    {
      "cell_type": "markdown",
      "metadata": {
        "id": "RnMsRlP8rb0i",
        "colab_type": "text"
      },
      "source": [
        "\n",
        "##<h1><b>6. Trabalhando com o primeiro modelo: Regressão Linear </b></h1>\n",
        "\n",
        "\n"
      ]
    },
    {
      "cell_type": "markdown",
      "metadata": {
        "id": "pwkahJC8hWJL",
        "colab_type": "text"
      },
      "source": [
        "De forma simplificada, temos que a ideia da regressão linear é reduzir o Mean  Square  Error(MSE). Essa equação mede o quão bom o nosso modelo se ajusta aos dados.\n",
        "$$\n",
        "MSE(\\theta)= \\frac{\\sum^{m}_{i=1}[(\\sum^{n}_{j=0}\\theta_{j}x^{(i)}_{j})-y^{(i)}]^2}{m}\n",
        "$$, onde $\\theta_js$ são os parâmetros que serão ajustados para o modelo, $x_j^{(i)}$ é a entrada do modelo representando a j-ésima feature e a i-ésima instância, $y^{(i)}$ representa a variável que estamos tentando predizer. Além disso, $x_0^{(i)}$ é sempre igual a 1  para que bias term($\\theta_0$) esteja sempre presente. Para acharmos o mínimo dessa função, podemos derivar em relação da cada $\\theta$ e igualar a zero para achar o ponto mínimo, então:\n",
        "$$\n",
        "\\frac{\\partial MSE(\\theta)}{\\partial\\theta_k}=\\frac{\\sum_{i=1}^{m}2x_k^{(i)}[(\\sum^{n}_{j=0}\\theta_{j}x^{(i)}_{j})-y^{(i)}]}{m} = \\frac{2\\sum_{i=1}^{m}x_k^{(i)}\\sum_{j=0}^{n}\\theta_jx^{(i)}_j-2\\sum_{i=1}^m x_{k}^{(i)}y^{(i)}}{m}=0\n",
        "$$\n",
        "Portanto,\n",
        "$$\n",
        "\\sum_{i=1}^{m}x_k^{(i)}\\sum_{j=0}^{n}\\theta_jx^{(i)}_j-\\sum_{i=1}^m x_{k}^{(i)}y^{(i)}=0\n",
        "$$\n",
        "Repara que temos n+1 incógnitas($\\theta s$) e n+1 equações, podemos recrever tais equações em notação matricial\n",
        "$$\n",
        "X^TX \\theta =X^{T}Y\n",
        "$$\n",
        "então:\n",
        "$$\\theta=((X^TX))^{-1}X^TY$$\n",
        " Onde X representa nossa matriz de entrada com a cada coluna representando uma feature e cada linha representando uma instância, Y(nosso Target) uma matriz com 1 coluna e cada linha representando uma instância e $\\theta$ nosso hiperparâmetro de uma coluna e n linhas. \n",
        " Tal equação é mais conhecida como a equação normal e com auxílio de bibliotecas o problema fica facilmente resolvível, como abaixo:"
      ]
    },
    {
      "cell_type": "code",
      "metadata": {
        "id": "pdIvkRSwISQe",
        "colab_type": "code",
        "colab": {}
      },
      "source": [
        "n_rows=len(data_train_labeled_std)\n",
        "X= data_train_labeled_std.drop(\"median_income\",axis=1).values\n",
        "X =np.column_stack( [np.ones(n_rows),  X])\n",
        "Y=np.resize( data_train_labeled_std[\"median_income\"].values,(n_rows,1) )\n",
        "    \n",
        "def fit(X,Y):\n",
        "  return np.dot( np.dot( np.linalg.inv( np.dot( X.T,X ) ), X.T) ,Y) #Equação"
      ],
      "execution_count": null,
      "outputs": []
    },
    {
      "cell_type": "code",
      "metadata": {
        "id": "7859PbCS0ZEo",
        "colab_type": "code",
        "colab": {
          "base_uri": "https://localhost:8080/",
          "height": 191
        },
        "outputId": "55b78279-62ed-40b6-c5c9-ed7593086204"
      },
      "source": [
        "Theta=fit(X,Y)\n",
        "Theta"
      ],
      "execution_count": null,
      "outputs": [
        {
          "output_type": "execute_result",
          "data": {
            "text/plain": [
              "array([[-1.78534216e-16],\n",
              "       [ 1.95863431e-02],\n",
              "       [ 7.04257718e-03],\n",
              "       [-1.39975741e-01],\n",
              "       [ 1.04471604e+00],\n",
              "       [-1.19048851e+00],\n",
              "       [-3.78488997e-03],\n",
              "       [ 1.39127480e-01],\n",
              "       [ 6.23815789e-01],\n",
              "       [-4.80946817e-02]])"
            ]
          },
          "metadata": {
            "tags": []
          },
          "execution_count": 138
        }
      ]
    },
    {
      "cell_type": "markdown",
      "metadata": {
        "id": "4uT5PoZe6MPO",
        "colab_type": "text"
      },
      "source": [
        "Também podemos utilizar a biblioteca sklearn para tal tarefa\n",
        "\n",
        "\n"
      ]
    },
    {
      "cell_type": "code",
      "metadata": {
        "id": "5binO0t46LFM",
        "colab_type": "code",
        "colab": {
          "base_uri": "https://localhost:8080/",
          "height": 191
        },
        "outputId": "30560df6-d50e-4f2f-9d71-bb4d4cb77392"
      },
      "source": [
        "from sklearn.linear_model import LinearRegression\n",
        "n_rows=len(data_train_labeled)\n",
        "X= data_train_labeled_std.drop(\"median_income\",axis=1).values\n",
        "Y=np.resize( data_train_labeled_std[\"median_income\"].values,(n_rows,1) )\n",
        "reg = LinearRegression()\n",
        "reg.fit(X,Y)\n",
        "Thetas= np.hstack((reg.intercept_,reg.coef_[0]))\n",
        "np.resize( Thetas,(10,1) )\n"
      ],
      "execution_count": null,
      "outputs": [
        {
          "output_type": "execute_result",
          "data": {
            "text/plain": [
              "array([[-1.86889520e-16],\n",
              "       [ 1.95863431e-02],\n",
              "       [ 7.04257718e-03],\n",
              "       [-1.39975741e-01],\n",
              "       [ 1.04471604e+00],\n",
              "       [-1.19048851e+00],\n",
              "       [-3.78488997e-03],\n",
              "       [ 1.39127480e-01],\n",
              "       [ 6.23815789e-01],\n",
              "       [-4.80946817e-02]])"
            ]
          },
          "metadata": {
            "tags": []
          },
          "execution_count": 136
        }
      ]
    },
    {
      "cell_type": "code",
      "metadata": {
        "id": "tTfXVDEopp4B",
        "colab_type": "code",
        "colab": {
          "base_uri": "https://localhost:8080/",
          "height": 34
        },
        "outputId": "1e0c5097-bd90-44fa-b8aa-5dc72fa6fa64"
      },
      "source": [
        "reg.score(X,Y)"
      ],
      "execution_count": null,
      "outputs": [
        {
          "output_type": "execute_result",
          "data": {
            "text/plain": [
              "0.6678321284419713"
            ]
          },
          "metadata": {
            "tags": []
          },
          "execution_count": 139
        }
      ]
    },
    {
      "cell_type": "markdown",
      "metadata": {
        "id": "0wxniCOUJlPu",
        "colab_type": "text"
      },
      "source": [
        "##<h1><b>7. Motivação para existência do conjunto de validação</b></h1>\n"
      ]
    },
    {
      "cell_type": "markdown",
      "metadata": {
        "id": "qycQ53wGOvmv",
        "colab_type": "text"
      },
      "source": [
        "<h2>Stochastic Gradient Descent</h2>\n",
        "Sabemos que se tratando de Machine Learning, os algoritmos possuem um desempenho muito melhor em grandes volumes de dados. Na seção 6 treinamos o modelo utilizando a equação normal para regressão linear, embora seja um método que vá diretamente ao ponto mínimo, sua complexidade para grandes instâncias é alta. Isso se dá pelo fato de ter que calcular uma matriz inversa na fórmula. Os melhores algoritmos de inversão de matrizes possuem uma complexidade que varia de $O(n^{2,4})-O(n^{3})$. Com isso, para instâncias maiores que 100000, já começamos a ter problemas com o tempo de execução. Portanto, é necessário métodos alternativos que minimizem a função de erro de forma mais rápida. Stochastic Gradient Descent(SGD) é uma abordagem que trata justamente esse problema. De forma resumida, ele utiliza a fórmula abaixo a cada iteração:\n",
        "$$\\theta^{(i+1)}_j = \\theta^{(i)}_j - n\\frac{\\partial}{\\partial\\theta_j}MSE(\\theta)$$,\n",
        "onde n é uma constante chamado pela literatura de learning rate. Intuitivamente, é como se a fórmula a cada iteração visse o quanto devemos tirar ou acrescentar (se a derivada partical for negativa) de um parâmetro para que nossa função de erro seja minimizada. Note que quando a derivada chega próxima de zero(um indício de que estamos em um mínimo local), temos que $\\theta_j^{(i+1)}\\approx\\theta_j^{(i)} $ e o parâmetro estagna ou varia muito pouco. É preciso tomar cuidado sobre a seleção do valor de n, pois para valores muito grandes, a função pode dar saltos e demorar para convergir. Já para valores muito pequenos, também haverá um delay, pois a atualização irá variar os parâmetros em uma quantidade muito pequena. Felizmente, na regressão linear  o mínimo local é igual ao global, e por isso, o método sempre converge para o mínimo global. No entanto, o poder e importância dessa abordagem se reside no fato de que você pode aplicá-la também para funções  não lineares, por exemplo, para funções utilizadas em redes neurais. Abaixo, está a forma de calcular as derivadas partiais. Na primeira fórmula, calculamos para cada $\\theta$, na segunda é uma representação matricial para todos os $\\theta$s.\n",
        "$$\\frac{\\partial{MSE(\\theta)}}{\\partial \\theta_j} = \n",
        "\\frac{2}{m}\\sum_{i=1}^{m}(\\theta^T x^{(i)}-y^{(i)})x^{(i)}_j $$\n",
        "$$\\nabla{_\\theta}MSE(\\theta) = \\frac{2}{m}X^T.(X.\\theta-Y)  $$\n",
        "E por fim, a fórmula de atualização final na forma matricial:\n",
        "$$\\theta^{(i+1)}=\\theta^{(i)}-n\\nabla _\\theta MSE(\\theta)$$\n",
        "<b>Importante:</b> SGD não se utiliza de todos os dados de treino. Ele escolhe m dados randomicamente a cada época e atualiza os $\\theta$s e é por isso que ele pode ser mais rápido, pois podemos escolher o número de instâncias. O número de épocas e m são hiperparâmetros. O valor de n pode também ser alterado por algumas eurísticas, como a feita no código abaixo."
      ]
    },
    {
      "cell_type": "markdown",
      "metadata": {
        "id": "XuvwhRcmJ1w8",
        "colab_type": "text"
      },
      "source": [
        "$$$$"
      ]
    },
    {
      "cell_type": "code",
      "metadata": {
        "id": "ylgaNJKNXrL4",
        "colab_type": "code",
        "colab": {
          "base_uri": "https://localhost:8080/",
          "height": 191
        },
        "outputId": "13db05d2-d4de-4fbf-c508-2022c394eece"
      },
      "source": [
        "n_rows=len(data_train_labeled_std)\n",
        "X = data_train_labeled_std.drop(\"median_income\",axis=1).values\n",
        "X = np.column_stack( [np.ones(n_rows),  X])\n",
        "Y = np.resize( data_train_labeled_std[\"median_income\"].values,(n_rows,1) )\n",
        "    \n",
        "def learning_schedule(epoch,decay,eta):\n",
        "   return eta * 1/(1 + decay * epoch)\n",
        "\n",
        "# random initialization\n",
        "def stochasticGradientDescentRegressionLinear(X,Y,n_epochs,m,eta=0.1):\n",
        "  n_params,n_rows=X.shape[1], X.shape[0]\n",
        "  theta = np.random.randn(n_params,1)\n",
        "  decay = eta / n_epochs\n",
        "  for epoch in range(n_epochs):\n",
        "    for i in range(m):\n",
        "      r=np.random.randint(n_rows)\n",
        "      X_i = X[r:r+1]\n",
        "      Y_i = Y[r:r+1]        \n",
        "      gradients = 2 * X_i.T.dot(X_i.dot(theta) - Y_i)   \n",
        "      eta = learning_schedule(epoch,decay,eta)        \n",
        "      theta = theta - eta * gradients\n",
        "    \n",
        "  return theta\n",
        "stochasticGradientDescentRegressionLinear(X,Y,1000,1,0.1)"
      ],
      "execution_count": null,
      "outputs": [
        {
          "output_type": "execute_result",
          "data": {
            "text/plain": [
              "array([[0.34232386],\n",
              "       [1.88352607],\n",
              "       [1.70645599],\n",
              "       [0.26797509],\n",
              "       [0.05431502],\n",
              "       [1.73515493],\n",
              "       [1.39436497],\n",
              "       [0.25823992],\n",
              "       [0.76979734],\n",
              "       [0.21077413]])"
            ]
          },
          "metadata": {
            "tags": []
          },
          "execution_count": 182
        }
      ]
    },
    {
      "cell_type": "code",
      "metadata": {
        "id": "SdFONYCHoPE-",
        "colab_type": "code",
        "colab": {
          "base_uri": "https://localhost:8080/",
          "height": 124
        },
        "outputId": "3c1fa2f7-5d0c-4770-d788-57c1c139c7c7"
      },
      "source": [
        "X = data_train_labeled_std.drop(\"median_income\",axis=1).values\n",
        "Y = np.resize( data_train_labeled_std[\"median_income\"].values,(n_rows,1) )\n",
        "from sklearn.linear_model import SGDRegressor\n",
        "clf = SGDRegressor(max_iter=1000, tol=1e-3)\n",
        "clf.fit(X,Y)\n",
        "print(clf.intercept_,clf.coef_)"
      ],
      "execution_count": null,
      "outputs": [
        {
          "output_type": "stream",
          "text": [
            "[-0.00925549] [ 6.04248498e-03 -1.00758764e-03 -1.38772924e-01  1.01791025e+00\n",
            " -9.77377011e-01  4.61938805e-02 -7.08382560e-02  6.23898059e-01\n",
            " -3.48403366e-02]\n"
          ],
          "name": "stdout"
        },
        {
          "output_type": "stream",
          "text": [
            "/usr/local/lib/python3.6/dist-packages/sklearn/utils/validation.py:760: DataConversionWarning: A column-vector y was passed when a 1d array was expected. Please change the shape of y to (n_samples, ), for example using ravel().\n",
            "  y = column_or_1d(y, warn=True)\n"
          ],
          "name": "stderr"
        }
      ]
    },
    {
      "cell_type": "markdown",
      "metadata": {
        "id": "A5SLSHNFTTzl",
        "colab_type": "text"
      },
      "source": [
        "##<h1><b>8. Organizando o código</b></h1>\n",
        "Vimos que para chegarmos na fase de treinamento de um modelo, precisamos passar por várias etapas e que algumas partes precisam ser executadas antes de outras, por exemplo, não conseguimos aplicar o modelo de regressão se não tratarmos as lacunas e features do tipo string. Por isso, é muito importante que as células sejam executadas na ordem correta. No entanto, ao invés de sempre ficarmos procurando a célula correta para se executar, podemos fazer tal trabalho de uma forma mais compacta utilizando classes com python."
      ]
    },
    {
      "cell_type": "code",
      "metadata": {
        "id": "DLaNokAIfak1",
        "colab_type": "code",
        "colab": {}
      },
      "source": [
        "import pandas as pd               \n",
        "import numpy as np                #Para trabalhar com matrizes\n",
        "import matplotlib.pyplot as plt   #Para plotagem de dos dados\n",
        "import sklearn \n",
        "from sklearn.experimental import enable_iterative_imputer\n",
        "from sklearn.impute import IterativeImputer\n",
        "from sklearn.impute import SimpleImputer\n",
        "from sklearn import preprocessing\n",
        "from sklearn.linear_model import LinearRegression\n",
        "from urllib.request import urlopen  \n",
        "import os\n",
        "\n",
        "\n",
        "def get_data(URL):\n",
        "  # open and save the zip file onto computer\n",
        "  url = urlopen(URL)\n",
        "  output = open('housing.zip', 'wb')    # note the flag:  \"wb\"        \n",
        "  output.write(url.read())\n",
        "  output.close()\n",
        "  # read the zip file as a pandas dataframe\n",
        "  data = pd.read_csv('housing.zip')   # pandas version 0.18.1 takes zip files       \n",
        "  # if keeping on disk the zip file is not wanted, then:\n",
        "  os.remove('housing.zip')   # remove the copy of the zipfile on disk\n",
        "  return data\n",
        "\n",
        "def split_data(data,percentual):\n",
        "  shuffled_indices = np.random.permutation(len(data))\n",
        "  tam = int(len(data) * percentual)\n",
        "  return data.iloc[shuffled_indices[:tam]] , data.iloc[shuffled_indices[tam:]]\n",
        "\n",
        "def mice_fit(imp,data,exceto=[]):\n",
        "  df=data.drop(exceto,axis=1)\n",
        "  return imp.fit(df)\n",
        "\n",
        "def mice_transform(imp,data,exceto=[]):\n",
        "  df=data.drop(exceto,axis=1)\n",
        "  df=pd.DataFrame(imp.transform(df),columns=df.columns)\n",
        "  for name in exceto:\n",
        "    df[name]=data[name].values\n",
        "  return df\n",
        "\n",
        "def label_encoder_fit(le,df,name_c):\n",
        "  le.fit(df[name_c])\n",
        "\n",
        "def label_encoder_transform(le,df,name_c):\n",
        "  df_c=df.copy()\n",
        "  df_c[name_c]=le.transform(df_c[name_c])\n",
        "  return df_c\n",
        "\n",
        "def standard_scaler_fit(scaler,df):\n",
        "  scaler.fit(df)\n",
        "\n",
        "def standard_scaler_transform(scaler,df):\n",
        "  return pd.DataFrame(scaler.transform(df),columns=df.columns)\n",
        "\n",
        "def linear_regression_fit(lreg,X,Y):\n",
        "  lreg.fit(X,Y)\n",
        "\n",
        "def linear_regression_score(lreg,X,Y):\n",
        "  return lreg.score(X, Y)\n"
      ],
      "execution_count": null,
      "outputs": []
    },
    {
      "cell_type": "code",
      "metadata": {
        "id": "bINe4uywQYEU",
        "colab_type": "code",
        "colab": {
          "base_uri": "https://localhost:8080/",
          "height": 121
        },
        "outputId": "02dc469d-7d02-497f-b646-26f4dc21099d"
      },
      "source": [
        "URL = 'https://github.com/Mauricio-Sousa-Araujo/Aprendizado_Estatistico/blob/master/housing.zip?raw=true'\n",
        "data=get_data(URL)\n",
        "data_train,data_test= split_data(data,0.8)        #80% para treino e 20% para teste\n",
        "data_train,data_val = split_data(data_train,0.8)  #80% para treino e 20% para validação\n",
        "print(f'Data Training possui : {data_train.values.shape[0]} instâncias ')\n",
        "print(f'Data Validation possui : {data_val.values.shape[0]} instâncias ')\n",
        "print(f'Data Test possui : {data_test.values.shape[0]} instâncias ')\n",
        "\n",
        "#MICE\n",
        "imp_mice=IterativeImputer(max_iter=10)\n",
        "imp_mice=mice_fit(imp_mice,data_train,exceto=[\"ocean_proximity\"])\n",
        "data_train=mice_transform(imp_mice,data_train,exceto=[\"ocean_proximity\"])\n",
        "data_val=mice_transform(imp_mice,data_val,exceto=[\"ocean_proximity\"])\n",
        "data_test=mice_transform(imp_mice,data_test,exceto=[\"ocean_proximity\"])\n",
        "\n",
        "\n",
        "#Label encoder\n",
        "le = preprocessing.LabelEncoder()\n",
        "label_encoder_fit(le,data_train,name_c=\"ocean_proximity\")\n",
        "data_train = label_encoder_transform(le, data_train,name_c=\"ocean_proximity\")\n",
        "data_val   = label_encoder_transform(le, data_val,name_c=\"ocean_proximity\"  )\n",
        "data_test  = label_encoder_transform(le, data_test,name_c=\"ocean_proximity\" )\n",
        "\n",
        "#Padroniza\n",
        "std=preprocessing.StandardScaler()\n",
        "standard_scaler_fit(std,data_train)\n",
        "data_train = standard_scaler_transform(std,data_train)\n",
        "data_val   = standard_scaler_transform(std,data_val)\n",
        "data_test  = standard_scaler_transform(std,data_test)\n",
        "\n",
        "#Aplicando model: Regressão Linear\n",
        "lreg = LinearRegression()\n",
        "X_train = data_train.drop([\"median_income\"],axis=1).values\n",
        "X_val   = data_val.drop([\"median_income\"],axis=1).values\n",
        "X_test  = data_test.drop([\"median_income\"],axis=1).values\n",
        "\n",
        "Y_train  = np.resize(data_train[\"median_income\"].values,(len(data_train),1))\n",
        "Y_val    = np.resize(data_val[\"median_income\"].values,(len(data_val),1))\n",
        "Y_test   = np.resize(data_test[\"median_income\"].values,(len(data_test),1))\n",
        "\n",
        "linear_regression_fit(lreg,X_train,Y_train)\n",
        "print(f'Score Train: {linear_regression_score(lreg,X_train,Y_train)}'  )\n",
        "print(f'Score Validação: {linear_regression_score(lreg,X_val,Y_val)}'  )\n",
        "print(f'Score Test: {linear_regression_score(lreg,X_test,Y_test)}')\n",
        "\n"
      ],
      "execution_count": null,
      "outputs": [
        {
          "output_type": "stream",
          "text": [
            "Data Training possui : 13209 instâncias \n",
            "Data Validation possui : 3303 instâncias \n",
            "Data Test possui : 4128 instâncias \n",
            "Score Train: 0.6667451986006754\n",
            "Score Validação: 0.656955239930143\n",
            "Score Test: 0.6500061729370988\n"
          ],
          "name": "stdout"
        }
      ]
    },
    {
      "cell_type": "code",
      "metadata": {
        "id": "hkpgRY5zCwA2",
        "colab_type": "code",
        "colab": {}
      },
      "source": [
        ""
      ],
      "execution_count": null,
      "outputs": []
    }
  ]
}