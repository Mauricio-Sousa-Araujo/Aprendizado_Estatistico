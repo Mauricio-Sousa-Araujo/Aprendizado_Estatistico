{
  "nbformat": 4,
  "nbformat_minor": 0,
  "metadata": {
    "colab": {
      "name": "R.ipynb",
      "provenance": [],
      "collapsed_sections": [],
      "authorship_tag": "ABX9TyNldaJF7KY3ir4RJgQvN+ID",
      "include_colab_link": true
    },
    "kernelspec": {
      "name": "ir",
      "display_name": "R"
    }
  },
  "cells": [
    {
      "cell_type": "markdown",
      "metadata": {
        "id": "view-in-github",
        "colab_type": "text"
      },
      "source": [
        "<a href=\"https://colab.research.google.com/github/Mauricio-Sousa-Araujo/Aprendizado_Estatistico/blob/master/R.ipynb\" target=\"_parent\"><img src=\"https://colab.research.google.com/assets/colab-badge.svg\" alt=\"Open In Colab\"/></a>"
      ]
    },
    {
      "cell_type": "markdown",
      "metadata": {
        "id": "67IDZItZ8aEg",
        "colab_type": "text"
      },
      "source": [
        "\n",
        "##<h1><b>1. Get Data </b></h1>\n",
        "\n",
        "Download e leitura dos dados "
      ]
    },
    {
      "cell_type": "code",
      "metadata": {
        "id": "o9KNLBte8d9a",
        "colab_type": "code",
        "colab": {
          "base_uri": "https://localhost:8080/",
          "height": 434
        },
        "outputId": "6da0106f-5997-41af-c9a2-64f79d078929"
      },
      "source": [
        "temp <- tempfile()\n",
        "download.file(\"https://github.com/Mauricio-Sousa-Araujo/Aprendizado_Estatistico/raw/master/housing.zip\",temp)\n",
        "data <- read.csv(unz(temp, \"housing.csv\"))\n",
        "unlink(temp)\n",
        "summary(data)\n"
      ],
      "execution_count": 91,
      "outputs": [
        {
          "output_type": "display_data",
          "data": {
            "text/plain": [
              "   longitude         latitude     housing_median_age  total_rooms   \n",
              " Min.   :-124.3   Min.   :32.54   Min.   : 1.00      Min.   :    2  \n",
              " 1st Qu.:-121.8   1st Qu.:33.92   1st Qu.:18.00      1st Qu.: 1447  \n",
              " Median :-118.4   Median :34.22   Median :29.00      Median : 2124  \n",
              " Mean   :-119.6   Mean   :35.62   Mean   :28.85      Mean   : 2631  \n",
              " 3rd Qu.:-118.0   3rd Qu.:37.72   3rd Qu.:37.00      3rd Qu.: 3136  \n",
              " Max.   :-114.3   Max.   :41.95   Max.   :52.00      Max.   :39320  \n",
              "                                                                    \n",
              " total_bedrooms     population      households     median_income    \n",
              " Min.   :   1.0   Min.   :    3   Min.   :   1.0   Min.   : 0.4999  \n",
              " 1st Qu.: 296.0   1st Qu.:  787   1st Qu.: 280.0   1st Qu.: 2.5685  \n",
              " Median : 435.0   Median : 1164   Median : 409.0   Median : 3.5432  \n",
              " Mean   : 538.3   Mean   : 1423   Mean   : 499.9   Mean   : 3.8779  \n",
              " 3rd Qu.: 647.0   3rd Qu.: 1721   3rd Qu.: 604.0   3rd Qu.: 4.7447  \n",
              " Max.   :6445.0   Max.   :35682   Max.   :6082.0   Max.   :15.0001  \n",
              " NA's   :196                                                        \n",
              " median_house_value   ocean_proximity\n",
              " Min.   :     5               :   1  \n",
              " 1st Qu.:121500     <1H OCEAN :8925  \n",
              " Median :180250     INLAND    :6146  \n",
              " Mean   :208157     ISLAND    :   5  \n",
              " 3rd Qu.:266400     NEAR BAY  :2290  \n",
              " Max.   :500001     NEAR OCEAN:2485  \n",
              "                                     "
            ]
          },
          "metadata": {
            "tags": []
          }
        }
      ]
    },
    {
      "cell_type": "markdown",
      "metadata": {
        "id": "35ZqBwGPGL9L",
        "colab_type": "text"
      },
      "source": [
        "##<h1><b>2. Criando os conjuntos de Test, Training e Validation.     </b></h1>\n"
      ]
    },
    {
      "cell_type": "code",
      "metadata": {
        "id": "iDqKUJDl-PFM",
        "colab_type": "code",
        "colab": {}
      },
      "source": [
        "split_data = function (data,porcentagem,semente) {\n",
        "    set.seed(semente)\n",
        "    smp_size <- floor(porcentagem* nrow(data))    \n",
        "    indices =  sample( seq_len(nrow(data)), size = smp_size )\n",
        "    return ( list(data[indices, ],data[-indices,]) )\n",
        "}"
      ],
      "execution_count": 77,
      "outputs": []
    },
    {
      "cell_type": "code",
      "metadata": {
        "id": "Hc9lN5wr-7MV",
        "colab_type": "code",
        "colab": {}
      },
      "source": [
        "data_aux   <- split_data ( data , 0.85 ,1) \n",
        "data_train <- as.data.frame(data_aux[1])\n",
        "data_test  <- as.data.frame(data_aux[2])\n",
        "\n",
        "data_aux   <- split_data ( data , 0.80 ,2) \n",
        "data_train <- as.data.frame(data_aux[1])\n",
        "data_val  <- as.data.frame(data_aux[2])\n",
        "\n",
        "cat(\"Data Training possui : \", nrow(data_train),\"instâncias\\n\")\n",
        "cat(\"Data Validation possui : \", nrow(data_val),\"instâncias\\n\")\n",
        "cat(\"Data Test possui : \", nrow(data_test),\"instâncias\\n\")\n"
      ],
      "execution_count": 88,
      "outputs": []
    },
    {
      "cell_type": "markdown",
      "metadata": {
        "id": "QEgtnvu1XTuU",
        "colab_type": "text"
      },
      "source": [
        "##<h1><b>3. Discover and Visualize the Data to Gain Insights</b></h1>\n",
        "\n",
        "\n"
      ]
    },
    {
      "cell_type": "code",
      "metadata": {
        "id": "S5CSzDXIMMiw",
        "colab_type": "code",
        "colab": {
          "base_uri": "https://localhost:8080/",
          "height": 437
        },
        "outputId": "6f347be1-02ab-497e-cf11-f50ff4225e0d"
      },
      "source": [
        "hist(data$longitude)"
      ],
      "execution_count": null,
      "outputs": [
        {
          "output_type": "display_data",
          "data": {
            "image/png": "[encoded data removed]",
            "text/plain": [
              "Plot with title “Histogram of data$longitude”"
            ]
          },
          "metadata": {
            "tags": [],
            "image/png": {
              "width": 420,
              "height": 420
            }
          }
        }
      ]
    },
    {
      "cell_type": "code",
      "metadata": {
        "id": "1BnNviiBOuVN",
        "colab_type": "code",
        "colab": {}
      },
      "source": [
        "data$ocean_proximity <- NULL"
      ],
      "execution_count": null,
      "outputs": []
    },
    {
      "cell_type": "code",
      "metadata": {
        "id": "yHKfScJ-DYIv",
        "colab_type": "code",
        "colab": {
          "base_uri": "https://localhost:8080/",
          "height": 270
        },
        "outputId": "f5d7eb97-43c9-4eb2-f01d-df9a4405f476"
      },
      "source": [
        "data_aux <- data\n",
        "data_aux$ocean_proximity <- NULL\n",
        "cor(data_aux, method = c(\"pearson\"))"
      ],
      "execution_count": 96,
      "outputs": [
        {
          "output_type": "display_data",
          "data": {
            "text/plain": [
              "                   longitude   latitude    housing_median_age total_rooms\n",
              "longitude           1.00000000 -0.92743812 -0.10941870         0.04459889\n",
              "latitude           -0.92743812  1.00000000  0.01246308        -0.03249653\n",
              "housing_median_age -0.10941870  0.01246308  1.00000000        -0.36377647\n",
              "total_rooms         0.04459889 -0.03249653 -0.36377647         1.00000000\n",
              "total_bedrooms              NA          NA          NA                 NA\n",
              "population          0.10127788 -0.10718003 -0.29883533         0.85645448\n",
              "households          0.05650267 -0.06931712 -0.30612559         0.91801454\n",
              "median_income      -0.02179868 -0.06704458 -0.11704840         0.19588610\n",
              "median_house_value -0.05325806 -0.12998634  0.10821481         0.12918318\n",
              "                   total_bedrooms population   households   median_income\n",
              "longitude          NA              0.101277884  0.056502671 -0.021798676 \n",
              "latitude           NA             -0.107180029 -0.069317117 -0.067044576 \n",
              "housing_median_age NA             -0.298835326 -0.306125586 -0.117048396 \n",
              "total_rooms        NA              0.856454483  0.918014541  0.195886096 \n",
              "total_bedrooms      1                       NA           NA           NA \n",
              "population         NA              1.000000000  0.906580344  0.001113295 \n",
              "households         NA              0.906580344  1.000000000  0.009657114 \n",
              "median_income      NA              0.001113295  0.009657114  1.000000000 \n",
              "median_house_value NA             -0.030974177  0.061488808  0.685938896 \n",
              "                   median_house_value\n",
              "longitude          -0.05325806       \n",
              "latitude           -0.12998634       \n",
              "housing_median_age  0.10821481       \n",
              "total_rooms         0.12918318       \n",
              "total_bedrooms              NA       \n",
              "population         -0.03097418       \n",
              "households          0.06148881       \n",
              "median_income       0.68593890       \n",
              "median_house_value  1.00000000       "
            ],
            "text/latex": "A matrix: 9 × 9 of type dbl\n\\begin{tabular}{r|lllllllll}\n  & longitude & latitude & housing\\_median\\_age & total\\_rooms & total\\_bedrooms & population & households & median\\_income & median\\_house\\_value\\\\\n\\hline\n\tlongitude &  1.00000000 & -0.92743812 & -0.10941870 &  0.04459889 & NA &  0.101277884 &  0.056502671 & -0.021798676 & -0.05325806\\\\\n\tlatitude & -0.92743812 &  1.00000000 &  0.01246308 & -0.03249653 & NA & -0.107180029 & -0.069317117 & -0.067044576 & -0.12998634\\\\\n\thousing\\_median\\_age & -0.10941870 &  0.01246308 &  1.00000000 & -0.36377647 & NA & -0.298835326 & -0.306125586 & -0.117048396 &  0.10821481\\\\\n\ttotal\\_rooms &  0.04459889 & -0.03249653 & -0.36377647 &  1.00000000 & NA &  0.856454483 &  0.918014541 &  0.195886096 &  0.12918318\\\\\n\ttotal\\_bedrooms &          NA &          NA &          NA &          NA &  1 &           NA &           NA &           NA &          NA\\\\\n\tpopulation &  0.10127788 & -0.10718003 & -0.29883533 &  0.85645448 & NA &  1.000000000 &  0.906580344 &  0.001113295 & -0.03097418\\\\\n\thouseholds &  0.05650267 & -0.06931712 & -0.30612559 &  0.91801454 & NA &  0.906580344 &  1.000000000 &  0.009657114 &  0.06148881\\\\\n\tmedian\\_income & -0.02179868 & -0.06704458 & -0.11704840 &  0.19588610 & NA &  0.001113295 &  0.009657114 &  1.000000000 &  0.68593890\\\\\n\tmedian\\_house\\_value & -0.05325806 & -0.12998634 &  0.10821481 &  0.12918318 & NA & -0.030974177 &  0.061488808 &  0.685938896 &  1.00000000\\\\\n\\end{tabular}\n",
            "text/markdown": "\nA matrix: 9 × 9 of type dbl\n\n| <!--/--> | longitude | latitude | housing_median_age | total_rooms | total_bedrooms | population | households | median_income | median_house_value |\n|---|---|---|---|---|---|---|---|---|---|\n| longitude |  1.00000000 | -0.92743812 | -0.10941870 |  0.04459889 | NA |  0.101277884 |  0.056502671 | -0.021798676 | -0.05325806 |\n| latitude | -0.92743812 |  1.00000000 |  0.01246308 | -0.03249653 | NA | -0.107180029 | -0.069317117 | -0.067044576 | -0.12998634 |\n| housing_median_age | -0.10941870 |  0.01246308 |  1.00000000 | -0.36377647 | NA | -0.298835326 | -0.306125586 | -0.117048396 |  0.10821481 |\n| total_rooms |  0.04459889 | -0.03249653 | -0.36377647 |  1.00000000 | NA |  0.856454483 |  0.918014541 |  0.195886096 |  0.12918318 |\n| total_bedrooms |          NA |          NA |          NA |          NA |  1 |           NA |           NA |           NA |          NA |\n| population |  0.10127788 | -0.10718003 | -0.29883533 |  0.85645448 | NA |  1.000000000 |  0.906580344 |  0.001113295 | -0.03097418 |\n| households |  0.05650267 | -0.06931712 | -0.30612559 |  0.91801454 | NA |  0.906580344 |  1.000000000 |  0.009657114 |  0.06148881 |\n| median_income | -0.02179868 | -0.06704458 | -0.11704840 |  0.19588610 | NA |  0.001113295 |  0.009657114 |  1.000000000 |  0.68593890 |\n| median_house_value | -0.05325806 | -0.12998634 |  0.10821481 |  0.12918318 | NA | -0.030974177 |  0.061488808 |  0.685938896 |  1.00000000 |\n\n",
            "text/html": [
              "<table>\n",
              "<caption>A matrix: 9 × 9 of type dbl</caption>\n",
              "<thead>\n",
              "\t<tr><th></th><th scope=col>longitude</th><th scope=col>latitude</th><th scope=col>housing_median_age</th><th scope=col>total_rooms</th><th scope=col>total_bedrooms</th><th scope=col>population</th><th scope=col>households</th><th scope=col>median_income</th><th scope=col>median_house_value</th></tr>\n",
              "</thead>\n",
              "<tbody>\n",
              "\t<tr><th scope=row>longitude</th><td> 1.00000000</td><td>-0.92743812</td><td>-0.10941870</td><td> 0.04459889</td><td>NA</td><td> 0.101277884</td><td> 0.056502671</td><td>-0.021798676</td><td>-0.05325806</td></tr>\n",
              "\t<tr><th scope=row>latitude</th><td>-0.92743812</td><td> 1.00000000</td><td> 0.01246308</td><td>-0.03249653</td><td>NA</td><td>-0.107180029</td><td>-0.069317117</td><td>-0.067044576</td><td>-0.12998634</td></tr>\n",
              "\t<tr><th scope=row>housing_median_age</th><td>-0.10941870</td><td> 0.01246308</td><td> 1.00000000</td><td>-0.36377647</td><td>NA</td><td>-0.298835326</td><td>-0.306125586</td><td>-0.117048396</td><td> 0.10821481</td></tr>\n",
              "\t<tr><th scope=row>total_rooms</th><td> 0.04459889</td><td>-0.03249653</td><td>-0.36377647</td><td> 1.00000000</td><td>NA</td><td> 0.856454483</td><td> 0.918014541</td><td> 0.195886096</td><td> 0.12918318</td></tr>\n",
              "\t<tr><th scope=row>total_bedrooms</th><td>         NA</td><td>         NA</td><td>         NA</td><td>         NA</td><td> 1</td><td>          NA</td><td>          NA</td><td>          NA</td><td>         NA</td></tr>\n",
              "\t<tr><th scope=row>population</th><td> 0.10127788</td><td>-0.10718003</td><td>-0.29883533</td><td> 0.85645448</td><td>NA</td><td> 1.000000000</td><td> 0.906580344</td><td> 0.001113295</td><td>-0.03097418</td></tr>\n",
              "\t<tr><th scope=row>households</th><td> 0.05650267</td><td>-0.06931712</td><td>-0.30612559</td><td> 0.91801454</td><td>NA</td><td> 0.906580344</td><td> 1.000000000</td><td> 0.009657114</td><td> 0.06148881</td></tr>\n",
              "\t<tr><th scope=row>median_income</th><td>-0.02179868</td><td>-0.06704458</td><td>-0.11704840</td><td> 0.19588610</td><td>NA</td><td> 0.001113295</td><td> 0.009657114</td><td> 1.000000000</td><td> 0.68593890</td></tr>\n",
              "\t<tr><th scope=row>median_house_value</th><td>-0.05325806</td><td>-0.12998634</td><td> 0.10821481</td><td> 0.12918318</td><td>NA</td><td>-0.030974177</td><td> 0.061488808</td><td> 0.685938896</td><td> 1.00000000</td></tr>\n",
              "</tbody>\n",
              "</table>\n"
            ]
          },
          "metadata": {
            "tags": []
          }
        }
      ]
    },
    {
      "cell_type": "code",
      "metadata": {
        "id": "UpwVdEatDZzF",
        "colab_type": "code",
        "colab": {
          "base_uri": "https://localhost:8080/",
          "height": 100
        },
        "outputId": "f5a10a27-dc5b-4e9a-dc6a-a96e0cfc4c8c"
      },
      "source": [
        "data[1,]"
      ],
      "execution_count": 95,
      "outputs": [
        {
          "output_type": "display_data",
          "data": {
            "text/plain": [
              "  longitude latitude housing_median_age total_rooms total_bedrooms population\n",
              "1 -122.23   37.88    41                 880         129            322       \n",
              "  households median_income median_house_value ocean_proximity\n",
              "1 126        8.3252        452600             NEAR BAY       "
            ],
            "text/latex": "A data.frame: 1 × 10\n\\begin{tabular}{r|llllllllll}\n  & longitude & latitude & housing\\_median\\_age & total\\_rooms & total\\_bedrooms & population & households & median\\_income & median\\_house\\_value & ocean\\_proximity\\\\\n  & <dbl> & <dbl> & <dbl> & <dbl> & <dbl> & <dbl> & <dbl> & <dbl> & <dbl> & <fct>\\\\\n\\hline\n\t1 & -122.23 & 37.88 & 41 & 880 & 129 & 322 & 126 & 8.3252 & 452600 & NEAR BAY\\\\\n\\end{tabular}\n",
            "text/markdown": "\nA data.frame: 1 × 10\n\n| <!--/--> | longitude &lt;dbl&gt; | latitude &lt;dbl&gt; | housing_median_age &lt;dbl&gt; | total_rooms &lt;dbl&gt; | total_bedrooms &lt;dbl&gt; | population &lt;dbl&gt; | households &lt;dbl&gt; | median_income &lt;dbl&gt; | median_house_value &lt;dbl&gt; | ocean_proximity &lt;fct&gt; |\n|---|---|---|---|---|---|---|---|---|---|---|\n| 1 | -122.23 | 37.88 | 41 | 880 | 129 | 322 | 126 | 8.3252 | 452600 | NEAR BAY |\n\n",
            "text/html": [
              "<table>\n",
              "<caption>A data.frame: 1 × 10</caption>\n",
              "<thead>\n",
              "\t<tr><th></th><th scope=col>longitude</th><th scope=col>latitude</th><th scope=col>housing_median_age</th><th scope=col>total_rooms</th><th scope=col>total_bedrooms</th><th scope=col>population</th><th scope=col>households</th><th scope=col>median_income</th><th scope=col>median_house_value</th><th scope=col>ocean_proximity</th></tr>\n",
              "\t<tr><th></th><th scope=col>&lt;dbl&gt;</th><th scope=col>&lt;dbl&gt;</th><th scope=col>&lt;dbl&gt;</th><th scope=col>&lt;dbl&gt;</th><th scope=col>&lt;dbl&gt;</th><th scope=col>&lt;dbl&gt;</th><th scope=col>&lt;dbl&gt;</th><th scope=col>&lt;dbl&gt;</th><th scope=col>&lt;dbl&gt;</th><th scope=col>&lt;fct&gt;</th></tr>\n",
              "</thead>\n",
              "<tbody>\n",
              "\t<tr><th scope=row>1</th><td>-122.23</td><td>37.88</td><td>41</td><td>880</td><td>129</td><td>322</td><td>126</td><td>8.3252</td><td>452600</td><td>NEAR BAY</td></tr>\n",
              "</tbody>\n",
              "</table>\n"
            ]
          },
          "metadata": {
            "tags": []
          }
        }
      ]
    },
    {
      "cell_type": "code",
      "metadata": {
        "id": "62iCs3RTDhh8",
        "colab_type": "code",
        "colab": {}
      },
      "source": [
        ""
      ],
      "execution_count": null,
      "outputs": []
    }
  ]
}