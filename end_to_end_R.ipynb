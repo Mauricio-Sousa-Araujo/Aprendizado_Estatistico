{
  "nbformat": 4,
  "nbformat_minor": 0,
  "metadata": {
    "colab": {
      "name": "end_to_end_R.ipynb",
      "provenance": [],
      "collapsed_sections": [],
      "toc_visible": true,
      "authorship_tag": "ABX9TyOAQ7wXCMsi9TxjbzdSHe6G",
      "include_colab_link": true
    },
    "kernelspec": {
      "name": "ir",
      "display_name": "R"
    }
  },
  "cells": [
    {
      "cell_type": "markdown",
      "metadata": {
        "id": "view-in-github",
        "colab_type": "text"
      },
      "source": [
        "<a href=\"https://colab.research.google.com/github/Mauricio-Sousa-Araujo/Aprendizado_Estatistico/blob/master/end_to_end_R.ipynb\" target=\"_parent\"><img src=\"https://colab.research.google.com/assets/colab-badge.svg\" alt=\"Open In Colab\"/></a>"
      ]
    },
    {
      "cell_type": "markdown",
      "metadata": {
        "id": "67IDZItZ8aEg",
        "colab_type": "text"
      },
      "source": [
        ""
      ]
    },
    {
      "cell_type": "code",
      "metadata": {
        "id": "gaVdOW-ZBuoH",
        "colab_type": "code",
        "colab": {
          "base_uri": "https://localhost:8080/",
          "height": 558
        },
        "outputId": "69b2d60a-963f-4d3c-be88-fe6d43d50633"
      },
      "source": [
        "install.packages(\"imputeTS\")\n",
        "install.packages(\"mice\")\n",
        "install.packages(\"CatEncoders\")\n",
        "install.packages(\"missForest\")\n",
        "install.packages(\"finalfit\")\n",
        "install.packages(\"tidyverse\")\n",
        "\n",
        "\n"
      ],
      "execution_count": null,
      "outputs": [
        {
          "output_type": "stream",
          "text": [
            "Installing package into ‘/usr/local/lib/R/site-library’\n",
            "(as ‘lib’ is unspecified)\n",
            "\n",
            "also installing the dependencies ‘bitops’, ‘xts’, ‘TTR’, ‘RCurl’, ‘png’, ‘jpeg’, ‘quadprog’, ‘quantmod’, ‘gridtext’, ‘fracdiff’, ‘lmtest’, ‘timeDate’, ‘tseries’, ‘urca’, ‘zoo’, ‘RcppArmadillo’, ‘ggtext’, ‘stinepack’, ‘forecast’\n",
            "\n",
            "\n",
            "Installing package into ‘/usr/local/lib/R/site-library’\n",
            "(as ‘lib’ is unspecified)\n",
            "\n",
            "Installing package into ‘/usr/local/lib/R/site-library’\n",
            "(as ‘lib’ is unspecified)\n",
            "\n",
            "also installing the dependency ‘data.table’\n",
            "\n",
            "\n",
            "Installing package into ‘/usr/local/lib/R/site-library’\n",
            "(as ‘lib’ is unspecified)\n",
            "\n",
            "also installing the dependencies ‘iterators’, ‘randomForest’, ‘foreach’, ‘itertools’\n",
            "\n",
            "\n",
            "Installing package into ‘/usr/local/lib/R/site-library’\n",
            "(as ‘lib’ is unspecified)\n",
            "\n",
            "also installing the dependencies ‘plyr’, ‘reshape’, ‘minqa’, ‘nloptr’, ‘statmod’, ‘RcppEigen’, ‘bdsmatrix’, ‘GGally’, ‘gridExtra’, ‘lme4’, ‘pROC’\n",
            "\n",
            "\n",
            "Installing package into ‘/usr/local/lib/R/site-library’\n",
            "(as ‘lib’ is unspecified)\n",
            "\n"
          ],
          "name": "stderr"
        }
      ]
    },
    {
      "cell_type": "code",
      "metadata": {
        "id": "ehsrPEiPzlb7",
        "colab_type": "code",
        "colab": {
          "base_uri": "https://localhost:8080/",
          "height": 1000
        },
        "outputId": "ef7bd036-09ef-4c61-ee9b-3a10df623e68"
      },
      "source": [
        "library(CatEncoders)\n",
        "library(tidyverse)\n",
        "library(missForest) #gerar dados ausentes\n",
        "library(finalfit) #vizualização de dados ausentes\n",
        "library(mice) #pacote para imputação de dados\n"
      ],
      "execution_count": null,
      "outputs": [
        {
          "output_type": "stream",
          "text": [
            "\n",
            "Attaching package: ‘CatEncoders’\n",
            "\n",
            "\n",
            "The following object is masked from ‘package:base’:\n",
            "\n",
            "    transform\n",
            "\n",
            "\n",
            "── \u001b[1mAttaching packages\u001b[22m ─────────────────────────────────────── tidyverse 1.3.0 ──\n",
            "\n",
            "\u001b[32m✔\u001b[39m \u001b[34mggplot2\u001b[39m 3.3.2     \u001b[32m✔\u001b[39m \u001b[34mpurrr  \u001b[39m 0.3.4\n",
            "\u001b[32m✔\u001b[39m \u001b[34mtibble \u001b[39m 3.0.3     \u001b[32m✔\u001b[39m \u001b[34mdplyr  \u001b[39m 1.0.2\n",
            "\u001b[32m✔\u001b[39m \u001b[34mtidyr  \u001b[39m 1.1.1     \u001b[32m✔\u001b[39m \u001b[34mstringr\u001b[39m 1.4.0\n",
            "\u001b[32m✔\u001b[39m \u001b[34mreadr  \u001b[39m 1.3.1     \u001b[32m✔\u001b[39m \u001b[34mforcats\u001b[39m 0.5.0\n",
            "\n",
            "── \u001b[1mConflicts\u001b[22m ────────────────────────────────────────── tidyverse_conflicts() ──\n",
            "\u001b[31m✖\u001b[39m \u001b[34mdplyr\u001b[39m::\u001b[32mfilter()\u001b[39m masks \u001b[34mstats\u001b[39m::filter()\n",
            "\u001b[31m✖\u001b[39m \u001b[34mdplyr\u001b[39m::\u001b[32mlag()\u001b[39m    masks \u001b[34mstats\u001b[39m::lag()\n",
            "\n",
            "Loading required package: randomForest\n",
            "\n",
            "randomForest 4.6-14\n",
            "\n",
            "Type rfNews() to see new features/changes/bug fixes.\n",
            "\n",
            "\n",
            "Attaching package: ‘randomForest’\n",
            "\n",
            "\n",
            "The following object is masked from ‘package:dplyr’:\n",
            "\n",
            "    combine\n",
            "\n",
            "\n",
            "The following object is masked from ‘package:ggplot2’:\n",
            "\n",
            "    margin\n",
            "\n",
            "\n",
            "Loading required package: foreach\n",
            "\n",
            "\n",
            "Attaching package: ‘foreach’\n",
            "\n",
            "\n",
            "The following objects are masked from ‘package:purrr’:\n",
            "\n",
            "    accumulate, when\n",
            "\n",
            "\n",
            "Loading required package: itertools\n",
            "\n",
            "Loading required package: iterators\n",
            "\n",
            "\n",
            "Attaching package: ‘mice’\n",
            "\n",
            "\n",
            "The following objects are masked from ‘package:base’:\n",
            "\n",
            "    cbind, rbind\n",
            "\n",
            "\n"
          ],
          "name": "stderr"
        }
      ]
    },
    {
      "cell_type": "markdown",
      "metadata": {
        "id": "vbdqhZbgz_lA",
        "colab_type": "text"
      },
      "source": [
        "\n",
        "##<h1><b>1. Get Data </b></h1>\n",
        "\n",
        "Download e leitura dos dados \n"
      ]
    },
    {
      "cell_type": "code",
      "metadata": {
        "id": "o9KNLBte8d9a",
        "colab_type": "code",
        "colab": {
          "base_uri": "https://localhost:8080/",
          "height": 227
        },
        "outputId": "b1a36762-3ca0-49ee-a93a-ef32ddec63ac"
      },
      "source": [
        "temp <- tempfile()\n",
        "download.file(\"https://github.com/Mauricio-Sousa-Araujo/Aprendizado_Estatistico/raw/master/housing.zip\",temp)\n",
        "data <- read.csv(unz(temp, \"housing.csv\"))\n",
        "unlink(temp)\n",
        "head(data)"
      ],
      "execution_count": null,
      "outputs": [
        {
          "output_type": "display_data",
          "data": {
            "text/plain": [
              "  longitude latitude housing_median_age total_rooms total_bedrooms population\n",
              "1 -122.23   37.88    41                  880         129            322      \n",
              "2 -122.22   37.86    21                 7099        1106           2401      \n",
              "3 -122.24   37.85    52                 1467         190            496      \n",
              "4 -122.25   37.85    52                 1274         235            558      \n",
              "5 -122.25   37.85    52                 1627         280            565      \n",
              "6 -122.25   37.85    52                  919         213            413      \n",
              "  households median_income median_house_value ocean_proximity\n",
              "1  126       8.3252        452600             NEAR BAY       \n",
              "2 1138       8.3014        358500             NEAR BAY       \n",
              "3  177       7.2574        352100             NEAR BAY       \n",
              "4  219       5.6431        341300             NEAR BAY       \n",
              "5  259       3.8462        342200             NEAR BAY       \n",
              "6  193       4.0368        269700             NEAR BAY       "
            ],
            "text/latex": "A data.frame: 6 × 10\n\\begin{tabular}{r|llllllllll}\n  & longitude & latitude & housing\\_median\\_age & total\\_rooms & total\\_bedrooms & population & households & median\\_income & median\\_house\\_value & ocean\\_proximity\\\\\n  & <dbl> & <dbl> & <dbl> & <dbl> & <dbl> & <dbl> & <dbl> & <dbl> & <dbl> & <fct>\\\\\n\\hline\n\t1 & -122.23 & 37.88 & 41 &  880 &  129 &  322 &  126 & 8.3252 & 452600 & NEAR BAY\\\\\n\t2 & -122.22 & 37.86 & 21 & 7099 & 1106 & 2401 & 1138 & 8.3014 & 358500 & NEAR BAY\\\\\n\t3 & -122.24 & 37.85 & 52 & 1467 &  190 &  496 &  177 & 7.2574 & 352100 & NEAR BAY\\\\\n\t4 & -122.25 & 37.85 & 52 & 1274 &  235 &  558 &  219 & 5.6431 & 341300 & NEAR BAY\\\\\n\t5 & -122.25 & 37.85 & 52 & 1627 &  280 &  565 &  259 & 3.8462 & 342200 & NEAR BAY\\\\\n\t6 & -122.25 & 37.85 & 52 &  919 &  213 &  413 &  193 & 4.0368 & 269700 & NEAR BAY\\\\\n\\end{tabular}\n",
            "text/markdown": "\nA data.frame: 6 × 10\n\n| <!--/--> | longitude &lt;dbl&gt; | latitude &lt;dbl&gt; | housing_median_age &lt;dbl&gt; | total_rooms &lt;dbl&gt; | total_bedrooms &lt;dbl&gt; | population &lt;dbl&gt; | households &lt;dbl&gt; | median_income &lt;dbl&gt; | median_house_value &lt;dbl&gt; | ocean_proximity &lt;fct&gt; |\n|---|---|---|---|---|---|---|---|---|---|---|\n| 1 | -122.23 | 37.88 | 41 |  880 |  129 |  322 |  126 | 8.3252 | 452600 | NEAR BAY |\n| 2 | -122.22 | 37.86 | 21 | 7099 | 1106 | 2401 | 1138 | 8.3014 | 358500 | NEAR BAY |\n| 3 | -122.24 | 37.85 | 52 | 1467 |  190 |  496 |  177 | 7.2574 | 352100 | NEAR BAY |\n| 4 | -122.25 | 37.85 | 52 | 1274 |  235 |  558 |  219 | 5.6431 | 341300 | NEAR BAY |\n| 5 | -122.25 | 37.85 | 52 | 1627 |  280 |  565 |  259 | 3.8462 | 342200 | NEAR BAY |\n| 6 | -122.25 | 37.85 | 52 |  919 |  213 |  413 |  193 | 4.0368 | 269700 | NEAR BAY |\n\n",
            "text/html": [
              "<table>\n",
              "<caption>A data.frame: 6 × 10</caption>\n",
              "<thead>\n",
              "\t<tr><th></th><th scope=col>longitude</th><th scope=col>latitude</th><th scope=col>housing_median_age</th><th scope=col>total_rooms</th><th scope=col>total_bedrooms</th><th scope=col>population</th><th scope=col>households</th><th scope=col>median_income</th><th scope=col>median_house_value</th><th scope=col>ocean_proximity</th></tr>\n",
              "\t<tr><th></th><th scope=col>&lt;dbl&gt;</th><th scope=col>&lt;dbl&gt;</th><th scope=col>&lt;dbl&gt;</th><th scope=col>&lt;dbl&gt;</th><th scope=col>&lt;dbl&gt;</th><th scope=col>&lt;dbl&gt;</th><th scope=col>&lt;dbl&gt;</th><th scope=col>&lt;dbl&gt;</th><th scope=col>&lt;dbl&gt;</th><th scope=col>&lt;fct&gt;</th></tr>\n",
              "</thead>\n",
              "<tbody>\n",
              "\t<tr><th scope=row>1</th><td>-122.23</td><td>37.88</td><td>41</td><td> 880</td><td> 129</td><td> 322</td><td> 126</td><td>8.3252</td><td>452600</td><td>NEAR BAY</td></tr>\n",
              "\t<tr><th scope=row>2</th><td>-122.22</td><td>37.86</td><td>21</td><td>7099</td><td>1106</td><td>2401</td><td>1138</td><td>8.3014</td><td>358500</td><td>NEAR BAY</td></tr>\n",
              "\t<tr><th scope=row>3</th><td>-122.24</td><td>37.85</td><td>52</td><td>1467</td><td> 190</td><td> 496</td><td> 177</td><td>7.2574</td><td>352100</td><td>NEAR BAY</td></tr>\n",
              "\t<tr><th scope=row>4</th><td>-122.25</td><td>37.85</td><td>52</td><td>1274</td><td> 235</td><td> 558</td><td> 219</td><td>5.6431</td><td>341300</td><td>NEAR BAY</td></tr>\n",
              "\t<tr><th scope=row>5</th><td>-122.25</td><td>37.85</td><td>52</td><td>1627</td><td> 280</td><td> 565</td><td> 259</td><td>3.8462</td><td>342200</td><td>NEAR BAY</td></tr>\n",
              "\t<tr><th scope=row>6</th><td>-122.25</td><td>37.85</td><td>52</td><td> 919</td><td> 213</td><td> 413</td><td> 193</td><td>4.0368</td><td>269700</td><td>NEAR BAY</td></tr>\n",
              "</tbody>\n",
              "</table>\n"
            ]
          },
          "metadata": {
            "tags": []
          }
        }
      ]
    },
    {
      "cell_type": "markdown",
      "metadata": {
        "id": "goXmGTdM0c8L",
        "colab_type": "text"
      },
      "source": [
        "Vemos abaixo que o dataset possui 10 colunas(features) e um total de 19852 instâncias. Note também que o atributo total_bedrooms possui 196 instâncias não preenchidas(null). \n"
      ]
    },
    {
      "cell_type": "code",
      "metadata": {
        "id": "1u4sva2t0bKY",
        "colab_type": "code",
        "colab": {
          "base_uri": "https://localhost:8080/",
          "height": 434
        },
        "outputId": "9f7995f8-2bda-4322-c922-7ffc085b1175"
      },
      "source": [
        "summary(data)\n"
      ],
      "execution_count": null,
      "outputs": [
        {
          "output_type": "display_data",
          "data": {
            "text/plain": [
              "   longitude         latitude     housing_median_age  total_rooms   \n",
              " Min.   :-124.3   Min.   :32.54   Min.   : 1.00      Min.   :    2  \n",
              " 1st Qu.:-121.8   1st Qu.:33.92   1st Qu.:18.00      1st Qu.: 1447  \n",
              " Median :-118.4   Median :34.22   Median :29.00      Median : 2124  \n",
              " Mean   :-119.6   Mean   :35.62   Mean   :28.85      Mean   : 2631  \n",
              " 3rd Qu.:-118.0   3rd Qu.:37.72   3rd Qu.:37.00      3rd Qu.: 3136  \n",
              " Max.   :-114.3   Max.   :41.95   Max.   :52.00      Max.   :39320  \n",
              "                                                                    \n",
              " total_bedrooms     population      households     median_income    \n",
              " Min.   :   1.0   Min.   :    3   Min.   :   1.0   Min.   : 0.4999  \n",
              " 1st Qu.: 296.0   1st Qu.:  787   1st Qu.: 280.0   1st Qu.: 2.5685  \n",
              " Median : 435.0   Median : 1164   Median : 409.0   Median : 3.5432  \n",
              " Mean   : 538.3   Mean   : 1423   Mean   : 499.9   Mean   : 3.8779  \n",
              " 3rd Qu.: 647.0   3rd Qu.: 1721   3rd Qu.: 604.0   3rd Qu.: 4.7447  \n",
              " Max.   :6445.0   Max.   :35682   Max.   :6082.0   Max.   :15.0001  \n",
              " NA's   :196                                                        \n",
              " median_house_value   ocean_proximity\n",
              " Min.   :     5               :   1  \n",
              " 1st Qu.:121500     <1H OCEAN :8925  \n",
              " Median :180250     INLAND    :6146  \n",
              " Mean   :208157     ISLAND    :   5  \n",
              " 3rd Qu.:266400     NEAR BAY  :2290  \n",
              " Max.   :500001     NEAR OCEAN:2485  \n",
              "                                     "
            ]
          },
          "metadata": {
            "tags": []
          }
        }
      ]
    },
    {
      "cell_type": "markdown",
      "metadata": {
        "id": "35ZqBwGPGL9L",
        "colab_type": "text"
      },
      "source": [
        "##<h1><b>2. Criando os conjuntos de Test, Training e Validation.     </b></h1>\n"
      ]
    },
    {
      "cell_type": "code",
      "metadata": {
        "id": "iDqKUJDl-PFM",
        "colab_type": "code",
        "colab": {}
      },
      "source": [
        "split_data = function (data,porcentagem,semente) {\n",
        "    set.seed(semente)\n",
        "    smp_size <- floor(porcentagem* nrow(data))    \n",
        "    indices =  sample( seq_len(nrow(data)), size = smp_size )\n",
        "    return ( list(data[indices, ],data[-indices,]) )\n",
        "}"
      ],
      "execution_count": null,
      "outputs": []
    },
    {
      "cell_type": "code",
      "metadata": {
        "id": "Hc9lN5wr-7MV",
        "colab_type": "code",
        "colab": {
          "base_uri": "https://localhost:8080/",
          "height": 69
        },
        "outputId": "dab23a59-8119-4165-9be3-ad594937f6a7"
      },
      "source": [
        "data_aux   <- split_data ( data , 0.85 ,1) \n",
        "data_train <- as.data.frame(data_aux[1])\n",
        "data_test  <- as.data.frame(data_aux[2])\n",
        "\n",
        "data_aux   <- split_data ( data , 0.80 ,2) \n",
        "data_train <- as.data.frame(data_aux[1])\n",
        "data_val  <- as.data.frame(data_aux[2])\n",
        "\n",
        "cat(\"Data Training possui : \", nrow(data_train),\"instâncias\\n\")\n",
        "cat(\"Data Validation possui : \", nrow(data_val),\"instâncias\\n\")\n",
        "cat(\"Data Test possui : \", nrow(data_test),\"instâncias\\n\")\n"
      ],
      "execution_count": null,
      "outputs": [
        {
          "output_type": "stream",
          "text": [
            "Data Training possui :  15881 instâncias\n",
            "Data Validation possui :  3971 instâncias\n",
            "Data Test possui :  2978 instâncias\n"
          ],
          "name": "stdout"
        }
      ]
    },
    {
      "cell_type": "markdown",
      "metadata": {
        "id": "QEgtnvu1XTuU",
        "colab_type": "text"
      },
      "source": [
        "##<h1><b>3. Discover and Visualize the Data to Gain Insights</b></h1>\n",
        "\n",
        "\n"
      ]
    },
    {
      "cell_type": "code",
      "metadata": {
        "id": "S5CSzDXIMMiw",
        "colab_type": "code",
        "colab": {
          "base_uri": "https://localhost:8080/",
          "height": 437
        },
        "outputId": "6f347be1-02ab-497e-cf11-f50ff4225e0d"
      },
      "source": [
        "hist(data$longitude)"
      ],
      "execution_count": null,
      "outputs": [
        {
          "output_type": "display_data",
          "data": {
            "image/png": "[encoded data removed]",
            "text/plain": [
              "Plot with title “Histogram of data$longitude”"
            ]
          },
          "metadata": {
            "tags": [],
            "image/png": {
              "width": 420,
              "height": 420
            }
          }
        }
      ]
    },
    {
      "cell_type": "code",
      "metadata": {
        "id": "1BnNviiBOuVN",
        "colab_type": "code",
        "colab": {}
      },
      "source": [
        ""
      ],
      "execution_count": null,
      "outputs": []
    },
    {
      "cell_type": "code",
      "metadata": {
        "id": "yHKfScJ-DYIv",
        "colab_type": "code",
        "colab": {
          "base_uri": "https://localhost:8080/",
          "height": 270
        },
        "outputId": "c48e19a5-ebff-41ab-9f1a-56612fa31db7"
      },
      "source": [
        "data_aux <- data\n",
        "data_aux$ocean_proximity <- NULL\n",
        "cor(data_aux, method = c(\"pearson\"))"
      ],
      "execution_count": null,
      "outputs": [
        {
          "output_type": "display_data",
          "data": {
            "text/plain": [
              "                   longitude   latitude    housing_median_age total_rooms\n",
              "longitude           1.00000000 -0.92743812 -0.10941870         0.04459889\n",
              "latitude           -0.92743812  1.00000000  0.01246308        -0.03249653\n",
              "housing_median_age -0.10941870  0.01246308  1.00000000        -0.36377647\n",
              "total_rooms         0.04459889 -0.03249653 -0.36377647         1.00000000\n",
              "total_bedrooms              NA          NA          NA                 NA\n",
              "population          0.10127788 -0.10718003 -0.29883533         0.85645448\n",
              "households          0.05650267 -0.06931712 -0.30612559         0.91801454\n",
              "median_income      -0.02179868 -0.06704458 -0.11704840         0.19588610\n",
              "median_house_value -0.05325806 -0.12998634  0.10821481         0.12918318\n",
              "                   total_bedrooms population   households   median_income\n",
              "longitude          NA              0.101277884  0.056502671 -0.021798676 \n",
              "latitude           NA             -0.107180029 -0.069317117 -0.067044576 \n",
              "housing_median_age NA             -0.298835326 -0.306125586 -0.117048396 \n",
              "total_rooms        NA              0.856454483  0.918014541  0.195886096 \n",
              "total_bedrooms      1                       NA           NA           NA \n",
              "population         NA              1.000000000  0.906580344  0.001113295 \n",
              "households         NA              0.906580344  1.000000000  0.009657114 \n",
              "median_income      NA              0.001113295  0.009657114  1.000000000 \n",
              "median_house_value NA             -0.030974177  0.061488808  0.685938896 \n",
              "                   median_house_value\n",
              "longitude          -0.05325806       \n",
              "latitude           -0.12998634       \n",
              "housing_median_age  0.10821481       \n",
              "total_rooms         0.12918318       \n",
              "total_bedrooms              NA       \n",
              "population         -0.03097418       \n",
              "households          0.06148881       \n",
              "median_income       0.68593890       \n",
              "median_house_value  1.00000000       "
            ],
            "text/latex": "A matrix: 9 × 9 of type dbl\n\\begin{tabular}{r|lllllllll}\n  & longitude & latitude & housing\\_median\\_age & total\\_rooms & total\\_bedrooms & population & households & median\\_income & median\\_house\\_value\\\\\n\\hline\n\tlongitude &  1.00000000 & -0.92743812 & -0.10941870 &  0.04459889 & NA &  0.101277884 &  0.056502671 & -0.021798676 & -0.05325806\\\\\n\tlatitude & -0.92743812 &  1.00000000 &  0.01246308 & -0.03249653 & NA & -0.107180029 & -0.069317117 & -0.067044576 & -0.12998634\\\\\n\thousing\\_median\\_age & -0.10941870 &  0.01246308 &  1.00000000 & -0.36377647 & NA & -0.298835326 & -0.306125586 & -0.117048396 &  0.10821481\\\\\n\ttotal\\_rooms &  0.04459889 & -0.03249653 & -0.36377647 &  1.00000000 & NA &  0.856454483 &  0.918014541 &  0.195886096 &  0.12918318\\\\\n\ttotal\\_bedrooms &          NA &          NA &          NA &          NA &  1 &           NA &           NA &           NA &          NA\\\\\n\tpopulation &  0.10127788 & -0.10718003 & -0.29883533 &  0.85645448 & NA &  1.000000000 &  0.906580344 &  0.001113295 & -0.03097418\\\\\n\thouseholds &  0.05650267 & -0.06931712 & -0.30612559 &  0.91801454 & NA &  0.906580344 &  1.000000000 &  0.009657114 &  0.06148881\\\\\n\tmedian\\_income & -0.02179868 & -0.06704458 & -0.11704840 &  0.19588610 & NA &  0.001113295 &  0.009657114 &  1.000000000 &  0.68593890\\\\\n\tmedian\\_house\\_value & -0.05325806 & -0.12998634 &  0.10821481 &  0.12918318 & NA & -0.030974177 &  0.061488808 &  0.685938896 &  1.00000000\\\\\n\\end{tabular}\n",
            "text/markdown": "\nA matrix: 9 × 9 of type dbl\n\n| <!--/--> | longitude | latitude | housing_median_age | total_rooms | total_bedrooms | population | households | median_income | median_house_value |\n|---|---|---|---|---|---|---|---|---|---|\n| longitude |  1.00000000 | -0.92743812 | -0.10941870 |  0.04459889 | NA |  0.101277884 |  0.056502671 | -0.021798676 | -0.05325806 |\n| latitude | -0.92743812 |  1.00000000 |  0.01246308 | -0.03249653 | NA | -0.107180029 | -0.069317117 | -0.067044576 | -0.12998634 |\n| housing_median_age | -0.10941870 |  0.01246308 |  1.00000000 | -0.36377647 | NA | -0.298835326 | -0.306125586 | -0.117048396 |  0.10821481 |\n| total_rooms |  0.04459889 | -0.03249653 | -0.36377647 |  1.00000000 | NA |  0.856454483 |  0.918014541 |  0.195886096 |  0.12918318 |\n| total_bedrooms |          NA |          NA |          NA |          NA |  1 |           NA |           NA |           NA |          NA |\n| population |  0.10127788 | -0.10718003 | -0.29883533 |  0.85645448 | NA |  1.000000000 |  0.906580344 |  0.001113295 | -0.03097418 |\n| households |  0.05650267 | -0.06931712 | -0.30612559 |  0.91801454 | NA |  0.906580344 |  1.000000000 |  0.009657114 |  0.06148881 |\n| median_income | -0.02179868 | -0.06704458 | -0.11704840 |  0.19588610 | NA |  0.001113295 |  0.009657114 |  1.000000000 |  0.68593890 |\n| median_house_value | -0.05325806 | -0.12998634 |  0.10821481 |  0.12918318 | NA | -0.030974177 |  0.061488808 |  0.685938896 |  1.00000000 |\n\n",
            "text/html": [
              "<table>\n",
              "<caption>A matrix: 9 × 9 of type dbl</caption>\n",
              "<thead>\n",
              "\t<tr><th></th><th scope=col>longitude</th><th scope=col>latitude</th><th scope=col>housing_median_age</th><th scope=col>total_rooms</th><th scope=col>total_bedrooms</th><th scope=col>population</th><th scope=col>households</th><th scope=col>median_income</th><th scope=col>median_house_value</th></tr>\n",
              "</thead>\n",
              "<tbody>\n",
              "\t<tr><th scope=row>longitude</th><td> 1.00000000</td><td>-0.92743812</td><td>-0.10941870</td><td> 0.04459889</td><td>NA</td><td> 0.101277884</td><td> 0.056502671</td><td>-0.021798676</td><td>-0.05325806</td></tr>\n",
              "\t<tr><th scope=row>latitude</th><td>-0.92743812</td><td> 1.00000000</td><td> 0.01246308</td><td>-0.03249653</td><td>NA</td><td>-0.107180029</td><td>-0.069317117</td><td>-0.067044576</td><td>-0.12998634</td></tr>\n",
              "\t<tr><th scope=row>housing_median_age</th><td>-0.10941870</td><td> 0.01246308</td><td> 1.00000000</td><td>-0.36377647</td><td>NA</td><td>-0.298835326</td><td>-0.306125586</td><td>-0.117048396</td><td> 0.10821481</td></tr>\n",
              "\t<tr><th scope=row>total_rooms</th><td> 0.04459889</td><td>-0.03249653</td><td>-0.36377647</td><td> 1.00000000</td><td>NA</td><td> 0.856454483</td><td> 0.918014541</td><td> 0.195886096</td><td> 0.12918318</td></tr>\n",
              "\t<tr><th scope=row>total_bedrooms</th><td>         NA</td><td>         NA</td><td>         NA</td><td>         NA</td><td> 1</td><td>          NA</td><td>          NA</td><td>          NA</td><td>         NA</td></tr>\n",
              "\t<tr><th scope=row>population</th><td> 0.10127788</td><td>-0.10718003</td><td>-0.29883533</td><td> 0.85645448</td><td>NA</td><td> 1.000000000</td><td> 0.906580344</td><td> 0.001113295</td><td>-0.03097418</td></tr>\n",
              "\t<tr><th scope=row>households</th><td> 0.05650267</td><td>-0.06931712</td><td>-0.30612559</td><td> 0.91801454</td><td>NA</td><td> 0.906580344</td><td> 1.000000000</td><td> 0.009657114</td><td> 0.06148881</td></tr>\n",
              "\t<tr><th scope=row>median_income</th><td>-0.02179868</td><td>-0.06704458</td><td>-0.11704840</td><td> 0.19588610</td><td>NA</td><td> 0.001113295</td><td> 0.009657114</td><td> 1.000000000</td><td> 0.68593890</td></tr>\n",
              "\t<tr><th scope=row>median_house_value</th><td>-0.05325806</td><td>-0.12998634</td><td> 0.10821481</td><td> 0.12918318</td><td>NA</td><td>-0.030974177</td><td> 0.061488808</td><td> 0.685938896</td><td> 1.00000000</td></tr>\n",
              "</tbody>\n",
              "</table>\n"
            ]
          },
          "metadata": {
            "tags": []
          }
        }
      ]
    },
    {
      "cell_type": "markdown",
      "metadata": {
        "id": "OLcPkDzbrXF1",
        "colab_type": "text"
      },
      "source": [
        "##<h1><b>4. Prepare the Data for Machine Learning Algorithms </b></h1>\n",
        "Como supracitado, existem instâncias que não estão completamente preenchidas, então necessitamos tratar esses casos para que possamos dar como input para Machine Learning Algorithms(em sua grande maioria não trabalham com datasets com lacunas).\n",
        "\n",
        "Podemos tratar esse problema com as seguintes abordagens:\n",
        "1.   Livrar-se das instâncias que não estão completamente preenchidas.\n",
        "2.   Livrar-se de toda a feature.\n",
        "3.   Definir os valores que faltam para algum valor.No geral, temos dois tipos de abordagens:\n",
        "  1.   Univariate Imputation: Nessa primeira abordagem, substituimos todos as lacunas de um atributo com simples valor, como a média, mediana ,zero etc.\n",
        "  2.   Multivariate Imputation : Já nessa abordagem nós utilizamos o próprio dataset(as outras features) para estimar as lacunas.\n",
        "  \n",
        "Geralmente a abordagem mais utilizada é a 3, pois nas outras há perca de dados e para alguns problemas, os dados são escassos e valiosos.\n",
        "\n",
        "\n",
        "\n",
        "\n",
        "\n",
        "\n",
        "\n",
        "\n"
      ]
    },
    {
      "cell_type": "code",
      "metadata": {
        "id": "x_LGK8Q7zD_G",
        "colab_type": "code",
        "colab": {
          "base_uri": "https://localhost:8080/",
          "height": 34
        },
        "outputId": "aa435dd7-3932-4b96-8e8e-6b208c062bb1"
      },
      "source": [
        "sum(is.na(data_train))"
      ],
      "execution_count": null,
      "outputs": [
        {
          "output_type": "display_data",
          "data": {
            "text/plain": [
              "[1] 158"
            ],
            "text/latex": "158",
            "text/markdown": "158",
            "text/html": [
              "158"
            ]
          },
          "metadata": {
            "tags": []
          }
        }
      ]
    },
    {
      "cell_type": "code",
      "metadata": {
        "id": "0tdG31zkrVd1",
        "colab_type": "code",
        "colab": {}
      },
      "source": [
        "#Exemplo simples\n",
        "# Primeira opção\n",
        "data_1 <- na.omit(data_train)\n",
        "\n",
        "# Segunda opção\n",
        "data_2 <- data_train\n",
        "data_2$total_bedrooms <- NULL\n",
        "\n",
        "#Terceira Opção\n",
        "data_3 <- na_mean(data_train, option = \"mean\")   # Mean Imputation  \n"
      ],
      "execution_count": null,
      "outputs": []
    },
    {
      "cell_type": "code",
      "metadata": {
        "id": "N9bW1nQws-af",
        "colab_type": "code",
        "colab": {
          "base_uri": "https://localhost:8080/",
          "height": 225
        },
        "outputId": "73c43edc-e1c7-4a1d-dfe3-52552ceff067"
      },
      "source": [
        "#Multivariate Imputation MICE\n"
      ],
      "execution_count": null,
      "outputs": [
        {
          "output_type": "stream",
          "text": [
            "Rows: 19,852\n",
            "Columns: 10\n",
            "$ longitude          \u001b[3m\u001b[90m<dbl>\u001b[39m\u001b[23m -122.23, -122.22, -122.24, -122.25, -122.25, -122.…\n",
            "$ latitude           \u001b[3m\u001b[90m<dbl>\u001b[39m\u001b[23m 37.88, 37.86, 37.85, 37.85, 37.85, 37.85, 37.84, 3…\n",
            "$ housing_median_age \u001b[3m\u001b[90m<dbl>\u001b[39m\u001b[23m 41, 21, 52, 52, 52, 52, 52, 52, 42, 52, 52, 52, 52…\n",
            "$ total_rooms        \u001b[3m\u001b[90m<dbl>\u001b[39m\u001b[23m 880, 7099, 1467, 1274, 1627, 919, 2535, 3104, 2555…\n",
            "$ total_bedrooms     \u001b[3m\u001b[90m<dbl>\u001b[39m\u001b[23m 129, 1106, 190, 235, 280, 213, 489, 687, 665, 707,…\n",
            "$ population         \u001b[3m\u001b[90m<dbl>\u001b[39m\u001b[23m 322, 2401, 496, 558, 565, 413, 1094, 1157, 1206, 1…\n",
            "$ households         \u001b[3m\u001b[90m<dbl>\u001b[39m\u001b[23m 126, 1138, 177, 219, 259, 193, 514, 647, 595, 714,…\n",
            "$ median_income      \u001b[3m\u001b[90m<dbl>\u001b[39m\u001b[23m 8.3252, 8.3014, 7.2574, 5.6431, 3.8462, 4.0368, 3.…\n",
            "$ median_house_value \u001b[3m\u001b[90m<dbl>\u001b[39m\u001b[23m 452600, 358500, 352100, 341300, 342200, 269700, 29…\n",
            "$ ocean_proximity    \u001b[3m\u001b[90m<fct>\u001b[39m\u001b[23m NEAR BAY, NEAR BAY, NEAR BAY, NEAR BAY, NEAR BAY, …\n"
          ],
          "name": "stdout"
        }
      ]
    },
    {
      "cell_type": "markdown",
      "metadata": {
        "id": "95RnHQfQs86G",
        "colab_type": "text"
      },
      "source": [
        "###<h2><b>4.1 Lidando com variáveis do tipo string(texto)</b></h2>\n",
        "\n"
      ]
    },
    {
      "cell_type": "markdown",
      "metadata": {
        "id": "xkRn3J-ptC-q",
        "colab_type": "text"
      },
      "source": [
        "<h3><b>Label Encoder</b></h3>\n",
        "Label Encoder consiste basicamente em transformar cada string em um número correspondente. Por exemplo,  suponha que tenhamos os seguintes dados \n",
        "data=[\"cachorro\",\"gato\",\"cachorro\",\"cobra\"]. Se aplicassemos tal abordagem, poderiamos ter o seguinte resultado: data_labeled = [1,2,1,3], ou seja, cachorro receberia o número 1, gato o número 2 e cobra 3. Temos que a biblioteca sklear também faz esse trabalho, como abaixo:"
      ]
    },
    {
      "cell_type": "code",
      "metadata": {
        "id": "5JqyY4PHRYn-",
        "colab_type": "code",
        "colab": {}
      },
      "source": [
        "le <- LabelEncoder.fit(data_train$ocean_proximity)\n",
        "data_train$ocean_proximity <-transform(le,data_train$ocean_proximity)\n"
      ],
      "execution_count": null,
      "outputs": []
    },
    {
      "cell_type": "code",
      "metadata": {
        "id": "hM2YoWEDUMqM",
        "colab_type": "code",
        "colab": {
          "base_uri": "https://localhost:8080/",
          "height": 34
        },
        "outputId": "c54473b4-8558-4add-cd96-23c7baa92948"
      },
      "source": [
        "data_train$m"
      ],
      "execution_count": null,
      "outputs": [
        {
          "output_type": "display_data",
          "data": {
            "text/plain": [
              "NULL"
            ]
          },
          "metadata": {
            "tags": []
          }
        }
      ]
    },
    {
      "cell_type": "code",
      "metadata": {
        "id": "Go2Tn-2aBgGG",
        "colab_type": "code",
        "colab": {
          "base_uri": "https://localhost:8080/",
          "height": 98
        },
        "outputId": "78b5bbdc-e1b6-487c-df23-699987f22836"
      },
      "source": [
        "imp <- mice(data_train, method = \"norm.predict\", m = 1)\n",
        "\n",
        "# Store data\n",
        "#data_imp <- complete(imp)\n",
        "#imp      <- mice(mydata, m = 5)"
      ],
      "execution_count": null,
      "outputs": [
        {
          "output_type": "error",
          "ename": "ERROR",
          "evalue": "ignored",
          "traceback": [
            "Error in mice(data_train, method = \"norm.predict\", m = 1): could not find function \"mice\"\nTraceback:\n"
          ]
        }
      ]
    },
    {
      "cell_type": "code",
      "metadata": {
        "id": "cU77lIVLOkB-",
        "colab_type": "code",
        "colab": {
          "base_uri": "https://localhost:8080/",
          "height": 486
        },
        "outputId": "323be6fa-5134-42a8-8f94-ee6b1ef9ea40"
      },
      "source": [
        "data_aux <-data_train\n",
        "data_aux$ocean_proximity <- NULL\n",
        "tempData <- mice(data_aux,m=5,maxit=5,meth='pmm',seed=500)"
      ],
      "execution_count": null,
      "outputs": [
        {
          "output_type": "stream",
          "text": [
            "\n",
            " iter imp variable\n",
            "  1   1  total_bedrooms\n",
            "  1   2  total_bedrooms\n",
            "  1   3  total_bedrooms\n",
            "  1   4  total_bedrooms\n",
            "  1   5  total_bedrooms\n",
            "  2   1  total_bedrooms\n",
            "  2   2  total_bedrooms\n",
            "  2   3  total_bedrooms\n",
            "  2   4  total_bedrooms\n",
            "  2   5  total_bedrooms\n",
            "  3   1  total_bedrooms\n",
            "  3   2  total_bedrooms\n",
            "  3   3  total_bedrooms\n",
            "  3   4  total_bedrooms\n",
            "  3   5  total_bedrooms\n",
            "  4   1  total_bedrooms\n",
            "  4   2  total_bedrooms\n",
            "  4   3  total_bedrooms\n",
            "  4   4  total_bedrooms\n",
            "  4   5  total_bedrooms\n",
            "  5   1  total_bedrooms\n",
            "  5   2  total_bedrooms\n",
            "  5   3  total_bedrooms\n",
            "  5   4  total_bedrooms\n",
            "  5   5  total_bedrooms\n"
          ],
          "name": "stdout"
        }
      ]
    },
    {
      "cell_type": "code",
      "metadata": {
        "id": "62iCs3RTDhh8",
        "colab_type": "code",
        "colab": {
          "base_uri": "https://localhost:8080/",
          "height": 555
        },
        "outputId": "ca2ddaf0-c43f-4192-aa37-2d42070b6ea6"
      },
      "source": [
        "tempData\n"
      ],
      "execution_count": null,
      "outputs": [
        {
          "output_type": "display_data",
          "data": {
            "text/plain": [
              "Class: mids\n",
              "Number of multiple imputations:  5 \n",
              "Imputation methods:\n",
              "         longitude           latitude housing_median_age        total_rooms \n",
              "                \"\"                 \"\"                 \"\"                 \"\" \n",
              "    total_bedrooms         population         households      median_income \n",
              "             \"pmm\"                 \"\"                 \"\"                 \"\" \n",
              "median_house_value \n",
              "                \"\" \n",
              "PredictorMatrix:\n",
              "                   longitude latitude housing_median_age total_rooms\n",
              "longitude                  0        1                  1           1\n",
              "latitude                   1        0                  1           1\n",
              "housing_median_age         1        1                  0           1\n",
              "total_rooms                1        1                  1           0\n",
              "total_bedrooms             1        1                  1           1\n",
              "population                 1        1                  1           1\n",
              "                   total_bedrooms population households median_income\n",
              "longitude                       1          1          1             1\n",
              "latitude                        1          1          1             1\n",
              "housing_median_age              1          1          1             1\n",
              "total_rooms                     1          1          1             1\n",
              "total_bedrooms                  0          1          1             1\n",
              "population                      1          0          1             1\n",
              "                   median_house_value\n",
              "longitude                           1\n",
              "latitude                            1\n",
              "housing_median_age                  1\n",
              "total_rooms                         1\n",
              "total_bedrooms                      1\n",
              "population                          1"
            ]
          },
          "metadata": {
            "tags": []
          }
        }
      ]
    },
    {
      "cell_type": "code",
      "metadata": {
        "id": "C9AX9te8fcKK",
        "colab_type": "code",
        "colab": {
          "base_uri": "https://localhost:8080/",
          "height": 98
        },
        "outputId": "a3bb9627-378a-40de-d689-c3c388cd1209"
      },
      "source": [
        "meth = init$method\n",
        "meth[c(5:17)]=\"cart\" #Árvores de classificação e regressão"
      ],
      "execution_count": null,
      "outputs": [
        {
          "output_type": "error",
          "ename": "ERROR",
          "evalue": "ignored",
          "traceback": [
            "Error in eval(expr, envir, enclos): object 'init' not found\nTraceback:\n"
          ]
        }
      ]
    },
    {
      "cell_type": "code",
      "metadata": {
        "id": "HQprsacOIkLS",
        "colab_type": "code",
        "colab": {
          "base_uri": "https://localhost:8080/",
          "height": 150
        },
        "outputId": "24eee72e-6e82-43b2-fc60-f1ecd4f895d8"
      },
      "source": [
        "imp= data_train \n",
        "imp<-cor(data_aux, method = c(\"pearson\"))\n",
        "\n",
        "init = mice(data=imp, maxit = 0)\n",
        "meth = init$method\n",
        "predM = init$predictorMatrix"
      ],
      "execution_count": null,
      "outputs": [
        {
          "output_type": "error",
          "ename": "ERROR",
          "evalue": "ignored",
          "traceback": [
            "Error in cor(data_aux, method = c(\"pearson\")): supply both 'x' and 'y' or a matrix-like 'x'\nTraceback:\n",
            "1. cor(data_aux, method = c(\"pearson\"))",
            "2. stop(\"supply both 'x' and 'y' or a matrix-like 'x'\")"
          ]
        }
      ]
    },
    {
      "cell_type": "code",
      "metadata": {
        "id": "9GzSkmhSeRNK",
        "colab_type": "code",
        "colab": {}
      },
      "source": [
        "imp <- data_train\n",
        "\n",
        "init <- mice(data=imp, maxit = 0)\n",
        "meth <- init$method\n",
        "predM <- init$predictorMatrix"
      ],
      "execution_count": null,
      "outputs": []
    },
    {
      "cell_type": "code",
      "metadata": {
        "id": "VzHDpUroejT7",
        "colab_type": "code",
        "colab": {
          "base_uri": "https://localhost:8080/",
          "height": 52
        },
        "outputId": "61d70bdf-ee0e-4d81-8f7b-0e87b4285aad"
      },
      "source": [
        "meth"
      ],
      "execution_count": null,
      "outputs": [
        {
          "output_type": "display_data",
          "data": {
            "text/plain": [
              "         longitude           latitude housing_median_age        total_rooms \n",
              "                \"\"                 \"\"                 \"\"                 \"\" \n",
              "    total_bedrooms         population         households      median_income \n",
              "             \"pmm\"                 \"\"                 \"\"                 \"\" \n",
              "median_house_value    ocean_proximity \n",
              "                \"\"                 \"\" "
            ],
            "text/latex": "\\begin{description*}\n\\item[longitude] ''\n\\item[latitude] ''\n\\item[housing\\textbackslash{}\\_median\\textbackslash{}\\_age] ''\n\\item[total\\textbackslash{}\\_rooms] ''\n\\item[total\\textbackslash{}\\_bedrooms] 'pmm'\n\\item[population] ''\n\\item[households] ''\n\\item[median\\textbackslash{}\\_income] ''\n\\item[median\\textbackslash{}\\_house\\textbackslash{}\\_value] ''\n\\item[ocean\\textbackslash{}\\_proximity] ''\n\\end{description*}\n",
            "text/markdown": "longitude\n:   ''latitude\n:   ''housing_median_age\n:   ''total_rooms\n:   ''total_bedrooms\n:   'pmm'population\n:   ''households\n:   ''median_income\n:   ''median_house_value\n:   ''ocean_proximity\n:   ''\n\n",
            "text/html": [
              "<style>\n",
              ".dl-inline {width: auto; margin:0; padding: 0}\n",
              ".dl-inline>dt, .dl-inline>dd {float: none; width: auto; display: inline-block}\n",
              ".dl-inline>dt::after {content: \":\\0020\"; padding-right: .5ex}\n",
              ".dl-inline>dt:not(:first-of-type) {padding-left: .5ex}\n",
              "</style><dl class=dl-inline><dt>longitude</dt><dd>''</dd><dt>latitude</dt><dd>''</dd><dt>housing_median_age</dt><dd>''</dd><dt>total_rooms</dt><dd>''</dd><dt>total_bedrooms</dt><dd>'pmm'</dd><dt>population</dt><dd>''</dd><dt>households</dt><dd>''</dd><dt>median_income</dt><dd>''</dd><dt>median_house_value</dt><dd>''</dd><dt>ocean_proximity</dt><dd>''</dd></dl>\n"
            ]
          },
          "metadata": {
            "tags": []
          }
        }
      ]
    },
    {
      "cell_type": "code",
      "metadata": {
        "id": "_gNhn8sGeyot",
        "colab_type": "code",
        "colab": {
          "base_uri": "https://localhost:8080/",
          "height": 291
        },
        "outputId": "e6fdd682-fe54-41ec-b3bc-b9cbdb82006e"
      },
      "source": [
        "predM"
      ],
      "execution_count": null,
      "outputs": [
        {
          "output_type": "display_data",
          "data": {
            "text/plain": [
              "                   longitude latitude housing_median_age total_rooms\n",
              "longitude          0         1        1                  1          \n",
              "latitude           1         0        1                  1          \n",
              "housing_median_age 1         1        0                  1          \n",
              "total_rooms        1         1        1                  0          \n",
              "total_bedrooms     1         1        1                  1          \n",
              "population         1         1        1                  1          \n",
              "households         1         1        1                  1          \n",
              "median_income      1         1        1                  1          \n",
              "median_house_value 1         1        1                  1          \n",
              "ocean_proximity    1         1        1                  1          \n",
              "                   total_bedrooms population households median_income\n",
              "longitude          1              1          1          1            \n",
              "latitude           1              1          1          1            \n",
              "housing_median_age 1              1          1          1            \n",
              "total_rooms        1              1          1          1            \n",
              "total_bedrooms     0              1          1          1            \n",
              "population         1              0          1          1            \n",
              "households         1              1          0          1            \n",
              "median_income      1              1          1          0            \n",
              "median_house_value 1              1          1          1            \n",
              "ocean_proximity    1              1          1          1            \n",
              "                   median_house_value ocean_proximity\n",
              "longitude          1                  1              \n",
              "latitude           1                  1              \n",
              "housing_median_age 1                  1              \n",
              "total_rooms        1                  1              \n",
              "total_bedrooms     1                  1              \n",
              "population         1                  1              \n",
              "households         1                  1              \n",
              "median_income      1                  1              \n",
              "median_house_value 0                  1              \n",
              "ocean_proximity    1                  0              "
            ],
            "text/latex": "A matrix: 10 × 10 of type dbl\n\\begin{tabular}{r|llllllllll}\n  & longitude & latitude & housing\\_median\\_age & total\\_rooms & total\\_bedrooms & population & households & median\\_income & median\\_house\\_value & ocean\\_proximity\\\\\n\\hline\n\tlongitude & 0 & 1 & 1 & 1 & 1 & 1 & 1 & 1 & 1 & 1\\\\\n\tlatitude & 1 & 0 & 1 & 1 & 1 & 1 & 1 & 1 & 1 & 1\\\\\n\thousing\\_median\\_age & 1 & 1 & 0 & 1 & 1 & 1 & 1 & 1 & 1 & 1\\\\\n\ttotal\\_rooms & 1 & 1 & 1 & 0 & 1 & 1 & 1 & 1 & 1 & 1\\\\\n\ttotal\\_bedrooms & 1 & 1 & 1 & 1 & 0 & 1 & 1 & 1 & 1 & 1\\\\\n\tpopulation & 1 & 1 & 1 & 1 & 1 & 0 & 1 & 1 & 1 & 1\\\\\n\thouseholds & 1 & 1 & 1 & 1 & 1 & 1 & 0 & 1 & 1 & 1\\\\\n\tmedian\\_income & 1 & 1 & 1 & 1 & 1 & 1 & 1 & 0 & 1 & 1\\\\\n\tmedian\\_house\\_value & 1 & 1 & 1 & 1 & 1 & 1 & 1 & 1 & 0 & 1\\\\\n\tocean\\_proximity & 1 & 1 & 1 & 1 & 1 & 1 & 1 & 1 & 1 & 0\\\\\n\\end{tabular}\n",
            "text/markdown": "\nA matrix: 10 × 10 of type dbl\n\n| <!--/--> | longitude | latitude | housing_median_age | total_rooms | total_bedrooms | population | households | median_income | median_house_value | ocean_proximity |\n|---|---|---|---|---|---|---|---|---|---|---|\n| longitude | 0 | 1 | 1 | 1 | 1 | 1 | 1 | 1 | 1 | 1 |\n| latitude | 1 | 0 | 1 | 1 | 1 | 1 | 1 | 1 | 1 | 1 |\n| housing_median_age | 1 | 1 | 0 | 1 | 1 | 1 | 1 | 1 | 1 | 1 |\n| total_rooms | 1 | 1 | 1 | 0 | 1 | 1 | 1 | 1 | 1 | 1 |\n| total_bedrooms | 1 | 1 | 1 | 1 | 0 | 1 | 1 | 1 | 1 | 1 |\n| population | 1 | 1 | 1 | 1 | 1 | 0 | 1 | 1 | 1 | 1 |\n| households | 1 | 1 | 1 | 1 | 1 | 1 | 0 | 1 | 1 | 1 |\n| median_income | 1 | 1 | 1 | 1 | 1 | 1 | 1 | 0 | 1 | 1 |\n| median_house_value | 1 | 1 | 1 | 1 | 1 | 1 | 1 | 1 | 0 | 1 |\n| ocean_proximity | 1 | 1 | 1 | 1 | 1 | 1 | 1 | 1 | 1 | 0 |\n\n",
            "text/html": [
              "<table>\n",
              "<caption>A matrix: 10 × 10 of type dbl</caption>\n",
              "<thead>\n",
              "\t<tr><th></th><th scope=col>longitude</th><th scope=col>latitude</th><th scope=col>housing_median_age</th><th scope=col>total_rooms</th><th scope=col>total_bedrooms</th><th scope=col>population</th><th scope=col>households</th><th scope=col>median_income</th><th scope=col>median_house_value</th><th scope=col>ocean_proximity</th></tr>\n",
              "</thead>\n",
              "<tbody>\n",
              "\t<tr><th scope=row>longitude</th><td>0</td><td>1</td><td>1</td><td>1</td><td>1</td><td>1</td><td>1</td><td>1</td><td>1</td><td>1</td></tr>\n",
              "\t<tr><th scope=row>latitude</th><td>1</td><td>0</td><td>1</td><td>1</td><td>1</td><td>1</td><td>1</td><td>1</td><td>1</td><td>1</td></tr>\n",
              "\t<tr><th scope=row>housing_median_age</th><td>1</td><td>1</td><td>0</td><td>1</td><td>1</td><td>1</td><td>1</td><td>1</td><td>1</td><td>1</td></tr>\n",
              "\t<tr><th scope=row>total_rooms</th><td>1</td><td>1</td><td>1</td><td>0</td><td>1</td><td>1</td><td>1</td><td>1</td><td>1</td><td>1</td></tr>\n",
              "\t<tr><th scope=row>total_bedrooms</th><td>1</td><td>1</td><td>1</td><td>1</td><td>0</td><td>1</td><td>1</td><td>1</td><td>1</td><td>1</td></tr>\n",
              "\t<tr><th scope=row>population</th><td>1</td><td>1</td><td>1</td><td>1</td><td>1</td><td>0</td><td>1</td><td>1</td><td>1</td><td>1</td></tr>\n",
              "\t<tr><th scope=row>households</th><td>1</td><td>1</td><td>1</td><td>1</td><td>1</td><td>1</td><td>0</td><td>1</td><td>1</td><td>1</td></tr>\n",
              "\t<tr><th scope=row>median_income</th><td>1</td><td>1</td><td>1</td><td>1</td><td>1</td><td>1</td><td>1</td><td>0</td><td>1</td><td>1</td></tr>\n",
              "\t<tr><th scope=row>median_house_value</th><td>1</td><td>1</td><td>1</td><td>1</td><td>1</td><td>1</td><td>1</td><td>1</td><td>0</td><td>1</td></tr>\n",
              "\t<tr><th scope=row>ocean_proximity</th><td>1</td><td>1</td><td>1</td><td>1</td><td>1</td><td>1</td><td>1</td><td>1</td><td>1</td><td>0</td></tr>\n",
              "</tbody>\n",
              "</table>\n"
            ]
          },
          "metadata": {
            "tags": []
          }
        }
      ]
    },
    {
      "cell_type": "code",
      "metadata": {
        "id": "LAd0nZvte8vZ",
        "colab_type": "code",
        "colab": {}
      },
      "source": [
        "dplyr\n",
        "As principais funções do dplyr são:\n",
        "\n",
        "    filter() - filtra linhas;\n",
        "    select() - seleciona colunas\n",
        "    mutate() - cria/modifica colunas\n",
        "    arrange() - ordena a base\n",
        "    summarise() - sumariza a base\n",
        "http://material.curso-r.com/manip/\n"
      ],
      "execution_count": null,
      "outputs": []
    },
    {
      "cell_type": "code",
      "metadata": {
        "id": "qozrcDEXLhU_",
        "colab_type": "code",
        "colab": {}
      },
      "source": [
        "imputed <- data.frame(nome = c(1,2,3,4),\n",
        "                           sexo = c(1,2,3,NA),\n",
        "                           salario = c(1000, 1200, 1300,300),\n",
        "                           stringsAsFactors = FALSE)\n",
        "imp1 <- complete(imputed,salario)"
      ],
      "execution_count": null,
      "outputs": []
    },
    {
      "cell_type": "code",
      "metadata": {
        "id": "0BiE_sebMAAN",
        "colab_type": "code",
        "colab": {
          "base_uri": "https://localhost:8080/",
          "height": 521
        },
        "outputId": "f595814b-566f-4d83-b7f7-18a5aac693bd"
      },
      "source": [
        "imp1 <-mice(imputed)"
      ],
      "execution_count": null,
      "outputs": [
        {
          "output_type": "stream",
          "text": [
            "\n",
            " iter imp variable\n",
            "  1   1\n",
            "  1   2\n",
            "  1   3\n",
            "  1   4\n",
            "  1   5\n",
            "  2   1\n",
            "  2   2\n",
            "  2   3\n",
            "  2   4\n",
            "  2   5\n",
            "  3   1\n",
            "  3   2\n",
            "  3   3\n",
            "  3   4\n",
            "  3   5\n",
            "  4   1\n",
            "  4   2\n",
            "  4   3\n",
            "  4   4\n",
            "  4   5\n",
            "  5   1\n",
            "  5   2\n",
            "  5   3\n",
            "  5   4\n",
            "  5   5\n"
          ],
          "name": "stdout"
        },
        {
          "output_type": "stream",
          "text": [
            "Warning message:\n",
            "“Number of logged events: 1”\n"
          ],
          "name": "stderr"
        }
      ]
    },
    {
      "cell_type": "code",
      "metadata": {
        "id": "GMmyl1PLSUTS",
        "colab_type": "code",
        "colab": {
          "base_uri": "https://localhost:8080/",
          "height": 243
        },
        "outputId": "8cbc8347-349e-4683-c50b-4d7a9159b7f6"
      },
      "source": [
        "imp1"
      ],
      "execution_count": null,
      "outputs": [
        {
          "output_type": "display_data",
          "data": {
            "text/plain": [
              "Class: mids\n",
              "Number of multiple imputations:  5 \n",
              "Imputation methods:\n",
              "   nome    sexo salario \n",
              "     \"\"      \"\"      \"\" \n",
              "PredictorMatrix:\n",
              "        nome sexo salario\n",
              "nome       0    0       1\n",
              "sexo       0    0       0\n",
              "salario    1    0       0\n",
              "Number of logged events:  1 \n",
              "  it im dep      meth  out\n",
              "1  0  0     collinear sexo"
            ]
          },
          "metadata": {
            "tags": []
          }
        }
      ]
    },
    {
      "cell_type": "code",
      "metadata": {
        "id": "rAcZ6KojStnk",
        "colab_type": "code",
        "colab": {}
      },
      "source": [
        ""
      ],
      "execution_count": null,
      "outputs": []
    }
  ]
}